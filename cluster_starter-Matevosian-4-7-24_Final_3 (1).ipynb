{
 "cells": [
  {
   "cell_type": "code",
   "execution_count": 1,
   "metadata": {},
   "outputs": [],
   "source": [
    "import numpy as np\n",
    "import pandas as pd\n",
    "import matplotlib.pyplot as plt\n",
    "import webbrowser\n",
    " \n",
    "%matplotlib inline"
   ]
  },
  {
   "cell_type": "markdown",
   "metadata": {},
   "source": [
    "## read and describe the metadata"
   ]
  },
  {
   "cell_type": "code",
   "execution_count": 2,
   "metadata": {},
   "outputs": [],
   "source": [
    "fpn_csv = '/Users/animatevosian/Desktop/ml/final_assignment_3/option_2/cluster_images.csv'\n",
    "data = pd.read_csv(fpn_csv, encoding='ISO-8859-1')"
   ]
  },
  {
   "cell_type": "code",
   "execution_count": 3,
   "metadata": {},
   "outputs": [
    {
     "data": {
      "text/plain": [
       "['s_no',\n",
       " 'artist',\n",
       " 'title',\n",
       " 'art_movement',\n",
       " 'museum_venue',\n",
       " 'country_of_origin',\n",
       " 'has_text',\n",
       " 'primary_medium',\n",
       " 'medium',\n",
       " 'work_size',\n",
       " 'date',\n",
       " 'representation',\n",
       " 'representation_semi',\n",
       " 'kinetic',\n",
       " 'map',\n",
       " 'map2',\n",
       " 'spatial_dimension',\n",
       " 'spatial_dimension2',\n",
       " 'pl',\n",
       " 'si',\n",
       " 'va',\n",
       " 'te',\n",
       " 'co',\n",
       " 'or',\n",
       " 'sh',\n",
       " 'reflection',\n",
       " 'po',\n",
       " 'li',\n",
       " 'ar',\n",
       " 'notes']"
      ]
     },
     "execution_count": 3,
     "metadata": {},
     "output_type": "execute_result"
    }
   ],
   "source": [
    "# get column names\n",
    "list(data)"
   ]
  },
  {
   "cell_type": "code",
   "execution_count": 4,
   "metadata": {},
   "outputs": [
    {
     "data": {
      "text/html": [
       "<div>\n",
       "<style scoped>\n",
       "    .dataframe tbody tr th:only-of-type {\n",
       "        vertical-align: middle;\n",
       "    }\n",
       "\n",
       "    .dataframe tbody tr th {\n",
       "        vertical-align: top;\n",
       "    }\n",
       "\n",
       "    .dataframe thead th {\n",
       "        text-align: right;\n",
       "    }\n",
       "</style>\n",
       "<table border=\"1\" class=\"dataframe\">\n",
       "  <thead>\n",
       "    <tr style=\"text-align: right;\">\n",
       "      <th></th>\n",
       "      <th>s_no</th>\n",
       "      <th>artist</th>\n",
       "      <th>title</th>\n",
       "      <th>art_movement</th>\n",
       "      <th>museum_venue</th>\n",
       "      <th>country_of_origin</th>\n",
       "      <th>has_text</th>\n",
       "      <th>primary_medium</th>\n",
       "      <th>medium</th>\n",
       "      <th>work_size</th>\n",
       "      <th>...</th>\n",
       "      <th>va</th>\n",
       "      <th>te</th>\n",
       "      <th>co</th>\n",
       "      <th>or</th>\n",
       "      <th>sh</th>\n",
       "      <th>reflection</th>\n",
       "      <th>po</th>\n",
       "      <th>li</th>\n",
       "      <th>ar</th>\n",
       "      <th>notes</th>\n",
       "    </tr>\n",
       "  </thead>\n",
       "  <tbody>\n",
       "    <tr>\n",
       "      <th>0</th>\n",
       "      <td>2</td>\n",
       "      <td>Giorgio de Chirico</td>\n",
       "      <td>The Uncertainty of the Poet</td>\n",
       "      <td>surrealism</td>\n",
       "      <td>Tate</td>\n",
       "      <td>Italy</td>\n",
       "      <td>False</td>\n",
       "      <td>painting</td>\n",
       "      <td>painting, oil on canvas</td>\n",
       "      <td>106 x 94 cm</td>\n",
       "      <td>...</td>\n",
       "      <td>3</td>\n",
       "      <td>0</td>\n",
       "      <td>0</td>\n",
       "      <td>4</td>\n",
       "      <td>3</td>\n",
       "      <td>False</td>\n",
       "      <td>0</td>\n",
       "      <td>0</td>\n",
       "      <td>5</td>\n",
       "      <td>distorted perspective, shadow, signification o...</td>\n",
       "    </tr>\n",
       "    <tr>\n",
       "      <th>1</th>\n",
       "      <td>3</td>\n",
       "      <td>Giovanni Anselmo</td>\n",
       "      <td>Direction</td>\n",
       "      <td>arte povera</td>\n",
       "      <td>Tate</td>\n",
       "      <td>Italy</td>\n",
       "      <td>False</td>\n",
       "      <td>sculpture</td>\n",
       "      <td>sculpture, fabric, glass &amp; metal</td>\n",
       "      <td>24 x 420 x 335 cm</td>\n",
       "      <td>...</td>\n",
       "      <td>1</td>\n",
       "      <td>3</td>\n",
       "      <td>0</td>\n",
       "      <td>3</td>\n",
       "      <td>2</td>\n",
       "      <td>False</td>\n",
       "      <td>0</td>\n",
       "      <td>0</td>\n",
       "      <td>5</td>\n",
       "      <td>hard to understand the viewpoint, sense of for...</td>\n",
       "    </tr>\n",
       "    <tr>\n",
       "      <th>2</th>\n",
       "      <td>4</td>\n",
       "      <td>Milton Avery</td>\n",
       "      <td>Yellow Sky</td>\n",
       "      <td>modernism</td>\n",
       "      <td>Tate</td>\n",
       "      <td>America</td>\n",
       "      <td>False</td>\n",
       "      <td>painting</td>\n",
       "      <td>painting, oil on canvas</td>\n",
       "      <td>156 x 184 cm</td>\n",
       "      <td>...</td>\n",
       "      <td>2</td>\n",
       "      <td>4</td>\n",
       "      <td>4</td>\n",
       "      <td>2</td>\n",
       "      <td>4</td>\n",
       "      <td>False</td>\n",
       "      <td>0</td>\n",
       "      <td>0</td>\n",
       "      <td>5</td>\n",
       "      <td>flatish, textured shapes &amp; specific colors-lin...</td>\n",
       "    </tr>\n",
       "    <tr>\n",
       "      <th>3</th>\n",
       "      <td>5</td>\n",
       "      <td>Gillian Avery</td>\n",
       "      <td>Distillation</td>\n",
       "      <td>abstraction</td>\n",
       "      <td>Tate</td>\n",
       "      <td>UK</td>\n",
       "      <td>False</td>\n",
       "      <td>painting</td>\n",
       "      <td>painting, oil, household paint on hardboard</td>\n",
       "      <td>213 x 152 cm</td>\n",
       "      <td>...</td>\n",
       "      <td>1</td>\n",
       "      <td>2</td>\n",
       "      <td>0</td>\n",
       "      <td>2</td>\n",
       "      <td>4</td>\n",
       "      <td>False</td>\n",
       "      <td>0</td>\n",
       "      <td>0</td>\n",
       "      <td>5</td>\n",
       "      <td>shapes, layers, paint handlng/texture, orienta...</td>\n",
       "    </tr>\n",
       "    <tr>\n",
       "      <th>4</th>\n",
       "      <td>6</td>\n",
       "      <td>Joseph (Jef) Banc</td>\n",
       "      <td>Pair-Bearing Matrix</td>\n",
       "      <td>abstraction</td>\n",
       "      <td>Tate</td>\n",
       "      <td>France</td>\n",
       "      <td>False</td>\n",
       "      <td>painting</td>\n",
       "      <td>painting, mixed media on canvas</td>\n",
       "      <td>73 x 60 cm</td>\n",
       "      <td>...</td>\n",
       "      <td>1</td>\n",
       "      <td>4</td>\n",
       "      <td>1</td>\n",
       "      <td>0</td>\n",
       "      <td>4</td>\n",
       "      <td>False</td>\n",
       "      <td>0</td>\n",
       "      <td>0</td>\n",
       "      <td>5</td>\n",
       "      <td>ambiguity through abstraction, odd shape, v te...</td>\n",
       "    </tr>\n",
       "  </tbody>\n",
       "</table>\n",
       "<p>5 rows × 30 columns</p>\n",
       "</div>"
      ],
      "text/plain": [
       "   s_no              artist                         title art_movement  \\\n",
       "0     2  Giorgio de Chirico  The Uncertainty of the Poet    surrealism   \n",
       "1     3    Giovanni Anselmo                     Direction  arte povera   \n",
       "2     4        Milton Avery                   Yellow Sky     modernism   \n",
       "3     5       Gillian Avery                  Distillation  abstraction   \n",
       "4     6   Joseph (Jef) Banc          Pair-Bearing Matrix   abstraction   \n",
       "\n",
       "  museum_venue country_of_origin  has_text primary_medium  \\\n",
       "0         Tate             Italy     False       painting   \n",
       "1         Tate             Italy     False      sculpture   \n",
       "2         Tate           America     False       painting   \n",
       "3         Tate                UK     False       painting   \n",
       "4         Tate            France     False       painting   \n",
       "\n",
       "                                        medium          work_size  ... va  te  \\\n",
       "0                      painting, oil on canvas        106 x 94 cm  ...  3   0   \n",
       "1             sculpture, fabric, glass & metal  24 x 420 x 335 cm  ...  1   3   \n",
       "2                      painting, oil on canvas       156 x 184 cm  ...  2   4   \n",
       "3  painting, oil, household paint on hardboard       213 x 152 cm  ...  1   2   \n",
       "4              painting, mixed media on canvas         73 x 60 cm  ...  1   4   \n",
       "\n",
       "   co  or  sh  reflection  po  li  ar  \\\n",
       "0   0   4   3       False   0   0   5   \n",
       "1   0   3   2       False   0   0   5   \n",
       "2   4   2   4       False   0   0   5   \n",
       "3   0   2   4       False   0   0   5   \n",
       "4   1   0   4       False   0   0   5   \n",
       "\n",
       "                                               notes  \n",
       "0  distorted perspective, shadow, signification o...  \n",
       "1  hard to understand the viewpoint, sense of for...  \n",
       "2  flatish, textured shapes & specific colors-lin...  \n",
       "3  shapes, layers, paint handlng/texture, orienta...  \n",
       "4  ambiguity through abstraction, odd shape, v te...  \n",
       "\n",
       "[5 rows x 30 columns]"
      ]
     },
     "execution_count": 4,
     "metadata": {},
     "output_type": "execute_result"
    }
   ],
   "source": [
    "data.head()"
   ]
  },
  {
   "cell_type": "markdown",
   "metadata": {},
   "source": [
    "## create a subset of the columns you will use to fit KMeans\n",
    "\n",
    "<!-- Here, I am **arbitrarily** choosing the seven [visual variables defined by Bertin](https://infovis-wiki.net/wiki/Visual_Variables). Variable descriptions [here](https://github.com/visualizedata/ml/blob/master/ML_assignment_3/option_2/contents-of-cluster_images.csv).  -->\n",
    "\n",
    "You should choose the columns that you decide will best define the clusters. You may need to make transformations on existing variables. \n",
    "I chose the following variables:\n",
    " \n",
    "\n",
    "- **representation**: indicates the work represents some aspect of reality, =TRUE if the work is **very** representational\n",
    "- **representation_semi**: indicates the work represents some aspect of reality, =TRUE if the work is **somewhat** representational\n",
    "- **kinetic**: indicates the work moves or has movement\t\n",
    "- **ar**: An AREA signifies something on the plane that has a measurable size. This signification applies to the entire area covered by the visible mark.\t\n",
    "- **te**: variation in the fineness or coarseness of an area having a given value; includes blur\t\n",
    "- **spatial_dimension**: indicates the work is an object that is occupying physical space in more than 2 dimensions (height in addition to length and width), where =TRUE if work is the work is **strongly** spatial\n",
    "- **spatial_dimension2**: indicates the work is an object that is occupying physical space in more than 2 dimensions (height in addition to length and width), where =TRUE if work is the work is **somewhat** spatial\n",
    "- **art_movement**: name of art movement\t\n",
    "\n",
    " I wanted to approach clustering the artworks in a comprehensive way, by including diverse artistic qualities. \"Representation\" and \"Representation_semi\" gauge the degree of realism, aiding in grouping artworks with shared themes and visual styles. \"Kinetic\" identifies artworks with movement, potentially grouping pieces with similar energy. \"Ar\" which focuses on the area, and “Te” which focuses on variation in texture, contributes to clustering based on spatial composition and aesthetic features of the art. \"Spatial Dimension\" and \"Spatial Dimension2\" distinguish artworks by their physical presence, allowing for clustering based on sculptural or installation qualities. Together, these variables offer a broad view of artistic characteristics, enabling the identification of cohesive clusters based on shared themes, composition, visual qualities, techniques, and spatial elements. "
   ]
  },
  {
   "cell_type": "code",
   "execution_count": 5,
   "metadata": {},
   "outputs": [],
   "source": [
    "# X = data[['va', 'si','te','po','li','sh','or','representation','representation_semi']] #lots of visually similar ones\n",
    "X = data[['representation_semi','representation','art_movement','kinetic','ar','te','spatial_dimension2','spatial_dimension']] ##- 4/ 7 / 24\n"
   ]
  },
  {
   "cell_type": "code",
   "execution_count": 6,
   "metadata": {},
   "outputs": [
    {
     "data": {
      "text/html": [
       "<div>\n",
       "<style scoped>\n",
       "    .dataframe tbody tr th:only-of-type {\n",
       "        vertical-align: middle;\n",
       "    }\n",
       "\n",
       "    .dataframe tbody tr th {\n",
       "        vertical-align: top;\n",
       "    }\n",
       "\n",
       "    .dataframe thead th {\n",
       "        text-align: right;\n",
       "    }\n",
       "</style>\n",
       "<table border=\"1\" class=\"dataframe\">\n",
       "  <thead>\n",
       "    <tr style=\"text-align: right;\">\n",
       "      <th></th>\n",
       "      <th>representation_semi</th>\n",
       "      <th>representation</th>\n",
       "      <th>art_movement</th>\n",
       "      <th>kinetic</th>\n",
       "      <th>ar</th>\n",
       "      <th>te</th>\n",
       "      <th>spatial_dimension2</th>\n",
       "      <th>spatial_dimension</th>\n",
       "    </tr>\n",
       "  </thead>\n",
       "  <tbody>\n",
       "    <tr>\n",
       "      <th>0</th>\n",
       "      <td>False</td>\n",
       "      <td>True</td>\n",
       "      <td>surrealism</td>\n",
       "      <td>False</td>\n",
       "      <td>5</td>\n",
       "      <td>0</td>\n",
       "      <td>False</td>\n",
       "      <td>False</td>\n",
       "    </tr>\n",
       "    <tr>\n",
       "      <th>1</th>\n",
       "      <td>False</td>\n",
       "      <td>True</td>\n",
       "      <td>arte povera</td>\n",
       "      <td>False</td>\n",
       "      <td>5</td>\n",
       "      <td>3</td>\n",
       "      <td>False</td>\n",
       "      <td>True</td>\n",
       "    </tr>\n",
       "    <tr>\n",
       "      <th>2</th>\n",
       "      <td>False</td>\n",
       "      <td>True</td>\n",
       "      <td>modernism</td>\n",
       "      <td>False</td>\n",
       "      <td>5</td>\n",
       "      <td>4</td>\n",
       "      <td>False</td>\n",
       "      <td>False</td>\n",
       "    </tr>\n",
       "    <tr>\n",
       "      <th>3</th>\n",
       "      <td>False</td>\n",
       "      <td>False</td>\n",
       "      <td>abstraction</td>\n",
       "      <td>False</td>\n",
       "      <td>5</td>\n",
       "      <td>2</td>\n",
       "      <td>True</td>\n",
       "      <td>False</td>\n",
       "    </tr>\n",
       "    <tr>\n",
       "      <th>4</th>\n",
       "      <td>False</td>\n",
       "      <td>False</td>\n",
       "      <td>abstraction</td>\n",
       "      <td>False</td>\n",
       "      <td>5</td>\n",
       "      <td>4</td>\n",
       "      <td>False</td>\n",
       "      <td>False</td>\n",
       "    </tr>\n",
       "  </tbody>\n",
       "</table>\n",
       "</div>"
      ],
      "text/plain": [
       "   representation_semi  representation art_movement  kinetic  ar  te  \\\n",
       "0                False            True   surrealism    False   5   0   \n",
       "1                False            True  arte povera    False   5   3   \n",
       "2                False            True    modernism    False   5   4   \n",
       "3                False           False  abstraction    False   5   2   \n",
       "4                False           False  abstraction    False   5   4   \n",
       "\n",
       "   spatial_dimension2  spatial_dimension  \n",
       "0               False              False  \n",
       "1               False               True  \n",
       "2               False              False  \n",
       "3                True              False  \n",
       "4               False              False  "
      ]
     },
     "execution_count": 6,
     "metadata": {},
     "output_type": "execute_result"
    }
   ],
   "source": [
    "X.head()"
   ]
  },
  {
   "cell_type": "markdown",
   "metadata": {},
   "source": [
    "# KMeans"
   ]
  },
  {
   "cell_type": "code",
   "execution_count": 7,
   "metadata": {},
   "outputs": [],
   "source": [
    "from sklearn.cluster import KMeans"
   ]
  },
  {
   "cell_type": "markdown",
   "metadata": {},
   "source": [
    "## plot inertia scores by number of clusters"
   ]
  },
  {
   "cell_type": "code",
   "execution_count": 8,
   "metadata": {},
   "outputs": [
    {
     "name": "stderr",
     "output_type": "stream",
     "text": [
      "/Users/animatevosian/anaconda3/lib/python3.11/site-packages/sklearn/cluster/_kmeans.py:1412: FutureWarning: The default value of `n_init` will change from 10 to 'auto' in 1.4. Set the value of `n_init` explicitly to suppress the warning\n",
      "  super()._check_params_vs_input(X, default_n_init=10)\n",
      "/Users/animatevosian/anaconda3/lib/python3.11/site-packages/sklearn/cluster/_kmeans.py:1412: FutureWarning: The default value of `n_init` will change from 10 to 'auto' in 1.4. Set the value of `n_init` explicitly to suppress the warning\n",
      "  super()._check_params_vs_input(X, default_n_init=10)\n",
      "/Users/animatevosian/anaconda3/lib/python3.11/site-packages/sklearn/cluster/_kmeans.py:1412: FutureWarning: The default value of `n_init` will change from 10 to 'auto' in 1.4. Set the value of `n_init` explicitly to suppress the warning\n",
      "  super()._check_params_vs_input(X, default_n_init=10)\n",
      "/Users/animatevosian/anaconda3/lib/python3.11/site-packages/sklearn/cluster/_kmeans.py:1412: FutureWarning: The default value of `n_init` will change from 10 to 'auto' in 1.4. Set the value of `n_init` explicitly to suppress the warning\n",
      "  super()._check_params_vs_input(X, default_n_init=10)\n",
      "/Users/animatevosian/anaconda3/lib/python3.11/site-packages/sklearn/cluster/_kmeans.py:1412: FutureWarning: The default value of `n_init` will change from 10 to 'auto' in 1.4. Set the value of `n_init` explicitly to suppress the warning\n",
      "  super()._check_params_vs_input(X, default_n_init=10)\n",
      "/Users/animatevosian/anaconda3/lib/python3.11/site-packages/sklearn/cluster/_kmeans.py:1412: FutureWarning: The default value of `n_init` will change from 10 to 'auto' in 1.4. Set the value of `n_init` explicitly to suppress the warning\n",
      "  super()._check_params_vs_input(X, default_n_init=10)\n",
      "/Users/animatevosian/anaconda3/lib/python3.11/site-packages/sklearn/cluster/_kmeans.py:1412: FutureWarning: The default value of `n_init` will change from 10 to 'auto' in 1.4. Set the value of `n_init` explicitly to suppress the warning\n",
      "  super()._check_params_vs_input(X, default_n_init=10)\n",
      "/Users/animatevosian/anaconda3/lib/python3.11/site-packages/sklearn/cluster/_kmeans.py:1412: FutureWarning: The default value of `n_init` will change from 10 to 'auto' in 1.4. Set the value of `n_init` explicitly to suppress the warning\n",
      "  super()._check_params_vs_input(X, default_n_init=10)\n",
      "/Users/animatevosian/anaconda3/lib/python3.11/site-packages/sklearn/cluster/_kmeans.py:1412: FutureWarning: The default value of `n_init` will change from 10 to 'auto' in 1.4. Set the value of `n_init` explicitly to suppress the warning\n",
      "  super()._check_params_vs_input(X, default_n_init=10)\n",
      "/Users/animatevosian/anaconda3/lib/python3.11/site-packages/sklearn/cluster/_kmeans.py:1412: FutureWarning: The default value of `n_init` will change from 10 to 'auto' in 1.4. Set the value of `n_init` explicitly to suppress the warning\n",
      "  super()._check_params_vs_input(X, default_n_init=10)\n",
      "/Users/animatevosian/anaconda3/lib/python3.11/site-packages/sklearn/cluster/_kmeans.py:1412: FutureWarning: The default value of `n_init` will change from 10 to 'auto' in 1.4. Set the value of `n_init` explicitly to suppress the warning\n",
      "  super()._check_params_vs_input(X, default_n_init=10)\n",
      "/Users/animatevosian/anaconda3/lib/python3.11/site-packages/sklearn/cluster/_kmeans.py:1412: FutureWarning: The default value of `n_init` will change from 10 to 'auto' in 1.4. Set the value of `n_init` explicitly to suppress the warning\n",
      "  super()._check_params_vs_input(X, default_n_init=10)\n",
      "/Users/animatevosian/anaconda3/lib/python3.11/site-packages/sklearn/cluster/_kmeans.py:1412: FutureWarning: The default value of `n_init` will change from 10 to 'auto' in 1.4. Set the value of `n_init` explicitly to suppress the warning\n",
      "  super()._check_params_vs_input(X, default_n_init=10)\n",
      "/Users/animatevosian/anaconda3/lib/python3.11/site-packages/sklearn/cluster/_kmeans.py:1412: FutureWarning: The default value of `n_init` will change from 10 to 'auto' in 1.4. Set the value of `n_init` explicitly to suppress the warning\n",
      "  super()._check_params_vs_input(X, default_n_init=10)\n",
      "/Users/animatevosian/anaconda3/lib/python3.11/site-packages/sklearn/cluster/_kmeans.py:1412: FutureWarning: The default value of `n_init` will change from 10 to 'auto' in 1.4. Set the value of `n_init` explicitly to suppress the warning\n",
      "  super()._check_params_vs_input(X, default_n_init=10)\n",
      "/Users/animatevosian/anaconda3/lib/python3.11/site-packages/sklearn/cluster/_kmeans.py:1412: FutureWarning: The default value of `n_init` will change from 10 to 'auto' in 1.4. Set the value of `n_init` explicitly to suppress the warning\n",
      "  super()._check_params_vs_input(X, default_n_init=10)\n",
      "/Users/animatevosian/anaconda3/lib/python3.11/site-packages/sklearn/cluster/_kmeans.py:1412: FutureWarning: The default value of `n_init` will change from 10 to 'auto' in 1.4. Set the value of `n_init` explicitly to suppress the warning\n",
      "  super()._check_params_vs_input(X, default_n_init=10)\n",
      "/Users/animatevosian/anaconda3/lib/python3.11/site-packages/sklearn/cluster/_kmeans.py:1412: FutureWarning: The default value of `n_init` will change from 10 to 'auto' in 1.4. Set the value of `n_init` explicitly to suppress the warning\n",
      "  super()._check_params_vs_input(X, default_n_init=10)\n",
      "/Users/animatevosian/anaconda3/lib/python3.11/site-packages/sklearn/cluster/_kmeans.py:1412: FutureWarning: The default value of `n_init` will change from 10 to 'auto' in 1.4. Set the value of `n_init` explicitly to suppress the warning\n",
      "  super()._check_params_vs_input(X, default_n_init=10)\n",
      "/Users/animatevosian/anaconda3/lib/python3.11/site-packages/sklearn/cluster/_kmeans.py:1412: FutureWarning: The default value of `n_init` will change from 10 to 'auto' in 1.4. Set the value of `n_init` explicitly to suppress the warning\n",
      "  super()._check_params_vs_input(X, default_n_init=10)\n",
      "/Users/animatevosian/anaconda3/lib/python3.11/site-packages/sklearn/cluster/_kmeans.py:1412: FutureWarning: The default value of `n_init` will change from 10 to 'auto' in 1.4. Set the value of `n_init` explicitly to suppress the warning\n",
      "  super()._check_params_vs_input(X, default_n_init=10)\n",
      "/Users/animatevosian/anaconda3/lib/python3.11/site-packages/sklearn/cluster/_kmeans.py:1412: FutureWarning: The default value of `n_init` will change from 10 to 'auto' in 1.4. Set the value of `n_init` explicitly to suppress the warning\n",
      "  super()._check_params_vs_input(X, default_n_init=10)\n",
      "/Users/animatevosian/anaconda3/lib/python3.11/site-packages/sklearn/cluster/_kmeans.py:1412: FutureWarning: The default value of `n_init` will change from 10 to 'auto' in 1.4. Set the value of `n_init` explicitly to suppress the warning\n",
      "  super()._check_params_vs_input(X, default_n_init=10)\n",
      "/Users/animatevosian/anaconda3/lib/python3.11/site-packages/sklearn/cluster/_kmeans.py:1412: FutureWarning: The default value of `n_init` will change from 10 to 'auto' in 1.4. Set the value of `n_init` explicitly to suppress the warning\n",
      "  super()._check_params_vs_input(X, default_n_init=10)\n",
      "/Users/animatevosian/anaconda3/lib/python3.11/site-packages/sklearn/cluster/_kmeans.py:1412: FutureWarning: The default value of `n_init` will change from 10 to 'auto' in 1.4. Set the value of `n_init` explicitly to suppress the warning\n",
      "  super()._check_params_vs_input(X, default_n_init=10)\n",
      "/Users/animatevosian/anaconda3/lib/python3.11/site-packages/sklearn/cluster/_kmeans.py:1412: FutureWarning: The default value of `n_init` will change from 10 to 'auto' in 1.4. Set the value of `n_init` explicitly to suppress the warning\n",
      "  super()._check_params_vs_input(X, default_n_init=10)\n",
      "/Users/animatevosian/anaconda3/lib/python3.11/site-packages/sklearn/cluster/_kmeans.py:1412: FutureWarning: The default value of `n_init` will change from 10 to 'auto' in 1.4. Set the value of `n_init` explicitly to suppress the warning\n",
      "  super()._check_params_vs_input(X, default_n_init=10)\n",
      "/Users/animatevosian/anaconda3/lib/python3.11/site-packages/sklearn/cluster/_kmeans.py:1412: FutureWarning: The default value of `n_init` will change from 10 to 'auto' in 1.4. Set the value of `n_init` explicitly to suppress the warning\n",
      "  super()._check_params_vs_input(X, default_n_init=10)\n",
      "/Users/animatevosian/anaconda3/lib/python3.11/site-packages/sklearn/cluster/_kmeans.py:1412: FutureWarning: The default value of `n_init` will change from 10 to 'auto' in 1.4. Set the value of `n_init` explicitly to suppress the warning\n",
      "  super()._check_params_vs_input(X, default_n_init=10)\n",
      "/Users/animatevosian/anaconda3/lib/python3.11/site-packages/sklearn/cluster/_kmeans.py:1412: FutureWarning: The default value of `n_init` will change from 10 to 'auto' in 1.4. Set the value of `n_init` explicitly to suppress the warning\n",
      "  super()._check_params_vs_input(X, default_n_init=10)\n",
      "/Users/animatevosian/anaconda3/lib/python3.11/site-packages/sklearn/cluster/_kmeans.py:1412: FutureWarning: The default value of `n_init` will change from 10 to 'auto' in 1.4. Set the value of `n_init` explicitly to suppress the warning\n",
      "  super()._check_params_vs_input(X, default_n_init=10)\n",
      "/Users/animatevosian/anaconda3/lib/python3.11/site-packages/sklearn/cluster/_kmeans.py:1412: FutureWarning: The default value of `n_init` will change from 10 to 'auto' in 1.4. Set the value of `n_init` explicitly to suppress the warning\n",
      "  super()._check_params_vs_input(X, default_n_init=10)\n",
      "/Users/animatevosian/anaconda3/lib/python3.11/site-packages/sklearn/cluster/_kmeans.py:1412: FutureWarning: The default value of `n_init` will change from 10 to 'auto' in 1.4. Set the value of `n_init` explicitly to suppress the warning\n",
      "  super()._check_params_vs_input(X, default_n_init=10)\n",
      "/Users/animatevosian/anaconda3/lib/python3.11/site-packages/sklearn/cluster/_kmeans.py:1412: FutureWarning: The default value of `n_init` will change from 10 to 'auto' in 1.4. Set the value of `n_init` explicitly to suppress the warning\n",
      "  super()._check_params_vs_input(X, default_n_init=10)\n",
      "/Users/animatevosian/anaconda3/lib/python3.11/site-packages/sklearn/cluster/_kmeans.py:1412: FutureWarning: The default value of `n_init` will change from 10 to 'auto' in 1.4. Set the value of `n_init` explicitly to suppress the warning\n",
      "  super()._check_params_vs_input(X, default_n_init=10)\n",
      "/Users/animatevosian/anaconda3/lib/python3.11/site-packages/sklearn/cluster/_kmeans.py:1412: FutureWarning: The default value of `n_init` will change from 10 to 'auto' in 1.4. Set the value of `n_init` explicitly to suppress the warning\n",
      "  super()._check_params_vs_input(X, default_n_init=10)\n",
      "/Users/animatevosian/anaconda3/lib/python3.11/site-packages/sklearn/cluster/_kmeans.py:1412: FutureWarning: The default value of `n_init` will change from 10 to 'auto' in 1.4. Set the value of `n_init` explicitly to suppress the warning\n",
      "  super()._check_params_vs_input(X, default_n_init=10)\n",
      "/Users/animatevosian/anaconda3/lib/python3.11/site-packages/sklearn/cluster/_kmeans.py:1412: FutureWarning: The default value of `n_init` will change from 10 to 'auto' in 1.4. Set the value of `n_init` explicitly to suppress the warning\n",
      "  super()._check_params_vs_input(X, default_n_init=10)\n",
      "/Users/animatevosian/anaconda3/lib/python3.11/site-packages/sklearn/cluster/_kmeans.py:1412: FutureWarning: The default value of `n_init` will change from 10 to 'auto' in 1.4. Set the value of `n_init` explicitly to suppress the warning\n",
      "  super()._check_params_vs_input(X, default_n_init=10)\n",
      "/Users/animatevosian/anaconda3/lib/python3.11/site-packages/sklearn/cluster/_kmeans.py:1412: FutureWarning: The default value of `n_init` will change from 10 to 'auto' in 1.4. Set the value of `n_init` explicitly to suppress the warning\n",
      "  super()._check_params_vs_input(X, default_n_init=10)\n",
      "/Users/animatevosian/anaconda3/lib/python3.11/site-packages/sklearn/cluster/_kmeans.py:1412: FutureWarning: The default value of `n_init` will change from 10 to 'auto' in 1.4. Set the value of `n_init` explicitly to suppress the warning\n",
      "  super()._check_params_vs_input(X, default_n_init=10)\n",
      "/Users/animatevosian/anaconda3/lib/python3.11/site-packages/sklearn/cluster/_kmeans.py:1412: FutureWarning: The default value of `n_init` will change from 10 to 'auto' in 1.4. Set the value of `n_init` explicitly to suppress the warning\n",
      "  super()._check_params_vs_input(X, default_n_init=10)\n",
      "/Users/animatevosian/anaconda3/lib/python3.11/site-packages/sklearn/cluster/_kmeans.py:1412: FutureWarning: The default value of `n_init` will change from 10 to 'auto' in 1.4. Set the value of `n_init` explicitly to suppress the warning\n",
      "  super()._check_params_vs_input(X, default_n_init=10)\n",
      "/Users/animatevosian/anaconda3/lib/python3.11/site-packages/sklearn/cluster/_kmeans.py:1412: FutureWarning: The default value of `n_init` will change from 10 to 'auto' in 1.4. Set the value of `n_init` explicitly to suppress the warning\n",
      "  super()._check_params_vs_input(X, default_n_init=10)\n",
      "/Users/animatevosian/anaconda3/lib/python3.11/site-packages/sklearn/cluster/_kmeans.py:1412: FutureWarning: The default value of `n_init` will change from 10 to 'auto' in 1.4. Set the value of `n_init` explicitly to suppress the warning\n",
      "  super()._check_params_vs_input(X, default_n_init=10)\n",
      "/Users/animatevosian/anaconda3/lib/python3.11/site-packages/sklearn/cluster/_kmeans.py:1412: FutureWarning: The default value of `n_init` will change from 10 to 'auto' in 1.4. Set the value of `n_init` explicitly to suppress the warning\n",
      "  super()._check_params_vs_input(X, default_n_init=10)\n",
      "/Users/animatevosian/anaconda3/lib/python3.11/site-packages/sklearn/cluster/_kmeans.py:1412: FutureWarning: The default value of `n_init` will change from 10 to 'auto' in 1.4. Set the value of `n_init` explicitly to suppress the warning\n",
      "  super()._check_params_vs_input(X, default_n_init=10)\n",
      "/Users/animatevosian/anaconda3/lib/python3.11/site-packages/sklearn/cluster/_kmeans.py:1412: FutureWarning: The default value of `n_init` will change from 10 to 'auto' in 1.4. Set the value of `n_init` explicitly to suppress the warning\n",
      "  super()._check_params_vs_input(X, default_n_init=10)\n",
      "/Users/animatevosian/anaconda3/lib/python3.11/site-packages/sklearn/cluster/_kmeans.py:1412: FutureWarning: The default value of `n_init` will change from 10 to 'auto' in 1.4. Set the value of `n_init` explicitly to suppress the warning\n",
      "  super()._check_params_vs_input(X, default_n_init=10)\n",
      "/Users/animatevosian/anaconda3/lib/python3.11/site-packages/sklearn/cluster/_kmeans.py:1412: FutureWarning: The default value of `n_init` will change from 10 to 'auto' in 1.4. Set the value of `n_init` explicitly to suppress the warning\n",
      "  super()._check_params_vs_input(X, default_n_init=10)\n",
      "/Users/animatevosian/anaconda3/lib/python3.11/site-packages/sklearn/cluster/_kmeans.py:1412: FutureWarning: The default value of `n_init` will change from 10 to 'auto' in 1.4. Set the value of `n_init` explicitly to suppress the warning\n",
      "  super()._check_params_vs_input(X, default_n_init=10)\n",
      "/Users/animatevosian/anaconda3/lib/python3.11/site-packages/sklearn/cluster/_kmeans.py:1412: FutureWarning: The default value of `n_init` will change from 10 to 'auto' in 1.4. Set the value of `n_init` explicitly to suppress the warning\n",
      "  super()._check_params_vs_input(X, default_n_init=10)\n",
      "/Users/animatevosian/anaconda3/lib/python3.11/site-packages/sklearn/cluster/_kmeans.py:1412: FutureWarning: The default value of `n_init` will change from 10 to 'auto' in 1.4. Set the value of `n_init` explicitly to suppress the warning\n",
      "  super()._check_params_vs_input(X, default_n_init=10)\n",
      "/Users/animatevosian/anaconda3/lib/python3.11/site-packages/sklearn/cluster/_kmeans.py:1412: FutureWarning: The default value of `n_init` will change from 10 to 'auto' in 1.4. Set the value of `n_init` explicitly to suppress the warning\n",
      "  super()._check_params_vs_input(X, default_n_init=10)\n",
      "/Users/animatevosian/anaconda3/lib/python3.11/site-packages/sklearn/cluster/_kmeans.py:1412: FutureWarning: The default value of `n_init` will change from 10 to 'auto' in 1.4. Set the value of `n_init` explicitly to suppress the warning\n",
      "  super()._check_params_vs_input(X, default_n_init=10)\n",
      "/Users/animatevosian/anaconda3/lib/python3.11/site-packages/sklearn/cluster/_kmeans.py:1412: FutureWarning: The default value of `n_init` will change from 10 to 'auto' in 1.4. Set the value of `n_init` explicitly to suppress the warning\n",
      "  super()._check_params_vs_input(X, default_n_init=10)\n",
      "/Users/animatevosian/anaconda3/lib/python3.11/site-packages/sklearn/cluster/_kmeans.py:1412: FutureWarning: The default value of `n_init` will change from 10 to 'auto' in 1.4. Set the value of `n_init` explicitly to suppress the warning\n",
      "  super()._check_params_vs_input(X, default_n_init=10)\n",
      "/Users/animatevosian/anaconda3/lib/python3.11/site-packages/sklearn/cluster/_kmeans.py:1412: FutureWarning: The default value of `n_init` will change from 10 to 'auto' in 1.4. Set the value of `n_init` explicitly to suppress the warning\n",
      "  super()._check_params_vs_input(X, default_n_init=10)\n",
      "/Users/animatevosian/anaconda3/lib/python3.11/site-packages/sklearn/cluster/_kmeans.py:1412: FutureWarning: The default value of `n_init` will change from 10 to 'auto' in 1.4. Set the value of `n_init` explicitly to suppress the warning\n",
      "  super()._check_params_vs_input(X, default_n_init=10)\n",
      "/Users/animatevosian/anaconda3/lib/python3.11/site-packages/sklearn/cluster/_kmeans.py:1412: FutureWarning: The default value of `n_init` will change from 10 to 'auto' in 1.4. Set the value of `n_init` explicitly to suppress the warning\n",
      "  super()._check_params_vs_input(X, default_n_init=10)\n",
      "/Users/animatevosian/anaconda3/lib/python3.11/site-packages/sklearn/cluster/_kmeans.py:1412: FutureWarning: The default value of `n_init` will change from 10 to 'auto' in 1.4. Set the value of `n_init` explicitly to suppress the warning\n",
      "  super()._check_params_vs_input(X, default_n_init=10)\n",
      "/Users/animatevosian/anaconda3/lib/python3.11/site-packages/sklearn/cluster/_kmeans.py:1412: FutureWarning: The default value of `n_init` will change from 10 to 'auto' in 1.4. Set the value of `n_init` explicitly to suppress the warning\n",
      "  super()._check_params_vs_input(X, default_n_init=10)\n",
      "/Users/animatevosian/anaconda3/lib/python3.11/site-packages/sklearn/cluster/_kmeans.py:1412: FutureWarning: The default value of `n_init` will change from 10 to 'auto' in 1.4. Set the value of `n_init` explicitly to suppress the warning\n",
      "  super()._check_params_vs_input(X, default_n_init=10)\n",
      "/Users/animatevosian/anaconda3/lib/python3.11/site-packages/sklearn/cluster/_kmeans.py:1412: FutureWarning: The default value of `n_init` will change from 10 to 'auto' in 1.4. Set the value of `n_init` explicitly to suppress the warning\n",
      "  super()._check_params_vs_input(X, default_n_init=10)\n",
      "/Users/animatevosian/anaconda3/lib/python3.11/site-packages/sklearn/cluster/_kmeans.py:1412: FutureWarning: The default value of `n_init` will change from 10 to 'auto' in 1.4. Set the value of `n_init` explicitly to suppress the warning\n",
      "  super()._check_params_vs_input(X, default_n_init=10)\n",
      "/Users/animatevosian/anaconda3/lib/python3.11/site-packages/sklearn/cluster/_kmeans.py:1412: FutureWarning: The default value of `n_init` will change from 10 to 'auto' in 1.4. Set the value of `n_init` explicitly to suppress the warning\n",
      "  super()._check_params_vs_input(X, default_n_init=10)\n",
      "/Users/animatevosian/anaconda3/lib/python3.11/site-packages/sklearn/cluster/_kmeans.py:1412: FutureWarning: The default value of `n_init` will change from 10 to 'auto' in 1.4. Set the value of `n_init` explicitly to suppress the warning\n",
      "  super()._check_params_vs_input(X, default_n_init=10)\n",
      "/Users/animatevosian/anaconda3/lib/python3.11/site-packages/sklearn/cluster/_kmeans.py:1412: FutureWarning: The default value of `n_init` will change from 10 to 'auto' in 1.4. Set the value of `n_init` explicitly to suppress the warning\n",
      "  super()._check_params_vs_input(X, default_n_init=10)\n",
      "/Users/animatevosian/anaconda3/lib/python3.11/site-packages/sklearn/cluster/_kmeans.py:1412: FutureWarning: The default value of `n_init` will change from 10 to 'auto' in 1.4. Set the value of `n_init` explicitly to suppress the warning\n",
      "  super()._check_params_vs_input(X, default_n_init=10)\n",
      "/Users/animatevosian/anaconda3/lib/python3.11/site-packages/sklearn/cluster/_kmeans.py:1412: FutureWarning: The default value of `n_init` will change from 10 to 'auto' in 1.4. Set the value of `n_init` explicitly to suppress the warning\n",
      "  super()._check_params_vs_input(X, default_n_init=10)\n",
      "/Users/animatevosian/anaconda3/lib/python3.11/site-packages/sklearn/cluster/_kmeans.py:1412: FutureWarning: The default value of `n_init` will change from 10 to 'auto' in 1.4. Set the value of `n_init` explicitly to suppress the warning\n",
      "  super()._check_params_vs_input(X, default_n_init=10)\n",
      "/Users/animatevosian/anaconda3/lib/python3.11/site-packages/sklearn/cluster/_kmeans.py:1412: FutureWarning: The default value of `n_init` will change from 10 to 'auto' in 1.4. Set the value of `n_init` explicitly to suppress the warning\n",
      "  super()._check_params_vs_input(X, default_n_init=10)\n",
      "/Users/animatevosian/anaconda3/lib/python3.11/site-packages/sklearn/cluster/_kmeans.py:1412: FutureWarning: The default value of `n_init` will change from 10 to 'auto' in 1.4. Set the value of `n_init` explicitly to suppress the warning\n",
      "  super()._check_params_vs_input(X, default_n_init=10)\n",
      "/Users/animatevosian/anaconda3/lib/python3.11/site-packages/sklearn/cluster/_kmeans.py:1412: FutureWarning: The default value of `n_init` will change from 10 to 'auto' in 1.4. Set the value of `n_init` explicitly to suppress the warning\n",
      "  super()._check_params_vs_input(X, default_n_init=10)\n",
      "/Users/animatevosian/anaconda3/lib/python3.11/site-packages/sklearn/cluster/_kmeans.py:1412: FutureWarning: The default value of `n_init` will change from 10 to 'auto' in 1.4. Set the value of `n_init` explicitly to suppress the warning\n",
      "  super()._check_params_vs_input(X, default_n_init=10)\n",
      "/Users/animatevosian/anaconda3/lib/python3.11/site-packages/sklearn/cluster/_kmeans.py:1412: FutureWarning: The default value of `n_init` will change from 10 to 'auto' in 1.4. Set the value of `n_init` explicitly to suppress the warning\n",
      "  super()._check_params_vs_input(X, default_n_init=10)\n",
      "/Users/animatevosian/anaconda3/lib/python3.11/site-packages/sklearn/cluster/_kmeans.py:1412: FutureWarning: The default value of `n_init` will change from 10 to 'auto' in 1.4. Set the value of `n_init` explicitly to suppress the warning\n",
      "  super()._check_params_vs_input(X, default_n_init=10)\n",
      "/Users/animatevosian/anaconda3/lib/python3.11/site-packages/sklearn/cluster/_kmeans.py:1412: FutureWarning: The default value of `n_init` will change from 10 to 'auto' in 1.4. Set the value of `n_init` explicitly to suppress the warning\n",
      "  super()._check_params_vs_input(X, default_n_init=10)\n",
      "/Users/animatevosian/anaconda3/lib/python3.11/site-packages/sklearn/cluster/_kmeans.py:1412: FutureWarning: The default value of `n_init` will change from 10 to 'auto' in 1.4. Set the value of `n_init` explicitly to suppress the warning\n",
      "  super()._check_params_vs_input(X, default_n_init=10)\n",
      "/Users/animatevosian/anaconda3/lib/python3.11/site-packages/sklearn/cluster/_kmeans.py:1412: FutureWarning: The default value of `n_init` will change from 10 to 'auto' in 1.4. Set the value of `n_init` explicitly to suppress the warning\n",
      "  super()._check_params_vs_input(X, default_n_init=10)\n",
      "/Users/animatevosian/anaconda3/lib/python3.11/site-packages/sklearn/cluster/_kmeans.py:1412: FutureWarning: The default value of `n_init` will change from 10 to 'auto' in 1.4. Set the value of `n_init` explicitly to suppress the warning\n",
      "  super()._check_params_vs_input(X, default_n_init=10)\n",
      "/Users/animatevosian/anaconda3/lib/python3.11/site-packages/sklearn/cluster/_kmeans.py:1412: FutureWarning: The default value of `n_init` will change from 10 to 'auto' in 1.4. Set the value of `n_init` explicitly to suppress the warning\n",
      "  super()._check_params_vs_input(X, default_n_init=10)\n",
      "/Users/animatevosian/anaconda3/lib/python3.11/site-packages/sklearn/cluster/_kmeans.py:1412: FutureWarning: The default value of `n_init` will change from 10 to 'auto' in 1.4. Set the value of `n_init` explicitly to suppress the warning\n",
      "  super()._check_params_vs_input(X, default_n_init=10)\n",
      "/Users/animatevosian/anaconda3/lib/python3.11/site-packages/sklearn/cluster/_kmeans.py:1412: FutureWarning: The default value of `n_init` will change from 10 to 'auto' in 1.4. Set the value of `n_init` explicitly to suppress the warning\n",
      "  super()._check_params_vs_input(X, default_n_init=10)\n",
      "/Users/animatevosian/anaconda3/lib/python3.11/site-packages/sklearn/cluster/_kmeans.py:1412: FutureWarning: The default value of `n_init` will change from 10 to 'auto' in 1.4. Set the value of `n_init` explicitly to suppress the warning\n",
      "  super()._check_params_vs_input(X, default_n_init=10)\n",
      "/Users/animatevosian/anaconda3/lib/python3.11/site-packages/sklearn/cluster/_kmeans.py:1412: FutureWarning: The default value of `n_init` will change from 10 to 'auto' in 1.4. Set the value of `n_init` explicitly to suppress the warning\n",
      "  super()._check_params_vs_input(X, default_n_init=10)\n",
      "/Users/animatevosian/anaconda3/lib/python3.11/site-packages/sklearn/cluster/_kmeans.py:1412: FutureWarning: The default value of `n_init` will change from 10 to 'auto' in 1.4. Set the value of `n_init` explicitly to suppress the warning\n",
      "  super()._check_params_vs_input(X, default_n_init=10)\n",
      "/Users/animatevosian/anaconda3/lib/python3.11/site-packages/sklearn/cluster/_kmeans.py:1412: FutureWarning: The default value of `n_init` will change from 10 to 'auto' in 1.4. Set the value of `n_init` explicitly to suppress the warning\n",
      "  super()._check_params_vs_input(X, default_n_init=10)\n",
      "/Users/animatevosian/anaconda3/lib/python3.11/site-packages/sklearn/cluster/_kmeans.py:1412: FutureWarning: The default value of `n_init` will change from 10 to 'auto' in 1.4. Set the value of `n_init` explicitly to suppress the warning\n",
      "  super()._check_params_vs_input(X, default_n_init=10)\n",
      "/Users/animatevosian/anaconda3/lib/python3.11/site-packages/sklearn/cluster/_kmeans.py:1412: FutureWarning: The default value of `n_init` will change from 10 to 'auto' in 1.4. Set the value of `n_init` explicitly to suppress the warning\n",
      "  super()._check_params_vs_input(X, default_n_init=10)\n",
      "/Users/animatevosian/anaconda3/lib/python3.11/site-packages/sklearn/cluster/_kmeans.py:1412: FutureWarning: The default value of `n_init` will change from 10 to 'auto' in 1.4. Set the value of `n_init` explicitly to suppress the warning\n",
      "  super()._check_params_vs_input(X, default_n_init=10)\n",
      "/Users/animatevosian/anaconda3/lib/python3.11/site-packages/sklearn/cluster/_kmeans.py:1412: FutureWarning: The default value of `n_init` will change from 10 to 'auto' in 1.4. Set the value of `n_init` explicitly to suppress the warning\n",
      "  super()._check_params_vs_input(X, default_n_init=10)\n",
      "/Users/animatevosian/anaconda3/lib/python3.11/site-packages/sklearn/cluster/_kmeans.py:1412: FutureWarning: The default value of `n_init` will change from 10 to 'auto' in 1.4. Set the value of `n_init` explicitly to suppress the warning\n",
      "  super()._check_params_vs_input(X, default_n_init=10)\n",
      "/Users/animatevosian/anaconda3/lib/python3.11/site-packages/sklearn/cluster/_kmeans.py:1412: FutureWarning: The default value of `n_init` will change from 10 to 'auto' in 1.4. Set the value of `n_init` explicitly to suppress the warning\n",
      "  super()._check_params_vs_input(X, default_n_init=10)\n",
      "/Users/animatevosian/anaconda3/lib/python3.11/site-packages/sklearn/cluster/_kmeans.py:1412: FutureWarning: The default value of `n_init` will change from 10 to 'auto' in 1.4. Set the value of `n_init` explicitly to suppress the warning\n",
      "  super()._check_params_vs_input(X, default_n_init=10)\n",
      "/Users/animatevosian/anaconda3/lib/python3.11/site-packages/sklearn/cluster/_kmeans.py:1412: FutureWarning: The default value of `n_init` will change from 10 to 'auto' in 1.4. Set the value of `n_init` explicitly to suppress the warning\n",
      "  super()._check_params_vs_input(X, default_n_init=10)\n",
      "/Users/animatevosian/anaconda3/lib/python3.11/site-packages/sklearn/cluster/_kmeans.py:1412: FutureWarning: The default value of `n_init` will change from 10 to 'auto' in 1.4. Set the value of `n_init` explicitly to suppress the warning\n",
      "  super()._check_params_vs_input(X, default_n_init=10)\n",
      "/Users/animatevosian/anaconda3/lib/python3.11/site-packages/sklearn/cluster/_kmeans.py:1412: FutureWarning: The default value of `n_init` will change from 10 to 'auto' in 1.4. Set the value of `n_init` explicitly to suppress the warning\n",
      "  super()._check_params_vs_input(X, default_n_init=10)\n",
      "/Users/animatevosian/anaconda3/lib/python3.11/site-packages/sklearn/cluster/_kmeans.py:1412: FutureWarning: The default value of `n_init` will change from 10 to 'auto' in 1.4. Set the value of `n_init` explicitly to suppress the warning\n",
      "  super()._check_params_vs_input(X, default_n_init=10)\n",
      "/Users/animatevosian/anaconda3/lib/python3.11/site-packages/sklearn/cluster/_kmeans.py:1412: FutureWarning: The default value of `n_init` will change from 10 to 'auto' in 1.4. Set the value of `n_init` explicitly to suppress the warning\n",
      "  super()._check_params_vs_input(X, default_n_init=10)\n"
     ]
    },
    {
     "data": {
      "image/png": "[encoded data removed]",
      "text/plain": [
       "<Figure size 640x480 with 1 Axes>"
      ]
     },
     "metadata": {},
     "output_type": "display_data"
    }
   ],
   "source": [
    "X = pd.get_dummies(X) #assigns number to categories\n",
    "#elbow is around 20\n",
    "# first attempt at fitting K means to view change in Inertia\n",
    "\n",
    "# container to store inertia scores over iterations\n",
    "distortions = []\n",
    "\n",
    "# fit KMeans iteratively to begin to assess the appropriate number of clusters\n",
    "for i in range(1, 101):\n",
    "    km = KMeans(n_clusters=i)\n",
    "    km.fit(X)\n",
    "    distortions.append(km.inertia_)\n",
    "    \n",
    "# vizualize change in inertia\n",
    "plt.plot(range(1, 101), distortions, marker='o')\n",
    "plt.xlabel('Number of clusters')\n",
    "plt.ylabel('Inertia')\n",
    "plt.show()"
   ]
  },
  {
   "cell_type": "markdown",
   "metadata": {},
   "source": [
    "## create silhouette plots to assess various specifications for `n_clusters` in `KMeans`"
   ]
  },
  {
   "cell_type": "code",
   "execution_count": 9,
   "metadata": {},
   "outputs": [],
   "source": [
    "# modify this list to include the numbers of clusters you want to see\n",
    "# I have *arbitrarily* chosen these values\n",
    "range_n_clusters = [5, 10, 12, 15,20]\n",
    "#change cluster values we want to see"
   ]
  },
  {
   "cell_type": "code",
   "execution_count": 10,
   "metadata": {},
   "outputs": [
    {
     "name": "stderr",
     "output_type": "stream",
     "text": [
      "/Users/animatevosian/anaconda3/lib/python3.11/site-packages/sklearn/cluster/_kmeans.py:1412: FutureWarning: The default value of `n_init` will change from 10 to 'auto' in 1.4. Set the value of `n_init` explicitly to suppress the warning\n",
      "  super()._check_params_vs_input(X, default_n_init=10)\n"
     ]
    },
    {
     "name": "stdout",
     "output_type": "stream",
     "text": [
      "For n_clusters = 5 The average silhouette_score is : 0.28148142652540803\n"
     ]
    },
    {
     "data": {
      "image/png": "[encoded data removed]",
      "text/plain": [
       "<Figure size 900x1700 with 1 Axes>"
      ]
     },
     "metadata": {},
     "output_type": "display_data"
    },
    {
     "name": "stderr",
     "output_type": "stream",
     "text": [
      "/Users/animatevosian/anaconda3/lib/python3.11/site-packages/sklearn/cluster/_kmeans.py:1412: FutureWarning: The default value of `n_init` will change from 10 to 'auto' in 1.4. Set the value of `n_init` explicitly to suppress the warning\n",
      "  super()._check_params_vs_input(X, default_n_init=10)\n"
     ]
    },
    {
     "name": "stdout",
     "output_type": "stream",
     "text": [
      "For n_clusters = 10 The average silhouette_score is : 0.2194680642287677\n"
     ]
    },
    {
     "data": {
      "image/png": "[encoded data removed]",
      "text/plain": [
       "<Figure size 900x1700 with 1 Axes>"
      ]
     },
     "metadata": {},
     "output_type": "display_data"
    },
    {
     "name": "stderr",
     "output_type": "stream",
     "text": [
      "/Users/animatevosian/anaconda3/lib/python3.11/site-packages/sklearn/cluster/_kmeans.py:1412: FutureWarning: The default value of `n_init` will change from 10 to 'auto' in 1.4. Set the value of `n_init` explicitly to suppress the warning\n",
      "  super()._check_params_vs_input(X, default_n_init=10)\n"
     ]
    },
    {
     "name": "stdout",
     "output_type": "stream",
     "text": [
      "For n_clusters = 12 The average silhouette_score is : 0.22523896170399677\n"
     ]
    },
    {
     "data": {
      "image/png": "[encoded data removed]",
      "text/plain": [
       "<Figure size 900x1700 with 1 Axes>"
      ]
     },
     "metadata": {},
     "output_type": "display_data"
    },
    {
     "name": "stderr",
     "output_type": "stream",
     "text": [
      "/Users/animatevosian/anaconda3/lib/python3.11/site-packages/sklearn/cluster/_kmeans.py:1412: FutureWarning: The default value of `n_init` will change from 10 to 'auto' in 1.4. Set the value of `n_init` explicitly to suppress the warning\n",
      "  super()._check_params_vs_input(X, default_n_init=10)\n"
     ]
    },
    {
     "name": "stdout",
     "output_type": "stream",
     "text": [
      "For n_clusters = 15 The average silhouette_score is : 0.20923741780298213\n"
     ]
    },
    {
     "data": {
      "image/png": "[encoded data removed]",
      "text/plain": [
       "<Figure size 900x1700 with 1 Axes>"
      ]
     },
     "metadata": {},
     "output_type": "display_data"
    },
    {
     "name": "stderr",
     "output_type": "stream",
     "text": [
      "/Users/animatevosian/anaconda3/lib/python3.11/site-packages/sklearn/cluster/_kmeans.py:1412: FutureWarning: The default value of `n_init` will change from 10 to 'auto' in 1.4. Set the value of `n_init` explicitly to suppress the warning\n",
      "  super()._check_params_vs_input(X, default_n_init=10)\n"
     ]
    },
    {
     "name": "stdout",
     "output_type": "stream",
     "text": [
      "For n_clusters = 20 The average silhouette_score is : 0.2407501897947075\n"
     ]
    },
    {
     "data": {
      "image/png": "[encoded data removed]",
      "text/plain": [
       "<Figure size 900x1700 with 1 Axes>"
      ]
     },
     "metadata": {},
     "output_type": "display_data"
    }
   ],
   "source": [
    "# modified from: http://scikit-learn.org/stable/auto_examples/cluster/plot_kmeans_silhouette_analysis.html\n",
    "\n",
    "from sklearn.metrics import silhouette_samples, silhouette_score\n",
    "import matplotlib.cm as cm\n",
    "import random\n",
    "\n",
    "for n_clusters in range_n_clusters:\n",
    "    # Create a subplot\n",
    "    fig, (ax1) = plt.subplots(1, 1)\n",
    "    fig.set_size_inches(9, 17)\n",
    "\n",
    "    # The silhouette coefficient can range from -1, 1 but in this example all lie within [-0.1, 1]\n",
    "    ax1.set_xlim([-0.1, 1])\n",
    "    # The (n_clusters+1)*10 is for inserting blank space between silhouette plots of individual clusters, to demarcate them clearly.\n",
    "    ax1.set_ylim([0, len(X) + (n_clusters + 1) * 10])\n",
    "\n",
    "    # Initialize the clusterer with n_clusters value and a random generator seed of 10 for reproducibility.\n",
    "    clusterer = KMeans(n_clusters=n_clusters, random_state=10)\n",
    "    cluster_labels = clusterer.fit_predict(X)\n",
    "\n",
    "    # The silhouette_score gives the average value for all the samples.\n",
    "    silhouette_avg = silhouette_score(X, cluster_labels)\n",
    "    print(\"For n_clusters =\", n_clusters, \"The average silhouette_score is :\", silhouette_avg)\n",
    "\n",
    "    # Compute the silhouette scores for each sample\n",
    "    sample_silhouette_values = silhouette_samples(X, cluster_labels)\n",
    "\n",
    "    y_lower = 10\n",
    "    for i in range(n_clusters):\n",
    "        # Aggregate the silhouette scores for samples belonging to cluster i, and sort them\n",
    "        ith_cluster_silhouette_values = \\\n",
    "            sample_silhouette_values[cluster_labels == i]\n",
    "\n",
    "        ith_cluster_silhouette_values.sort()\n",
    "\n",
    "        size_cluster_i = ith_cluster_silhouette_values.shape[0]\n",
    "        y_upper = y_lower + size_cluster_i\n",
    "\n",
    "        # select a random color for this cluster\n",
    "        r = lambda: random.randint(0,255)\n",
    "        color = '#%02X%02X%02X' % (r(),r(),r())\n",
    "        ax1.fill_betweenx(np.arange(y_lower, y_upper),\n",
    "                          0, ith_cluster_silhouette_values,\n",
    "                          facecolor=color, edgecolor=color, alpha=0.7)\n",
    "\n",
    "        # Label the silhouette plots with their cluster numbers at the middle\n",
    "        ax1.text(-0.05, y_lower + 0.5 * size_cluster_i, str(i))\n",
    "\n",
    "        # Compute the new y_lower for next plot\n",
    "        y_lower = y_upper + 10  # 10 for the 0 samples\n",
    "\n",
    "    ax1.set_title(\"The silhouette plot for the various clusters.\")\n",
    "    ax1.set_xlabel(\"The silhouette coefficient values\")\n",
    "    ax1.set_ylabel(\"Cluster label\")\n",
    "\n",
    "    # The vertical line for average silhouette score of all the values\n",
    "    ax1.axvline(x=silhouette_avg, color=\"red\", linestyle=\"--\")\n",
    "\n",
    "    ax1.set_yticks([])  # Clear the yaxis labels / ticks\n",
    "    ax1.set_xticks([-0.1, 0, 0.2, 0.4, 0.6, 0.8, 1])\n",
    "\n",
    "    plt.suptitle((\"Silhouette analysis for KMeans clustering on sample data \"\n",
    "                  \"with n_clusters = %d\" % n_clusters),\n",
    "                 fontsize=14, fontweight='bold')\n",
    "\n",
    "    plt.show()"
   ]
  },
  {
   "cell_type": "markdown",
   "metadata": {},
   "source": [
    "## final fit\n",
    "\n",
    "After you have decided which features to include and the number of clusters you want, fit your final KMeans model. \n",
    "10 appears to be a good amount of clusters for the features I chose, as deduced from the elbow graph."
   ]
  },
  {
   "cell_type": "code",
   "execution_count": 11,
   "metadata": {},
   "outputs": [],
   "source": [
    "# set the number of clusters in the final model\n",
    "\n",
    "my_n_clusters = 12"
   ]
  },
  {
   "cell_type": "code",
   "execution_count": 12,
   "metadata": {},
   "outputs": [
    {
     "name": "stderr",
     "output_type": "stream",
     "text": [
      "/Users/animatevosian/anaconda3/lib/python3.11/site-packages/sklearn/cluster/_kmeans.py:1412: FutureWarning: The default value of `n_init` will change from 10 to 'auto' in 1.4. Set the value of `n_init` explicitly to suppress the warning\n",
      "  super()._check_params_vs_input(X, default_n_init=10)\n"
     ]
    },
    {
     "data": {
      "text/html": [
       "<style>#sk-container-id-1 {color: black;}#sk-container-id-1 pre{padding: 0;}#sk-container-id-1 div.sk-toggleable {background-color: white;}#sk-container-id-1 label.sk-toggleable__label {cursor: pointer;display: block;width: 100%;margin-bottom: 0;padding: 0.3em;box-sizing: border-box;text-align: center;}#sk-container-id-1 label.sk-toggleable__label-arrow:before {content: \"▸\";float: left;margin-right: 0.25em;color: #696969;}#sk-container-id-1 label.sk-toggleable__label-arrow:hover:before {color: black;}#sk-container-id-1 div.sk-estimator:hover label.sk-toggleable__label-arrow:before {color: black;}#sk-container-id-1 div.sk-toggleable__content {max-height: 0;max-width: 0;overflow: hidden;text-align: left;background-color: #f0f8ff;}#sk-container-id-1 div.sk-toggleable__content pre {margin: 0.2em;color: black;border-radius: 0.25em;background-color: #f0f8ff;}#sk-container-id-1 input.sk-toggleable__control:checked~div.sk-toggleable__content {max-height: 200px;max-width: 100%;overflow: auto;}#sk-container-id-1 input.sk-toggleable__control:checked~label.sk-toggleable__label-arrow:before {content: \"▾\";}#sk-container-id-1 div.sk-estimator input.sk-toggleable__control:checked~label.sk-toggleable__label {background-color: #d4ebff;}#sk-container-id-1 div.sk-label input.sk-toggleable__control:checked~label.sk-toggleable__label {background-color: #d4ebff;}#sk-container-id-1 input.sk-hidden--visually {border: 0;clip: rect(1px 1px 1px 1px);clip: rect(1px, 1px, 1px, 1px);height: 1px;margin: -1px;overflow: hidden;padding: 0;position: absolute;width: 1px;}#sk-container-id-1 div.sk-estimator {font-family: monospace;background-color: #f0f8ff;border: 1px dotted black;border-radius: 0.25em;box-sizing: border-box;margin-bottom: 0.5em;}#sk-container-id-1 div.sk-estimator:hover {background-color: #d4ebff;}#sk-container-id-1 div.sk-parallel-item::after {content: \"\";width: 100%;border-bottom: 1px solid gray;flex-grow: 1;}#sk-container-id-1 div.sk-label:hover label.sk-toggleable__label {background-color: #d4ebff;}#sk-container-id-1 div.sk-serial::before {content: \"\";position: absolute;border-left: 1px solid gray;box-sizing: border-box;top: 0;bottom: 0;left: 50%;z-index: 0;}#sk-container-id-1 div.sk-serial {display: flex;flex-direction: column;align-items: center;background-color: white;padding-right: 0.2em;padding-left: 0.2em;position: relative;}#sk-container-id-1 div.sk-item {position: relative;z-index: 1;}#sk-container-id-1 div.sk-parallel {display: flex;align-items: stretch;justify-content: center;background-color: white;position: relative;}#sk-container-id-1 div.sk-item::before, #sk-container-id-1 div.sk-parallel-item::before {content: \"\";position: absolute;border-left: 1px solid gray;box-sizing: border-box;top: 0;bottom: 0;left: 50%;z-index: -1;}#sk-container-id-1 div.sk-parallel-item {display: flex;flex-direction: column;z-index: 1;position: relative;background-color: white;}#sk-container-id-1 div.sk-parallel-item:first-child::after {align-self: flex-end;width: 50%;}#sk-container-id-1 div.sk-parallel-item:last-child::after {align-self: flex-start;width: 50%;}#sk-container-id-1 div.sk-parallel-item:only-child::after {width: 0;}#sk-container-id-1 div.sk-dashed-wrapped {border: 1px dashed gray;margin: 0 0.4em 0.5em 0.4em;box-sizing: border-box;padding-bottom: 0.4em;background-color: white;}#sk-container-id-1 div.sk-label label {font-family: monospace;font-weight: bold;display: inline-block;line-height: 1.2em;}#sk-container-id-1 div.sk-label-container {text-align: center;}#sk-container-id-1 div.sk-container {/* jupyter's `normalize.less` sets `[hidden] { display: none; }` but bootstrap.min.css set `[hidden] { display: none !important; }` so we also need the `!important` here to be able to override the default hidden behavior on the sphinx rendered scikit-learn.org. See: https://github.com/scikit-learn/scikit-learn/issues/21755 */display: inline-block !important;position: relative;}#sk-container-id-1 div.sk-text-repr-fallback {display: none;}</style><div id=\"sk-container-id-1\" class=\"sk-top-container\"><div class=\"sk-text-repr-fallback\"><pre>KMeans(n_clusters=12)</pre><b>In a Jupyter environment, please rerun this cell to show the HTML representation or trust the notebook. <br />On GitHub, the HTML representation is unable to render, please try loading this page with nbviewer.org.</b></div><div class=\"sk-container\" hidden><div class=\"sk-item\"><div class=\"sk-estimator sk-toggleable\"><input class=\"sk-toggleable__control sk-hidden--visually\" id=\"sk-estimator-id-1\" type=\"checkbox\" checked><label for=\"sk-estimator-id-1\" class=\"sk-toggleable__label sk-toggleable__label-arrow\">KMeans</label><div class=\"sk-toggleable__content\"><pre>KMeans(n_clusters=12)</pre></div></div></div></div></div>"
      ],
      "text/plain": [
       "KMeans(n_clusters=12)"
      ]
     },
     "execution_count": 12,
     "metadata": {},
     "output_type": "execute_result"
    }
   ],
   "source": [
    "km = KMeans(n_clusters=my_n_clusters)\n",
    "km.fit(X)"
   ]
  },
  {
   "cell_type": "markdown",
   "metadata": {},
   "source": [
    "## look at results\n",
    "\n",
    "The key to knowing if you have chosen the right features and clusters: looking at the images in each cluster and deciding whether they seem to belong together. You could extend this starter code to display the images in this notebook, or you may decide to use Python to write an html file/files to view the images by cluster."
   ]
  },
  {
   "cell_type": "markdown",
   "metadata": {},
   "source": [
    "## "
   ]
  },
  {
   "cell_type": "markdown",
   "metadata": {},
   "source": [
    "## Results \n",
    "### Resulting clusters are visualized in a grid with some metadata, and output both below and as an html file that can be viewed separately (stored in the same folder as this notebook). "
   ]
  },
  {
   "cell_type": "code",
   "execution_count": 13,
   "metadata": {
    "scrolled": true
   },
   "outputs": [
    {
     "data": {
      "text/html": [
       "<html><head><title>Clusters Visualization</title></head><body><div><h2>Images in cluster: 0</h2><div style='display:flex; flex-wrap:wrap;'><div style='flex:1; padding:5px;'><img src='img_small/5_small.jpg' style='max-width:150px; max-height:150px;'><p>Cluster: 0</p><p>Artist: Gillian Avery</p><p>Title: Distillation</p><p>Medium: painting, oil, household paint on hardboard</p></div><div style='flex:1; padding:5px;'><img src='img_small/22_small.jpg' style='max-width:150px; max-height:150px;'><p>Cluster: 0</p><p>Artist: Georges Braque</p><p>Title: Bottle and Fishes</p><p>Medium: painting, oil on canvas</p></div><div style='flex:1; padding:5px;'><img src='img_small/48_small.jpg' style='max-width:150px; max-height:150px;'><p>Cluster: 0</p><p>Artist: Philip Guston</p><p>Title: Black Sea</p><p>Medium: painting, oil on canvas</p></div><div style='flex:1; padding:5px;'><img src='img_small/62_small.jpg' style='max-width:150px; max-height:150px;'><p>Cluster: 0</p><p>Artist: Shirazeh Houshiary</p><p>Title: Vapour</p><p>Medium: painting, pencil & aquacryl on canvas & aluminum</p></div><div style='flex:1; padding:5px;'><img src='img_small/96_small.jpg' style='max-width:150px; max-height:150px;'><p>Cluster: 0</p><p>Artist: Julie Mehretu</p><p>Title: Black City </p><p>Medium: painting, ink & acrylic on canvas</p></div><br><div style='flex:1; padding:5px;'><img src='img_small/111_small.jpg' style='max-width:150px; max-height:150px;'><p>Cluster: 0</p><p>Artist: Chris Ofili</p><p>Title: Afrodizzia</p><p>Medium: painting, oil, paper collage, glitter, polyester resin, map pins & elephant dung on linen</p></div><div style='flex:1; padding:5px;'><img src='img_small/115_small.jpg' style='max-width:150px; max-height:150px;'><p>Cluster: 0</p><p>Artist: Gabriel Orozco</p><p>Title: River Rocks Eroded</p><p>Medium: painting, acrylic on canvas</p></div><div style='flex:1; padding:5px;'><img src='img_small/125_small.jpg' style='max-width:150px; max-height:150px;'><p>Cluster: 0</p><p>Artist: John Piper</p><p>Title: Seaton Delaval </p><p>Medium: painting, oil paint on canvas on wood</p></div><div style='flex:1; padding:5px;'><img src='img_small/127_small.jpg' style='max-width:150px; max-height:150px;'><p>Cluster: 0</p><p>Artist: Sigmar Polke</p><p>Title: Untitled (Square 2)</p><p>Medium: painting, gold paint, oil & acrylic paint on canvas</p></div><div style='flex:1; padding:5px;'><img src='img_small/128_small.jpg' style='max-width:150px; max-height:150px;'><p>Cluster: 0</p><p>Artist: Jackson Pollock</p><p>Title: Yellow Islands</p><p>Medium: painting, oil on canvas</p></div><br><div style='flex:1; padding:5px;'><img src='img_small/132_small.jpg' style='max-width:150px; max-height:150px;'><p>Cluster: 0</p><p>Artist: Douglas Portway</p><p>Title: White Screen </p><p>Medium: painting, oil on canvas</p></div><div style='flex:1; padding:5px;'><img src='img_small/137_small.jpg' style='max-width:150px; max-height:150px;'><p>Cluster: 0</p><p>Artist: Robert Rauschenberg</p><p>Title: Water Stop </p><p>Medium: print, lithograph on paper</p></div><div style='flex:1; padding:5px;'><img src='img_small/141_small.jpg' style='max-width:150px; max-height:150px;'><p>Cluster: 0</p><p>Artist: Ad Reinhardt</p><p>Title: Abstract Painting No. 5 </p><p>Medium: painting, oil on canvas</p></div><div style='flex:1; padding:5px;'><img src='img_small/143_small.jpg' style='max-width:150px; max-height:150px;'><p>Cluster: 0</p><p>Artist: Gerhard Richter</p><p>Title: Self Portrait Standing, Three Times, 17.3.1991</p><p>Medium: painting, 6 photographs, gelatin silver print on paper with oil paint</p></div><div style='flex:1; padding:5px;'><img src='img_small/150_small.jpg' style='max-width:150px; max-height:150px;'><p>Cluster: 0</p><p>Artist: Leonard Rosoman</p><p>Title: Bomb Falling into Water </p><p>Medium: painting, oil on canvas</p></div><br><div style='flex:1; padding:5px;'><img src='img_small/153_small.jpg' style='max-width:150px; max-height:150px;'><p>Cluster: 0</p><p>Artist: Mark Rothko</p><p>Title: Untitled </p><p>Medium: painting, watercolor & gouache on paper</p></div><div style='flex:1; padding:5px;'><img src='img_small/158_small.jpg' style='max-width:150px; max-height:150px;'><p>Cluster: 0</p><p>Artist: Robert Ryman</p><p>Title: Document </p><p>Medium: painting, oil on canvas</p></div><div style='flex:1; padding:5px;'><img src='img_small/175_small.jpg' style='max-width:150px; max-height:150px;'><p>Cluster: 0</p><p>Artist: Yves Tanguy</p><p>Title: The Mood of Now </p><p>Medium: painting oil on canvas</p></div><div style='flex:1; padding:5px;'><img src='img_small/176_small.jpg' style='max-width:150px; max-height:150px;'><p>Cluster: 0</p><p>Artist: Antoni Tapies</p><p>Title: Pasted Cloth </p><p>Medium: print, fabric on etching on paper</p></div><div style='flex:1; padding:5px;'><img src='img_small/178_small.jpg' style='max-width:150px; max-height:150px;'><p>Cluster: 0</p><p>Artist: Mark Tobey</p><p>Title: Northwest Drift</p><p>Medium: painting, tempera & gouache on paper on board</p></div><br><div style='flex:1; padding:5px;'><img src='img_small/182_small.jpg' style='max-width:150px; max-height:150px;'><p>Cluster: 0</p><p>Artist: Luc Tuymans</p><p>Title: Untitled (The Barge)</p><p>Medium: painting, watercolor on paper</p></div><div style='flex:1; padding:5px;'><img src='img_small/191_small.jpg' style='max-width:150px; max-height:150px;'><p>Cluster: 0</p><p>Artist: Andy Warhol</p><p>Title: Shadows, detail</p><p>Medium: painting, silkscreen & acrylic on canvas</p></div><div style='flex:1; padding:5px;'><img src='img_small/198_small.jpg' style='max-width:150px; max-height:150px;'><p>Cluster: 0</p><p>Artist: James Abbott McNeill Whistler</p><p>Title: Nocturne: Blue and Silver - Cremorne Lights</p><p>Medium: painting, oil paint on canvas</p></div><div style='flex:1; padding:5px;'><img src='img_small/204_small.jpg' style='max-width:150px; max-height:150px;'><p>Cluster: 0</p><p>Artist: Christopher Wool </p><p>Title: Untitled</p><p>Medium: painting, silkscreen ink on linen</p></div><div style='flex:1; padding:5px;'><img src='img_small/206_small.jpg' style='max-width:150px; max-height:150px;'><p>Cluster: 0</p><p>Artist: Catherine Yass</p><p>Title: Stage</p><p>Medium: print, screenprint on paper</p></div><br><div style='flex:1; padding:5px;'><img src='img_small/212_small.jpg' style='max-width:150px; max-height:150px;'><p>Cluster: 0</p><p>Artist: Yo-Yo Gonthier</p><p>Title: Maquette du nuage #1</p><p>Medium: photo, gelatin silver print</p></div><div style='flex:1; padding:5px;'><img src='img_small/215_small.jpg' style='max-width:150px; max-height:150px;'><p>Cluster: 0</p><p>Artist: YÌ©anzi</p><p>Title: Section 1, Les pÌ©troliers series</p><p>Medium: painting, mixed media on silk-screen printed fabric</p></div><div style='flex:1; padding:5px;'><img src='img_small/236_small.jpg' style='max-width:150px; max-height:150px;'><p>Cluster: 0</p><p>Artist: Francisco de Goya y Lucientes </p><p>Title: Dos personajes asomÌÁndose a una salida luminosa</p><p>Medium: drawing, red wash, red chalk on ivory laid paper</p></div><div style='flex:1; padding:5px;'><img src='img_small/250_small.jpg' style='max-width:150px; max-height:150px;'><p>Cluster: 0</p><p>Artist: Ian McKeever</p><p>Title: Eagduru from Alan Cristea Gallery Twentieth Anniversary Portfolio</p><p>Medium: print, polymer gravure </p></div><div style='flex:1; padding:5px;'><img src='img_small/256_small.jpg' style='max-width:150px; max-height:150px;'><p>Cluster: 0</p><p>Artist: Rosemarie Trockel</p><p>Title: Untitled</p><p>Medium: painting, acrylic emulsion paint on paper</p></div><br><div style='flex:1; padding:5px;'><img src='img_small/266_small.jpg' style='max-width:150px; max-height:150px;'><p>Cluster: 0</p><p>Artist: Sung Hwan Kim</p><p>Title: Washing Brain and Corn</p><p>Medium: photo, video still </p></div><div style='flex:1; padding:5px;'><img src='img_small/268_small.jpg' style='max-width:150px; max-height:150px;'><p>Cluster: 0</p><p>Artist: Luther Price</p><p>Title: Number 9</p><p>Medium: installation, handmade slide, projected in pairs</p></div><div style='flex:1; padding:5px;'><img src='img_small/274_small.jpg' style='max-width:150px; max-height:150px;'><p>Cluster: 0</p><p>Artist: Mariah Robertson</p><p>Title: Unique color print on metallic paper</p><p>Medium: photo, color print on metallic paper</p></div><div style='flex:1; padding:5px;'><img src='img_small/284_small.jpg' style='max-width:150px; max-height:150px;'><p>Cluster: 0</p><p>Artist: Anish Kapoor</p><p>Title: Untitled</p><p>Medium: drawing, pastel on paper</p></div><div style='flex:1; padding:5px;'><img src='img_small/288_small.jpg' style='max-width:150px; max-height:150px;'><p>Cluster: 0</p><p>Artist: Sarah Walker</p><p>Title: Blue Band</p><p>Medium: painting, synthetic polymer paint on paper</p></div><br><div style='flex:1; padding:5px;'><img src='img_small/291_small.jpg' style='max-width:150px; max-height:150px;'><p>Cluster: 0</p><p>Artist: Bruce Connor</p><p>Title: Bombhead</p><p>Medium: photo, digital print with acrylic paint additions</p></div><div style='flex:1; padding:5px;'><img src='img_small/294_small.jpg' style='max-width:150px; max-height:150px;'><p>Cluster: 0</p><p>Artist: Matthew Ritchie </p><p>Title: Everyone Belongs to Everyone Else</p><p>Medium: drawing, ink & graphite on mylar</p></div><div style='flex:1; padding:5px;'><img src='img_small/331_small.jpg' style='max-width:150px; max-height:150px;'><p>Cluster: 0</p><p>Artist: Jake Berthot</p><p>Title: Third House for Edgar Hofschen #3</p><p>Medium: drawing, ink & pencil on paper</p></div><div style='flex:1; padding:5px;'><img src='img_small/354_small.jpg' style='max-width:150px; max-height:150px;'><p>Cluster: 0</p><p>Artist: Julius Bissier</p><p>Title: Untitled</p><p>Medium: print, lithograph</p></div><div style='flex:1; padding:5px;'><img src='img_small/356_small.jpg' style='max-width:150px; max-height:150px;'><p>Cluster: 0</p><p>Artist: Sylvia Wald</p><p>Title: Spirit's Constellation</p><p>Medium: print, serigraph, printed in color</p></div><br><div style='flex:1; padding:5px;'><img src='img_small/382_small.jpg' style='max-width:150px; max-height:150px;'><p>Cluster: 0</p><p>Artist: Georges Braque</p><p>Title: Man With a Guitar</p><p>Medium: painting, oil on canvas</p></div><div style='flex:1; padding:5px;'><img src='img_small/383_small.jpg' style='max-width:150px; max-height:150px;'><p>Cluster: 0</p><p>Artist: Paul CÌ©zanne</p><p>Title: House Among Trees</p><p>Medium: painting, watercolor & pencil on paper</p></div><div style='flex:1; padding:5px;'><img src='img_small/384_small.jpg' style='max-width:150px; max-height:150px;'><p>Cluster: 0</p><p>Artist: Raoul Ubac </p><p>Title: BrÌÈlage</p><p>Medium: photo, gelatin silver print</p></div><div style='flex:1; padding:5px;'><img src='img_small/397_small.jpg' style='max-width:150px; max-height:150px;'><p>Cluster: 0</p><p>Artist: Amir Mousavi</p><p>Title: nan</p><p>Medium: photo,</p></div></div></div><div><h2>Images in cluster: 1</h2><div style='display:flex; flex-wrap:wrap;'><div style='flex:1; padding:5px;'><img src='img_small/7_small.jpg' style='max-width:150px; max-height:150px;'><p>Cluster: 1</p><p>Artist: Fiona Banner</p><p>Title: Break Point </p><p>Medium: painting, marker pen, acrylic on canvas</p></div><div style='flex:1; padding:5px;'><img src='img_small/47_small.jpg' style='max-width:150px; max-height:150px;'><p>Cluster: 1</p><p>Artist: Jan Groth</p><p>Title: Drawing, Untitled </p><p>Medium: drawing, crayon on paper</p></div><div style='flex:1; padding:5px;'><img src='img_small/55_small.jpg' style='max-width:150px; max-height:150px;'><p>Cluster: 1</p><p>Artist: Eva Hesse</p><p>Title: No Title </p><p>Medium: sculpture, latex, rope, string, and wire</p></div><div style='flex:1; padding:5px;'><img src='img_small/67_small.jpg' style='max-width:150px; max-height:150px;'><p>Cluster: 1</p><p>Artist: Linda Karshan</p><p>Title: Untitled </p><p>Medium: drawing, charcoal on paper</p></div><div style='flex:1; padding:5px;'><img src='img_small/75_small.jpg' style='max-width:150px; max-height:150px;'><p>Cluster: 1</p><p>Artist: Lee Ufan</p><p>Title: From Line </p><p>Medium: painting, oil & glue on canvas</p></div><br><div style='flex:1; padding:5px;'><img src='img_small/81_small.jpg' style='max-width:150px; max-height:150px;'><p>Cluster: 1</p><p>Artist: Antoni Malinowski </p><p>Title: It's so green outside it is difficult to leave the window</p><p>Medium: painting, acrylic on glass</p></div><div style='flex:1; padding:5px;'><img src='img_small/87_small.jpg' style='max-width:150px; max-height:150px;'><p>Cluster: 1</p><p>Artist: Brice Marden</p><p>Title: Cold Mountain Series, Zen Study 6</p><p>Medium: print, etching & aquatint on paper</p></div><div style='flex:1; padding:5px;'><img src='img_small/136_small.jpg' style='max-width:150px; max-height:150px;'><p>Cluster: 1</p><p>Artist: Arnulf Rainer</p><p>Title: Untitled (Death Mask)</p><p>Medium: drawing, oil pastel & photograph on paper</p></div><div style='flex:1; padding:5px;'><img src='img_small/151_small.jpg' style='max-width:150px; max-height:150px;'><p>Cluster: 1</p><p>Artist: Dieter Roth</p><p>Title: Self-Portrait as a Flower Pot</p><p>Medium: print, lithograph on paper</p></div><div style='flex:1; padding:5px;'><img src='img_small/155_small.jpg' style='max-width:150px; max-height:150px;'><p>Cluster: 1</p><p>Artist: Sterling Ruby</p><p>Title: (Mapping) Maybelline å¨ Wet Shine Cherry Rain</p><p>Medium: painting, nail polish & sharpie pen on card</p></div><br><div style='flex:1; padding:5px;'><img src='img_small/159_small.jpg' style='max-width:150px; max-height:150px;'><p>Cluster: 1</p><p>Artist: Doris Salcedo</p><p>Title: Disremembered I</p><p>Medium: sculpture, sewing needles & silk thread</p></div><div style='flex:1; padding:5px;'><img src='img_small/160_small.jpg' style='max-width:150px; max-height:150px;'><p>Cluster: 1</p><p>Artist: Lucas Samaras</p><p>Title: Chair Transformation #7</p><p>Medium: sculpture, plastered cloth on wire</p></div><div style='flex:1; padding:5px;'><img src='img_small/165_small.jpg' style='max-width:150px; max-height:150px;'><p>Cluster: 1</p><p>Artist: Shozo Shimamoto</p><p>Title: Untitled </p><p>Medium: painting, acrylic & newspaper</p></div><div style='flex:1; padding:5px;'><img src='img_small/173_small.jpg' style='max-width:150px; max-height:150px;'><p>Cluster: 1</p><p>Artist: Do Ho Suh</p><p>Title: Karma Juggler</p><p>Medium: drawing, thread embedded in cotton paper</p></div><div style='flex:1; padding:5px;'><img src='img_small/180_small.jpg' style='max-width:150px; max-height:150px;'><p>Cluster: 1</p><p>Artist: Richard Tuttle </p><p>Title: 10th Wire Piece</p><p>Medium: sculpture, florist wire, nails & graphite</p></div><br><div style='flex:1; padding:5px;'><img src='img_small/183_small.jpg' style='max-width:150px; max-height:150px;'><p>Cluster: 1</p><p>Artist: Cy Twombly</p><p>Title: Academy </p><p>Medium: painting, oil-based house paint, lead pencil, colored pencil, & pastel on canvas</p></div><div style='flex:1; padding:5px;'><img src='img_small/196_small.jpg' style='max-width:150px; max-height:150px;'><p>Cluster: 1</p><p>Artist: Richard Wentworth</p><p>Title: 35å¡9,32å¡18</p><p>Medium: sculpture, steel & aluminium</p></div><div style='flex:1; padding:5px;'><img src='img_small/201_small.jpg' style='max-width:150px; max-height:150px;'><p>Cluster: 1</p><p>Artist: Terry Winters</p><p>Title: Parallel Rendering 2</p><p>Medium: painting, oil & alkyd resin on canvas</p></div><div style='flex:1; padding:5px;'><img src='img_small/202_small.jpg' style='max-width:150px; max-height:150px;'><p>Cluster: 1</p><p>Artist: Wols (Alfred Otto Wolfgang Schulze)</p><p>Title: [no title]</p><p>Medium: print, etching & drypoint on paper</p></div><div style='flex:1; padding:5px;'><img src='img_small/219_small.jpg' style='max-width:150px; max-height:150px;'><p>Cluster: 1</p><p>Artist: V. Viswanadhan</p><p>Title: no title on website</p><p>Medium: print,</p></div><br><div style='flex:1; padding:5px;'><img src='img_small/243_small.jpg' style='max-width:150px; max-height:150px;'><p>Cluster: 1</p><p>Artist: Samantha Hobson</p><p>Title: Wave Burst</p><p>Medium: painting, acrylic on linen</p></div><div style='flex:1; padding:5px;'><img src='img_small/249_small.jpg' style='max-width:150px; max-height:150px;'><p>Cluster: 1</p><p>Artist: Wade Guyton</p><p>Title: Untitled</p><p>Medium: painting, inkjet on canvas</p></div><div style='flex:1; padding:5px;'><img src='img_small/278_small.jpg' style='max-width:150px; max-height:150px;'><p>Cluster: 1</p><p>Artist: Cai Guo-Qiang</p><p>Title: Drawing for Transient Rainbow</p><p>Medium: drawing, gunpowder on two sheets of paper</p></div><div style='flex:1; padding:5px;'><img src='img_small/298_small.jpg' style='max-width:150px; max-height:150px;'><p>Cluster: 1</p><p>Artist: Eve Aschheim</p><p>Title: Stretch</p><p>Medium: drawing, gesso, crayon & pencil on synthetic polymer sheet</p></div><div style='flex:1; padding:5px;'><img src='img_small/310_small.jpg' style='max-width:150px; max-height:150px;'><p>Cluster: 1</p><p>Artist: David Ireland</p><p>Title: Untitled from A variation on 79, side to side passes on a dumball, dedicated to the memory of John Cage 1912-1992</p><p>Medium: print, one from a portfolio of five etching & drypoints</p></div><br><div style='flex:1; padding:5px;'><img src='img_small/313_small.jpg' style='max-width:150px; max-height:150px;'><p>Cluster: 1</p><p>Artist: Al Taylor</p><p>Title: Untitled</p><p>Medium: sculpture, wooden broomsticks w/ enamel paint mounted on formica laminate</p></div><div style='flex:1; padding:5px;'><img src='img_small/317_small.jpg' style='max-width:150px; max-height:150px;'><p>Cluster: 1</p><p>Artist: David Rabinowitch</p><p>Title: Helleboros</p><p>Medium: drawing, charcoal & crayon on paper</p></div><div style='flex:1; padding:5px;'><img src='img_small/321_small.jpg' style='max-width:150px; max-height:150px;'><p>Cluster: 1</p><p>Artist: Alan Saret </p><p>Title: Untitled</p><p>Medium: sculpture, tin coated copper wire</p></div><div style='flex:1; padding:5px;'><img src='img_small/322_small.jpg' style='max-width:150px; max-height:150px;'><p>Cluster: 1</p><p>Artist: Gego (Gertrud Goldschmidt)</p><p>Title: Ledge II, no. 88/37</p><p>Medium: sculpture, steel, lead & plastic</p></div><div style='flex:1; padding:5px;'><img src='img_small/324_small.jpg' style='max-width:150px; max-height:150px;'><p>Cluster: 1</p><p>Artist: Fred Sandback</p><p>Title: Untitled (Fourth of Ten Corner Constructions, Sculptural Study, Yellow Version)</p><p>Medium: sculpture, gold acrylic yarn</p></div><br><div style='flex:1; padding:5px;'><img src='img_small/347_small.jpg' style='max-width:150px; max-height:150px;'><p>Cluster: 1</p><p>Artist: Jean Dubuffet </p><p>Title: Four Scribbles (Quatre gribouillis)</p><p>Medium: drawing, ink on paper</p></div><div style='flex:1; padding:5px;'><img src='img_small/395_small.jpg' style='max-width:150px; max-height:150px;'><p>Cluster: 1</p><p>Artist: Fernanda Gomes </p><p>Title: Untitled</p><p>Medium: installation, wood & painting</p></div><div style='flex:1; padding:5px;'><img src='img_small/401_small.jpg' style='max-width:150px; max-height:150px;'><p>Cluster: 1</p><p>Artist: Mohammad Ali Talpur</p><p>Title: Bird Flight</p><p>Medium: drawing,</p></div><div style='flex:1; padding:5px;'><img src='img_small/402_small.jpg' style='max-width:150px; max-height:150px;'><p>Cluster: 1</p><p>Artist: Mohammad Ali Talpur</p><p>Title: Machine Drawing</p><p>Medium: drawing, water based ink on paper</p></div></div></div><div><h2>Images in cluster: 2</h2><div style='display:flex; flex-wrap:wrap;'><div style='flex:1; padding:5px;'><img src='img_small/21_small.jpg' style='max-width:150px; max-height:150px;'><p>Cluster: 2</p><p>Artist: Boyd and Evans</p><p>Title: The Wall </p><p>Medium: painting, acrylic on canvas</p></div><div style='flex:1; padding:5px;'><img src='img_small/26_small.jpg' style='max-width:150px; max-height:150px;'><p>Cluster: 2</p><p>Artist: James Casebere</p><p>Title: Blue Hallway </p><p>Medium: photo</p></div><div style='flex:1; padding:5px;'><img src='img_small/38_small.jpg' style='max-width:150px; max-height:150px;'><p>Cluster: 2</p><p>Artist: FranÌ¤ois Louis Thomas Francia</p><p>Title: A Shipwreck </p><p>Medium: painting, watercolour on paper</p></div><div style='flex:1; padding:5px;'><img src='img_small/52_small.jpg' style='max-width:150px; max-height:150px;'><p>Cluster: 2</p><p>Artist: Tim Head</p><p>Title: Ambidextrous </p><p>Medium: photo, color on paper</p></div><div style='flex:1; padding:5px;'><img src='img_small/54_small.jpg' style='max-width:150px; max-height:150px;'><p>Cluster: 2</p><p>Artist: Anthony Hernandez</p><p>Title: Rome #17 </p><p>Medium: photo on paper</p></div><br><div style='flex:1; padding:5px;'><img src='img_small/64_small.jpg' style='max-width:150px; max-height:150px;'><p>Cluster: 2</p><p>Artist: Frank Humphrey Sinkler Jennings</p><p>Title: Swiss Roll </p><p>Medium: painting, oil paint on canvas on board</p></div><div style='flex:1; padding:5px;'><img src='img_small/66_small.jpg' style='max-width:150px; max-height:150px;'><p>Cluster: 2</p><p>Artist: Isaac Julien</p><p>Title: Vagabondia </p><p>Medium: video, 2 back projections, 7 mins</p></div><div style='flex:1; padding:5px;'><img src='img_small/79_small.jpg' style='max-width:150px; max-height:150px;'><p>Cluster: 2</p><p>Artist: RenÌ© Magritte</p><p>Title: Man with a Newspaper </p><p>Medium: painting, oil on canvas</p></div><div style='flex:1; padding:5px;'><img src='img_small/91_small.jpg' style='max-width:150px; max-height:150px;'><p>Cluster: 2</p><p>Artist: Gordon Matta-Clark</p><p>Title: Bronx Floors: Threshole </p><p>Medium: photo, 2 photos</p></div><div style='flex:1; padding:5px;'><img src='img_small/92_small.jpg' style='max-width:150px; max-height:150px;'><p>Cluster: 2</p><p>Artist: Dora Maurer</p><p>Title: Reversible and changeable phases of movement etude 3</p><p>Medium: photo, gelatin silver prints & chalk / graphite on paper</p></div><br><div style='flex:1; padding:5px;'><img src='img_small/100_small.jpg' style='max-width:150px; max-height:150px;'><p>Cluster: 2</p><p>Artist: John Everett Millais</p><p>Title: Ophelia </p><p>Medium: painting, oil on canvas</p></div><div style='flex:1; padding:5px;'><img src='img_small/105_small.jpg' style='max-width:150px; max-height:150px;'><p>Cluster: 2</p><p>Artist: Paul Nash </p><p>Title: Landscape from a Dream </p><p>Medium: painting, oil on canvas</p></div><div style='flex:1; padding:5px;'><img src='img_small/123_small.jpg' style='max-width:150px; max-height:150px;'><p>Cluster: 2</p><p>Artist: Pablo Picasso</p><p>Title: Guernica </p><p>Medium: painting, oil on canvas</p></div><div style='flex:1; padding:5px;'><img src='img_small/126_small.jpg' style='max-width:150px; max-height:150px;'><p>Cluster: 2</p><p>Artist: Steven Pippin</p><p>Title: Bath Tub Converted into a Pin-Hole Camera </p><p>Medium: photo, 21 photographs, black & white, on paper on board</p></div><div style='flex:1; padding:5px;'><img src='img_small/134_small.jpg' style='max-width:150px; max-height:150px;'><p>Cluster: 2</p><p>Artist: Ged Quinn</p><p>Title: Cross in the Wilderness </p><p>Medium: painting, oil on canvas</p></div><br><div style='flex:1; padding:5px;'><img src='img_small/157_small.jpg' style='max-width:150px; max-height:150px;'><p>Cluster: 2</p><p>Artist: Ed Ruscha </p><p>Title: maquette for Every Building on the Sunset Strip</p><p>Medium: photo, gelatin silver prints & labels on board with annotations</p></div><div style='flex:1; padding:5px;'><img src='img_small/164_small.jpg' style='max-width:150px; max-height:150px;'><p>Cluster: 2</p><p>Artist: Cindy Sherman</p><p>Title: Untitled Film Still #48 </p><p>Medium: photo, photograph, gelatin silver print on paper</p></div><div style='flex:1; padding:5px;'><img src='img_small/170_small.jpg' style='max-width:150px; max-height:150px;'><p>Cluster: 2</p><p>Artist: Stanley Spencer</p><p>Title: The Resurrection, Cookham </p><p>Medium: painting, oil on canvas</p></div><div style='flex:1; padding:5px;'><img src='img_small/174_small.jpg' style='max-width:150px; max-height:150px;'><p>Cluster: 2</p><p>Artist: Graham Sutherland </p><p>Title: Entrance to a Lane </p><p>Medium: painting oil on canvas</p></div><div style='flex:1; padding:5px;'><img src='img_small/189_small.jpg' style='max-width:150px; max-height:150px;'><p>Cluster: 2</p><p>Artist: Jeff Wall</p><p>Title: A Sudden Gust of Wind (after Hokusai) </p><p>Medium: photo, transparency on lightbox</p></div><br><div style='flex:1; padding:5px;'><img src='img_small/190_small.jpg' style='max-width:150px; max-height:150px;'><p>Cluster: 2</p><p>Artist: Alfred Wallis</p><p>Title: The Hold House Port Mear Square Island Port Mear Beach</p><p>Medium: painting, oil paint on board</p></div><div style='flex:1; padding:5px;'><img src='img_small/207_small.jpg' style='max-width:150px; max-height:150px;'><p>Cluster: 2</p><p>Artist: Carey Young</p><p>Title: Body Techniques (after Parallel Stress, Dennis Oppenheim,1970)</p><p>Medium: photo, photograph, color, on paper mounted onto aluminium</p></div><div style='flex:1; padding:5px;'><img src='img_small/210_small.jpg' style='max-width:150px; max-height:150px;'><p>Cluster: 2</p><p>Artist: Kiripi Katembo</p><p>Title: Subir, sÌ©rie Un Regard</p><p>Medium: photo, lightjet print</p></div><div style='flex:1; padding:5px;'><img src='img_small/216_small.jpg' style='max-width:150px; max-height:150px;'><p>Cluster: 2</p><p>Artist: Bhupen Khakhar </p><p>Title: Hamam Khana</p><p>Medium: painting, oil on board</p></div><div style='flex:1; padding:5px;'><img src='img_small/226_small.jpg' style='max-width:150px; max-height:150px;'><p>Cluster: 2</p><p>Artist: Pieter Bruegel ÛÏThe ElderÛ </p><p>Title: The Wine of Saint Martin's Day</p><p>Medium: painting, glue-size on twill</p></div><br><div style='flex:1; padding:5px;'><img src='img_small/228_small.jpg' style='max-width:150px; max-height:150px;'><p>Cluster: 2</p><p>Artist: Claes Claesz Wou</p><p>Title: Ships in a Storm</p><p>Medium: painting, oil on panel</p></div><div style='flex:1; padding:5px;'><img src='img_small/229_small.jpg' style='max-width:150px; max-height:150px;'><p>Cluster: 2</p><p>Artist: Jacob Peeter Gowy</p><p>Title: The Fall of Icarus</p><p>Medium: painting, oil on canvas</p></div><div style='flex:1; padding:5px;'><img src='img_small/230_small.jpg' style='max-width:150px; max-height:150px;'><p>Cluster: 2</p><p>Artist: Simon de Vlieger </p><p>Title: Forest</p><p>Medium: painting, oil on panel</p></div><div style='flex:1; padding:5px;'><img src='img_small/231_small.jpg' style='max-width:150px; max-height:150px;'><p>Cluster: 2</p><p>Artist: TomÌÁs Hiepes</p><p>Title: Landscape with a Vine</p><p>Medium: painting, oil on canvas</p></div><div style='flex:1; padding:5px;'><img src='img_small/234_small.jpg' style='max-width:150px; max-height:150px;'><p>Cluster: 2</p><p>Artist: Francisco de Goya y Lucientes </p><p>Title: The 3rd of May 1808 in Madrid or ÛÏThe ExecutionsÛ</p><p>Medium: painting, oil on canvas</p></div><br><div style='flex:1; padding:5px;'><img src='img_small/235_small.jpg' style='max-width:150px; max-height:150px;'><p>Cluster: 2</p><p>Artist: Francisco de Goya y Lucientes </p><p>Title: Asmodea</p><p>Medium: painting, mixed method on mural transferred to canvas</p></div><div style='flex:1; padding:5px;'><img src='img_small/238_small.jpg' style='max-width:150px; max-height:150px;'><p>Cluster: 2</p><p>Artist: Juan de Flandes </p><p>Title: The Ascension</p><p>Medium: painting, oil on pine panel</p></div><div style='flex:1; padding:5px;'><img src='img_small/239_small.jpg' style='max-width:150px; max-height:150px;'><p>Cluster: 2</p><p>Artist: Lucas Cranach the Elder</p><p>Title: CacerÌ_a en el castillo de Torgau en honor de Fernando I</p><p>Medium: painting, oil on panel</p></div><div style='flex:1; padding:5px;'><img src='img_small/306_small.jpg' style='max-width:150px; max-height:150px;'><p>Cluster: 2</p><p>Artist: Ant Farm</p><p>Title: Cadillac Ranch Show</p><p>Medium: photo, still from video (color, sound)</p></div><div style='flex:1; padding:5px;'><img src='img_small/363_small.jpg' style='max-width:150px; max-height:150px;'><p>Cluster: 2</p><p>Artist: M. C. Escher </p><p>Title: Relativity</p><p>Medium: print, lithograph</p></div><br><div style='flex:1; padding:5px;'><img src='img_small/377_small.jpg' style='max-width:150px; max-height:150px;'><p>Cluster: 2</p><p>Artist: Natalia Goncharova</p><p>Title: Composition</p><p>Medium: painting, watercolor on paper</p></div><div style='flex:1; padding:5px;'><img src='img_small/389_small.jpg' style='max-width:150px; max-height:150px;'><p>Cluster: 2</p><p>Artist: Salvador DalÌ_ </p><p>Title: The Persistence of Memory</p><p>Medium: painting, oil on canvas</p></div></div></div><div><h2>Images in cluster: 3</h2><div style='display:flex; flex-wrap:wrap;'><div style='flex:1; padding:5px;'><img src='img_small/10_small.jpg' style='max-width:150px; max-height:150px;'><p>Cluster: 3</p><p>Artist: Willi Baumeister</p><p>Title: Untitled (Suspended Lines I) </p><p>Medium: print, lithograph on paper</p></div><div style='flex:1; padding:5px;'><img src='img_small/12_small.jpg' style='max-width:150px; max-height:150px;'><p>Cluster: 3</p><p>Artist: Hans Bellmer</p><p>Title: The Doll </p><p>Medium: photo, gelatin silver print on paper</p></div><div style='flex:1; padding:5px;'><img src='img_small/18_small.jpg' style='max-width:150px; max-height:150px;'><p>Cluster: 3</p><p>Artist: Mel Bochner</p><p>Title: Language is not transparent </p><p>Medium: drawing, ink on paper</p></div><div style='flex:1; padding:5px;'><img src='img_small/37_small.jpg' style='max-width:150px; max-height:150px;'><p>Cluster: 3</p><p>Artist: LeÌ_n Ferrari</p><p>Title: Toilet </p><p>Medium: print, blueprint on paper</p></div><div style='flex:1; padding:5px;'><img src='img_small/61_small.jpg' style='max-width:150px; max-height:150px;'><p>Cluster: 3</p><p>Artist: Roni Horn</p><p>Title: Then 2</p><p>Medium: drawing, blue and red pigment and varnish on paper</p></div><br><div style='flex:1; padding:5px;'><img src='img_small/71_small.jpg' style='max-width:150px; max-height:150px;'><p>Cluster: 3</p><p>Artist: Yayoi Kusama</p><p>Title: Infinity Mirrored Room-Gleaming Lights of the Soul    </p><p>Medium: installation, wood, metal, mirrors, acrylic panel, LED lighting, water</p></div><div style='flex:1; padding:5px;'><img src='img_small/89_small.jpg' style='max-width:150px; max-height:150px;'><p>Cluster: 3</p><p>Artist: Kenneth Martin</p><p>Title: Chance and Order Group VII, Drawing 6</p><p>Medium: painting, crayon, graphite, watercolour on paper</p></div><div style='flex:1; padding:5px;'><img src='img_small/102_small.jpg' style='max-width:150px; max-height:150px;'><p>Cluster: 3</p><p>Artist: Joan Mitchell</p><p>Title: Sides of a River II</p><p>Medium: print, lithograph on paper</p></div><div style='flex:1; padding:5px;'><img src='img_small/145_small.jpg' style='max-width:150px; max-height:150px;'><p>Cluster: 3</p><p>Artist: Bridget Riley</p><p>Title: Fall </p><p>Medium: painting, polyvinyl acetate paint on hardboard</p></div><div style='flex:1; padding:5px;'><img src='img_small/154_small.jpg' style='max-width:150px; max-height:150px;'><p>Cluster: 3</p><p>Artist: Felix Rozen</p><p>Title: [no title] </p><p>Medium: print, screenprint on paper</p></div><br><div style='flex:1; padding:5px;'><img src='img_small/161_small.jpg' style='max-width:150px; max-height:150px;'><p>Cluster: 3</p><p>Artist: Mira Schendel</p><p>Title: Perforated V (Perfurados V) </p><p>Medium: drawing, perforated paper</p></div><div style='flex:1; padding:5px;'><img src='img_small/177_small.jpg' style='max-width:150px; max-height:150px;'><p>Cluster: 3</p><p>Artist: Jean Tinguely</p><p>Title: Chaos I</p><p>Medium: print, etching on paper</p></div><div style='flex:1; padding:5px;'><img src='img_small/179_small.jpg' style='max-width:150px; max-height:150px;'><p>Cluster: 3</p><p>Artist: Alison Turnbull</p><p>Title: Ecliptic</p><p>Medium: painting, oil, acrylic & silverpoint on canvas</p></div><div style='flex:1; padding:5px;'><img src='img_small/220_small.jpg' style='max-width:150px; max-height:150px;'><p>Cluster: 3</p><p>Artist: V. Arnawaz</p><p>Title: no title on website</p><p>Medium: painting,</p></div><div style='flex:1; padding:5px;'><img src='img_small/237_small.jpg' style='max-width:150px; max-height:150px;'><p>Cluster: 3</p><p>Artist: Francisco de Goya y Lucientes </p><p>Title: Dream 1. Universal Language. The Author dreaming</p><p>Medium: drawing, black chalk, pencil, iron gall ink on dark yellow laid paper</p></div><br><div style='flex:1; padding:5px;'><img src='img_small/241_small.jpg' style='max-width:150px; max-height:150px;'><p>Cluster: 3</p><p>Artist: Fabrianne Peterson Nampitjinpa</p><p>Title: Damper Seed</p><p>Medium: painting, acrylic on canvas</p></div><div style='flex:1; padding:5px;'><img src='img_small/242_small.jpg' style='max-width:150px; max-height:150px;'><p>Cluster: 3</p><p>Artist: Gloria Petyarre</p><p>Title: Bush Medicine Leaves</p><p>Medium: painting, acrylic on linen</p></div><div style='flex:1; padding:5px;'><img src='img_small/246_small.jpg' style='max-width:150px; max-height:150px;'><p>Cluster: 3</p><p>Artist: Christiane Baumgartner</p><p>Title: Strand from Alan Cristea Gallery Twentieth Anniversary Portfolio</p><p>Medium: print, woodcut</p></div><div style='flex:1; padding:5px;'><img src='img_small/253_small.jpg' style='max-width:150px; max-height:150px;'><p>Cluster: 3</p><p>Artist: Jasper Johns</p><p>Title: Alphabets</p><p>Medium: print, lithograph</p></div><div style='flex:1; padding:5px;'><img src='img_small/276_small.jpg' style='max-width:150px; max-height:150px;'><p>Cluster: 3</p><p>Artist: Dan Miller</p><p>Title: Untitled</p><p>Medium: drawing, felt-tip pen on paper</p></div><br><div style='flex:1; padding:5px;'><img src='img_small/279_small.jpg' style='max-width:150px; max-height:150px;'><p>Cluster: 3</p><p>Artist: Beth Campbell</p><p>Title: My Potential Future Based on Present Circumstances (12/14/02)</p><p>Medium: drawing, pencil on paper</p></div><div style='flex:1; padding:5px;'><img src='img_small/305_small.jpg' style='max-width:150px; max-height:150px;'><p>Cluster: 3</p><p>Artist: Barry Le Va </p><p>Title: Pyramid: Center Points and Lengths (Through Points of Tangency): 3 Layers Separately Overlaid</p><p>Medium: drawing, ink on colored paper</p></div><div style='flex:1; padding:5px;'><img src='img_small/314_small.jpg' style='max-width:150px; max-height:150px;'><p>Cluster: 3</p><p>Artist: Hannah Wilke </p><p>Title: Hername</p><p>Medium: print, sixteen etchings on one sheet</p></div><div style='flex:1; padding:5px;'><img src='img_small/316_small.jpg' style='max-width:150px; max-height:150px;'><p>Cluster: 3</p><p>Artist: John Cage </p><p>Title: IX from Mushroom Book</p><p>Medium: print, lithograph</p></div><div style='flex:1; padding:5px;'><img src='img_small/332_small.jpg' style='max-width:150px; max-height:150px;'><p>Cluster: 3</p><p>Artist: Nasreen Mohamedi </p><p>Title: Untitled</p><p>Medium: drawing, pencil & ink on graph paper</p></div><br><div style='flex:1; padding:5px;'><img src='img_small/341_small.jpg' style='max-width:150px; max-height:150px;'><p>Cluster: 3</p><p>Artist: Paul Sharits</p><p>Title: Spasmatic Pain I (Boulder Community Hospital)</p><p>Medium: drawing, felt-tip pen on paper</p></div><div style='flex:1; padding:5px;'><img src='img_small/345_small.jpg' style='max-width:150px; max-height:150px;'><p>Cluster: 3</p><p>Artist: Heinz Mack</p><p>Title: Untitled</p><p>Medium: print, lithograph</p></div><div style='flex:1; padding:5px;'><img src='img_small/353_small.jpg' style='max-width:150px; max-height:150px;'><p>Cluster: 3</p><p>Artist: Merce Cunningham</p><p>Title: Suite by Chance (Movement Chart II C-D-E Extensions)</p><p>Medium: drawing, ballpoint pen & pencil on graph paper</p></div><div style='flex:1; padding:5px;'><img src='img_small/358_small.jpg' style='max-width:150px; max-height:150px;'><p>Cluster: 3</p><p>Artist: Alexander Calder</p><p>Title: The Bicycle</p><p>Medium: sculpture, wood, metal, motor, cord, & steel wire</p></div></div></div><div><h2>Images in cluster: 4</h2><div style='display:flex; flex-wrap:wrap;'><div style='flex:1; padding:5px;'><img src='img_small/63_small.jpg' style='max-width:150px; max-height:150px;'><p>Cluster: 4</p><p>Artist: Tess Jaray</p><p>Title: Cupola Blue </p><p>Medium: painting, oil on canvas</p></div><div style='flex:1; padding:5px;'><img src='img_small/70_small.jpg' style='max-width:150px; max-height:150px;'><p>Cluster: 4</p><p>Artist: Guillermo Kuitca</p><p>Title: Untitled</p><p>Medium: painting, oil on canvas</p></div><div style='flex:1; padding:5px;'><img src='img_small/83_small.jpg' style='max-width:150px; max-height:150px;'><p>Cluster: 4</p><p>Artist: Man Ray</p><p>Title: not titled Rayograph</p><p>Medium: photo, gelatin silver print on paper</p></div><div style='flex:1; padding:5px;'><img src='img_small/99_small.jpg' style='max-width:150px; max-height:150px;'><p>Cluster: 4</p><p>Artist: Henri Michaux</p><p>Title: [no title]</p><p>Medium: print, lithograph on paper</p></div><div style='flex:1; padding:5px;'><img src='img_small/101_small.jpg' style='max-width:150px; max-height:150px;'><p>Cluster: 4</p><p>Artist: Joan Miro</p><p>Title: Painting </p><p>Medium: painting, tempera & oil on canvas</p></div><br><div style='flex:1; padding:5px;'><img src='img_small/120_small.jpg' style='max-width:150px; max-height:150px;'><p>Cluster: 4</p><p>Artist: Roland Penrose</p><p>Title: House the Light-house </p><p>Medium: painting, gouache, graphite, ink & postcards on paper</p></div><div style='flex:1; padding:5px;'><img src='img_small/121_small.jpg' style='max-width:150px; max-height:150px;'><p>Cluster: 4</p><p>Artist: Margot Perryman</p><p>Title: Arcade </p><p>Medium: painting, acrylic on canvas</p></div><div style='flex:1; padding:5px;'><img src='img_small/129_small.jpg' style='max-width:150px; max-height:150px;'><p>Cluster: 4</p><p>Artist: Larry Poons</p><p>Title: Out</p><p>Medium: painting, acrylic on canvas</p></div><div style='flex:1; padding:5px;'><img src='img_small/133_small.jpg' style='max-width:150px; max-height:150px;'><p>Cluster: 4</p><p>Artist: R.H. Quaytman</p><p>Title: Chapter 12: iamb</p><p>Medium: painting, silkscreen, gesso on wood</p></div><div style='flex:1; padding:5px;'><img src='img_small/148_small.jpg' style='max-width:150px; max-height:150px;'><p>Cluster: 4</p><p>Artist: Franz Roh</p><p>Title: Masks Survive </p><p>Medium: print, lineblock prints & halftone prints on paper mounted onto paper</p></div><br><div style='flex:1; padding:5px;'><img src='img_small/156_small.jpg' style='max-width:150px; max-height:150px;'><p>Cluster: 4</p><p>Artist: Ed Ruscha</p><p>Title: Untitled</p><p>Medium: painting, acrylic on canvas</p></div><div style='flex:1; padding:5px;'><img src='img_small/162_small.jpg' style='max-width:150px; max-height:150px;'><p>Cluster: 4</p><p>Artist: Kurt Schwitters</p><p>Title: Merzbau</p><p>Medium: installation, mixed media</p></div><div style='flex:1; padding:5px;'><img src='img_small/185_small.jpg' style='max-width:150px; max-height:150px;'><p>Cluster: 4</p><p>Artist: Victor Vasarely</p><p>Title: Vega </p><p>Medium: painting, acrylic on canvas</p></div><div style='flex:1; padding:5px;'><img src='img_small/193_small.jpg' style='max-width:150px; max-height:150px;'><p>Cluster: 4</p><p>Artist: Boyd Webb</p><p>Title: First Principles</p><p>Medium: photo, photograph, color, Cibachrome print, on paper mounted onto board</p></div><div style='flex:1; padding:5px;'><img src='img_small/195_small.jpg' style='max-width:150px; max-height:150px;'><p>Cluster: 4</p><p>Artist: Lionel Wendt</p><p>Title: [title not known]</p><p>Medium: photo, photograph, gelatin silver print on paper</p></div><br><div style='flex:1; padding:5px;'><img src='img_small/209_small.jpg' style='max-width:150px; max-height:150px;'><p>Cluster: 4</p><p>Artist: Ricci Albenda</p><p>Title: Panoramic Portal to Another Dimension (Deanna)</p><p>Medium: installation, MDF & acrylic paint</p></div><div style='flex:1; padding:5px;'><img src='img_small/217_small.jpg' style='max-width:150px; max-height:150px;'><p>Cluster: 4</p><p>Artist: Prabhakar Barwe</p><p>Title: Silent Observer</p><p>Medium: painting, enamel on canvas</p></div><div style='flex:1; padding:5px;'><img src='img_small/221_small.jpg' style='max-width:150px; max-height:150px;'><p>Cluster: 4</p><p>Artist: S. Nandagopal</p><p>Title: The Hunt</p><p>Medium: sculpture, copper & brass welded</p></div><div style='flex:1; padding:5px;'><img src='img_small/247_small.jpg' style='max-width:150px; max-height:150px;'><p>Cluster: 4</p><p>Artist: Mark Bradford</p><p>Title: Disappear Like a Dope Fiend</p><p>Medium: painting, mixed media, collage on canvas</p></div><div style='flex:1; padding:5px;'><img src='img_small/259_small.jpg' style='max-width:150px; max-height:150px;'><p>Cluster: 4</p><p>Artist: Lucas Blalock</p><p>Title: The Covered Piano</p><p>Medium: photo, archival inkjet print</p></div><br><div style='flex:1; padding:5px;'><img src='img_small/286_small.jpg' style='max-width:150px; max-height:150px;'><p>Cluster: 4</p><p>Artist: Mathias Schmied</p><p>Title: Venetian Blinds</p><p>Medium: drawing, cut printed paper</p></div><div style='flex:1; padding:5px;'><img src='img_small/304_small.jpg' style='max-width:150px; max-height:150px;'><p>Cluster: 4</p><p>Artist: Sue Williams</p><p>Title: Chicken Leg in Yellow</p><p>Medium: painting, oil on canvas</p></div><div style='flex:1; padding:5px;'><img src='img_small/308_small.jpg' style='max-width:150px; max-height:150px;'><p>Cluster: 4</p><p>Artist: Joan Waltemath </p><p>Title: Untitled</p><p>Medium: drawing, pencil & colored pencil on diazotype</p></div><div style='flex:1; padding:5px;'><img src='img_small/349_small.jpg' style='max-width:150px; max-height:150px;'><p>Cluster: 4</p><p>Artist: Alberto Giacometti</p><p>Title: Point to the Eye</p><p>Medium: sculpture, wood & metal</p></div><div style='flex:1; padding:5px;'><img src='img_small/352_small.jpg' style='max-width:150px; max-height:150px;'><p>Cluster: 4</p><p>Artist: Forrest Bess</p><p>Title: Untitled</p><p>Medium: painting, oil on canvas with wood frame</p></div><br><div style='flex:1; padding:5px;'><img src='img_small/371_small.jpg' style='max-width:150px; max-height:150px;'><p>Cluster: 4</p><p>Artist: Vasily Kandinsky</p><p>Title: Panel for Edwin R. Campbell No. 4</p><p>Medium: painting, oil on canvas</p></div><div style='flex:1; padding:5px;'><img src='img_small/373_small.jpg' style='max-width:150px; max-height:150px;'><p>Cluster: 4</p><p>Artist: Giacomo Balla</p><p>Title: Swifts: Paths of Movement + Dynamic Sequences</p><p>Medium: painting, oil on canvas</p></div><div style='flex:1; padding:5px;'><img src='img_small/396_small.jpg' style='max-width:150px; max-height:150px;'><p>Cluster: 4</p><p>Artist: Oskar Fischinger</p><p>Title: An Optical Poem</p><p>Medium: film,</p></div></div></div><div><h2>Images in cluster: 5</h2><div style='display:flex; flex-wrap:wrap;'><div style='flex:1; padding:5px;'><img src='img_small/3_small.jpg' style='max-width:150px; max-height:150px;'><p>Cluster: 5</p><p>Artist: Giovanni Anselmo</p><p>Title: Direction</p><p>Medium: sculpture, fabric, glass & metal</p></div><div style='flex:1; padding:5px;'><img src='img_small/25_small.jpg' style='max-width:150px; max-height:150px;'><p>Cluster: 5</p><p>Artist: Luis Camnitzer</p><p>Title: Leftovers</p><p>Medium: installation, cardboard boxes, gauze, polyvinyl acetate</p></div><div style='flex:1; padding:5px;'><img src='img_small/36_small.jpg' style='max-width:150px; max-height:150px;'><p>Cluster: 5</p><p>Artist: Jean Fautrier</p><p>Title: Head of a Hostage </p><p>Medium: sculpture, lead on marble base</p></div><div style='flex:1; padding:5px;'><img src='img_small/74_small.jpg' style='max-width:150px; max-height:150px;'><p>Cluster: 5</p><p>Artist: Lee Bul</p><p>Title: Souterrain</p><p>Medium: sculpture, plywood on wooden frame, acrylic, mirror, alkyd paint</p></div><div style='flex:1; padding:5px;'><img src='img_small/76_small.jpg' style='max-width:150px; max-height:150px;'><p>Cluster: 5</p><p>Artist: Liliane Lijn</p><p>Title: Liquid Reflections 2nd Series </p><p>Medium: installation, acrylic drum w/ water, turntable, projector lamp, acrylic balls</p></div><br><div style='flex:1; padding:5px;'><img src='img_small/95_small.jpg' style='max-width:150px; max-height:150px;'><p>Cluster: 5</p><p>Artist: David Medalla</p><p>Title: Cloud Windows</p><p>Medium: sculpture, wood, formica w/ bubble-generating machine</p></div><div style='flex:1; padding:5px;'><img src='img_small/107_small.jpg' style='max-width:150px; max-height:150px;'><p>Cluster: 5</p><p>Artist: Mike Nelson</p><p>Title: A Psychic Vacuum </p><p>Medium: installation, sand</p></div><div style='flex:1; padding:5px;'><img src='img_small/113_small.jpg' style='max-width:150px; max-height:150px;'><p>Cluster: 5</p><p>Artist: Claes Oldenburg and Coosje van Bruggen</p><p>Title: Soft Viola </p><p>Medium: sculpture, canvas, resin, rope, & metal painted with latex</p></div><div style='flex:1; padding:5px;'><img src='img_small/142_small.jpg' style='max-width:150px; max-height:150px;'><p>Cluster: 5</p><p>Artist: RosÌ¢ngela RennÌ_</p><p>Title: Experiencing Cinema</p><p>Medium: installation, video, projection, color & smoke machine</p></div><div style='flex:1; padding:5px;'><img src='img_small/152_small.jpg' style='max-width:150px; max-height:150px;'><p>Cluster: 5</p><p>Artist: Dieter Roth</p><p>Title: Untitled</p><p>Medium: sculpture, toys, sweets, trinkets, printed matter, painting utensils, adhesive tape, tools, refuse, strips of wood & metal, glue on corrugated cardboard. Sour milk, fruit juice, cocoa, dead insects in plastic tubes, in wooden frame with openings for pouring in liquids</p></div><br><div style='flex:1; padding:5px;'><img src='img_small/166_small.jpg' style='max-width:150px; max-height:150px;'><p>Cluster: 5</p><p>Artist: Robert Smithson</p><p>Title: Asphalt Rundown </p><p>Medium: installation, asphalt, hillside</p></div><div style='flex:1; padding:5px;'><img src='img_small/167_small.jpg' style='max-width:150px; max-height:150px;'><p>Cluster: 5</p><p>Artist: Robert Smithson</p><p>Title: Partially Buried Woodshe</p><p>Medium: installation, earth, shed</p></div><div style='flex:1; padding:5px;'><img src='img_small/197_small.jpg' style='max-width:150px; max-height:150px;'><p>Cluster: 5</p><p>Artist: Franz West </p><p>Title: Sisyphos IV</p><p>Medium: sculpture, papier-machÌÎå©, styrofoam, cardboard, lacquer & acrylic</p></div><div style='flex:1; padding:5px;'><img src='img_small/199_small.jpg' style='max-width:150px; max-height:150px;'><p>Cluster: 5</p><p>Artist: Rachel Whiteread</p><p>Title: House</p><p>Medium: installation, concrete</p></div><div style='flex:1; padding:5px;'><img src='img_small/218_small.jpg' style='max-width:150px; max-height:150px;'><p>Cluster: 5</p><p>Artist: Jitish Kallat</p><p>Title: Found Burnt Text</p><p>Medium: installation, burnt adhesive</p></div><br><div style='flex:1; padding:5px;'><img src='img_small/254_small.jpg' style='max-width:150px; max-height:150px;'><p>Cluster: 5</p><p>Artist: Sam Lewitt</p><p>Title: Fluid Employment</p><p>Medium: installation, ferromagnetic liquid poured bi-weekly over plastic sheets & magnetic elements, fans</p></div><div style='flex:1; padding:5px;'><img src='img_small/257_small.jpg' style='max-width:150px; max-height:150px;'><p>Cluster: 5</p><p>Artist: GÌ_nther Uecker</p><p>Title: Sturz</p><p>Medium: painting, nails & acrylic paint on canvas over a wooden panel</p></div><div style='flex:1; padding:5px;'><img src='img_small/280_small.jpg' style='max-width:150px; max-height:150px;'><p>Cluster: 5</p><p>Artist: Diller + Scofidio</p><p>Title: Blur Building, Yverdon-les-Bains, Switzerland</p><p>Medium: photo, still of video of installation</p></div><div style='flex:1; padding:5px;'><img src='img_small/307_small.jpg' style='max-width:150px; max-height:150px;'><p>Cluster: 5</p><p>Artist: James Turrell </p><p>Title: Frontal Passage</p><p>Medium: installation, light</p></div><div style='flex:1; padding:5px;'><img src='img_small/323_small.jpg' style='max-width:150px; max-height:150px;'><p>Cluster: 5</p><p>Artist: Michael Heizer</p><p>Title: Levitated Mass</p><p>Medium: sculpture, diorite granite, concrete</p></div><br><div style='flex:1; padding:5px;'><img src='img_small/335_small.jpg' style='max-width:150px; max-height:150px;'><p>Cluster: 5</p><p>Artist: Arman</p><p>Title: I Still Use Brushes</p><p>Medium: sculpture, brushes embedded in plastic, in acrylic box</p></div><div style='flex:1; padding:5px;'><img src='img_small/337_small.jpg' style='max-width:150px; max-height:150px;'><p>Cluster: 5</p><p>Artist: Paul Thek</p><p>Title: _Fishman in Excelsis Table_</p><p>Medium: sculpture, mixed media: wood, latex, wax, metal, paint, fabric, string, & Styrofoam</p></div><div style='flex:1; padding:5px;'><img src='img_small/342_small.jpg' style='max-width:150px; max-height:150px;'><p>Cluster: 5</p><p>Artist: Sheila Hicks </p><p>Title: Unfinished Conversation</p><p>Medium: painting, wool, linen, wood, aluminum</p></div><div style='flex:1; padding:5px;'><img src='img_small/366_small.jpg' style='max-width:150px; max-height:150px;'><p>Cluster: 5</p><p>Artist: Meret Oppenheim </p><p>Title: Object</p><p>Medium: sculpture, fur-covered cup, saucer, & spoon</p></div><div style='flex:1; padding:5px;'><img src='img_small/375_small.jpg' style='max-width:150px; max-height:150px;'><p>Cluster: 5</p><p>Artist: Jacques Villon</p><p>Title: Interior</p><p>Medium: drawing, ink on paper</p></div><br><div style='flex:1; padding:5px;'><img src='img_small/385_small.jpg' style='max-width:150px; max-height:150px;'><p>Cluster: 5</p><p>Artist: Allan Kaprow </p><p>Title: Fluids</p><p>Medium: installation, blocks of ice</p></div><div style='flex:1; padding:5px;'><img src='img_small/386_small.jpg' style='max-width:150px; max-height:150px;'><p>Cluster: 5</p><p>Artist: Charles Long</p><p>Title: Untitled</p><p>Medium: sculpture, papier machÌÎå©, plaster, steel, acrylic, river sediment & debris</p></div><div style='flex:1; padding:5px;'><img src='img_small/387_small.jpg' style='max-width:150px; max-height:150px;'><p>Cluster: 5</p><p>Artist: Jeff Koons</p><p>Title: Balloon Dog</p><p>Medium: sculpture, mirror-polished stainless steel w/ transparent color coating</p></div></div></div><div><h2>Images in cluster: 6</h2><div style='display:flex; flex-wrap:wrap;'><div style='flex:1; padding:5px;'><img src='img_small/35_small.jpg' style='max-width:150px; max-height:150px;'><p>Cluster: 6</p><p>Artist: ÌÐyvind FahlstrÌ¦m</p><p>Title: Sketch for World Map Part 1 (Americas, Pacific) </p><p>Medium: print, lithograph on paper</p></div><div style='flex:1; padding:5px;'><img src='img_small/56_small.jpg' style='max-width:150px; max-height:150px;'><p>Cluster: 6</p><p>Artist: Charline von Heyl</p><p>Title: Twelve Thirty </p><p>Medium: painting, acrylic on canvas</p></div><div style='flex:1; padding:5px;'><img src='img_small/68_small.jpg' style='max-width:150px; max-height:150px;'><p>Cluster: 6</p><p>Artist: Barbara Kasten</p><p>Title: Untitled 13</p><p>Medium: photo, gelatin silver print on paper</p></div><div style='flex:1; padding:5px;'><img src='img_small/169_small.jpg' style='max-width:150px; max-height:150px;'><p>Cluster: 6</p><p>Artist: JesÌ¼s Rafael Soto</p><p>Title: Houston Penetrable</p><p>Medium: installation, 24,000 PVC tubes</p></div><div style='flex:1; padding:5px;'><img src='img_small/172_small.jpg' style='max-width:150px; max-height:150px;'><p>Cluster: 6</p><p>Artist: Ian Stephenson</p><p>Title: Flaxman: Understudy</p><p>Medium: painting, oil, enamel & paper on paper</p></div><br><div style='flex:1; padding:5px;'><img src='img_small/181_small.jpg' style='max-width:150px; max-height:150px;'><p>Cluster: 6</p><p>Artist: Richard Tuttle </p><p>Title: Dawn, Noon, Dusk: Paper (1)</p><p>Medium: drawing, watermarked sheet of handmade paper w/ pigment additions, mounted on colored paper in handpainted wooden frame</p></div><div style='flex:1; padding:5px;'><img src='img_small/186_small.jpg' style='max-width:150px; max-height:150px;'><p>Cluster: 6</p><p>Artist: Vladimir Velickovic</p><p>Title: Elements and Documents Employed </p><p>Medium: print, screenprint on paper</p></div><div style='flex:1; padding:5px;'><img src='img_small/188_small.jpg' style='max-width:150px; max-height:150px;'><p>Cluster: 6</p><p>Artist: Luigi Veronesi</p><p>Title: Photo n.152</p><p>Medium: photo, photograph, gelatin silver print on paper</p></div><div style='flex:1; padding:5px;'><img src='img_small/245_small.jpg' style='max-width:150px; max-height:150px;'><p>Cluster: 6</p><p>Artist: Julie Mehretu</p><p>Title: Epigraph, Damascus</p><p>Medium: print, photogravure & aquatint on six panels (twelve sheets)</p></div><div style='flex:1; padding:5px;'><img src='img_small/261_small.jpg' style='max-width:150px; max-height:150px;'><p>Cluster: 6</p><p>Artist: Eileen Quinlan</p><p>Title: Makers</p><p>Medium: photo, gelatin silver print</p></div><br><div style='flex:1; padding:5px;'><img src='img_small/263_small.jpg' style='max-width:150px; max-height:150px;'><p>Cluster: 6</p><p>Artist: Sarah Sze</p><p>Title: Untitled</p><p>Medium: installation, mixed media</p></div><div style='flex:1; padding:5px;'><img src='img_small/289_small.jpg' style='max-width:150px; max-height:150px;'><p>Cluster: 6</p><p>Artist: William Anastasi</p><p>Title: Pocket Drawing - Sept. 24, 2002</p><p>Medium: drawing, pencil on paper</p></div><div style='flex:1; padding:5px;'><img src='img_small/292_small.jpg' style='max-width:150px; max-height:150px;'><p>Cluster: 6</p><p>Artist: Damien Hirst</p><p>Title: Lavender baby from In a Spin, the Action of the World on Things, Volume 1</p><p>Medium: print, etching from series of 23</p></div><div style='flex:1; padding:5px;'><img src='img_small/296_small.jpg' style='max-width:150px; max-height:150px;'><p>Cluster: 6</p><p>Artist: Mark Lombardi</p><p>Title: Freeport</p><p>Medium: drawing, ballpoint pen & pencil on notebook paper</p></div><div style='flex:1; padding:5px;'><img src='img_small/334_small.jpg' style='max-width:150px; max-height:150px;'><p>Cluster: 6</p><p>Artist: Marcel Broodthaers </p><p>Title: Un coup de dÌ©s jamais n'abolira le hasard (A throw of the dice will never abolish chance)</p><p>Medium: print, mechanical engraving & paint on 12 aluminum plates</p></div><br><div style='flex:1; padding:5px;'><img src='img_small/338_small.jpg' style='max-width:150px; max-height:150px;'><p>Cluster: 6</p><p>Artist: Mira Schendel </p><p>Title: Untitled from the series Graphic objects (Objetos grÌÁficos)</p><p>Medium: drawing, graphite, transfer type, and oil on paper between\n",
       "transparent acrylic sheets with transfer type</p></div><div style='flex:1; padding:5px;'><img src='img_small/380_small.jpg' style='max-width:150px; max-height:150px;'><p>Cluster: 6</p><p>Artist: Pablo Picasso</p><p>Title: Still Life with Bottle of Marc (Nature morte ÌÊ la bouteille de marc)</p><p>Medium: print, drypoint in black on Arches paper</p></div><div style='flex:1; padding:5px;'><img src='img_small/393_small.jpg' style='max-width:150px; max-height:150px;'><p>Cluster: 6</p><p>Artist: Daniel Dezeuze</p><p>Title: Le tableau serait-il un artefact parmi dÛªautres ?</p><p>Medium: installation, mixed media</p></div></div></div><div><h2>Images in cluster: 7</h2><div style='display:flex; flex-wrap:wrap;'><div style='flex:1; padding:5px;'><img src='img_small/8_small.jpg' style='max-width:150px; max-height:150px;'><p>Cluster: 7</p><p>Artist: Thomas Barker of Bath</p><p>Title: The Woodman and his Dog in a Storm </p><p>Medium: painting, oil on canvas</p></div><div style='flex:1; padding:5px;'><img src='img_small/16_small.jpg' style='max-width:150px; max-height:150px;'><p>Cluster: 7</p><p>Artist: Rut Blees Luxemburg</p><p>Title: Viewing the Open</p><p>Medium: photo, paper mounted onto aluminium</p></div><div style='flex:1; padding:5px;'><img src='img_small/20_small.jpg' style='max-width:150px; max-height:150px;'><p>Cluster: 7</p><p>Artist: Derek Boshier </p><p>Title: The Identi-Kit Man </p><p>Medium: painting, oil on canvas</p></div><div style='flex:1; padding:5px;'><img src='img_small/23_small.jpg' style='max-width:150px; max-height:150px;'><p>Cluster: 7</p><p>Artist: Adam Broomberg & Oliver Chanarin </p><p>Title: Political 1 sheet 19 </p><p>Medium: photo, digital print on paper</p></div><div style='flex:1; padding:5px;'><img src='img_small/30_small.jpg' style='max-width:150px; max-height:150px;'><p>Cluster: 7</p><p>Artist: Peter Doig</p><p>Title: Echo Lake </p><p>Medium: paint, oil on canvas</p></div><br><div style='flex:1; padding:5px;'><img src='img_small/33_small.jpg' style='max-width:150px; max-height:150px;'><p>Cluster: 7</p><p>Artist: Marlene Dumas</p><p>Title: Lucy </p><p>Medium: painting, oil on canvas</p></div><div style='flex:1; padding:5px;'><img src='img_small/34_small.jpg' style='max-width:150px; max-height:150px;'><p>Cluster: 7</p><p>Artist: Max Ernst</p><p>Title: Celebes </p><p>Medium: painting, oil on canvas</p></div><div style='flex:1; padding:5px;'><img src='img_small/50_small.jpg' style='max-width:150px; max-height:150px;'><p>Cluster: 7</p><p>Artist: Eberhard Havekost</p><p>Title: Ghost 1 </p><p>Medium: painting, oil on canvas</p></div><div style='flex:1; padding:5px;'><img src='img_small/59_small.jpg' style='max-width:150px; max-height:150px;'><p>Cluster: 7</p><p>Artist: Rebecca Horn </p><p>Title: Concert for Anarchy</p><p>Medium: installation, piano, hydraulic rams & compressor</p></div><div style='flex:1; padding:5px;'><img src='img_small/69_small.jpg' style='max-width:150px; max-height:150px;'><p>Cluster: 7</p><p>Artist: GyÌ¦rgy Kepes</p><p>Title: Leaf and Prism </p><p>Medium: photo, gelatin silver print on paper</p></div><br><div style='flex:1; padding:5px;'><img src='img_small/82_small.jpg' style='max-width:150px; max-height:150px;'><p>Cluster: 7</p><p>Artist: Man Ray</p><p>Title: Cadeau </p><p>Medium: sculpture, iron and nails</p></div><div style='flex:1; padding:5px;'><img src='img_small/84_small.jpg' style='max-width:150px; max-height:150px;'><p>Cluster: 7</p><p>Artist: Mike Mandel & Larry Sultan</p><p>Title:  [no title] </p><p>Medium: photo, gelatin silver print on paper</p></div><div style='flex:1; padding:5px;'><img src='img_small/86_small.jpg' style='max-width:150px; max-height:150px;'><p>Cluster: 7</p><p>Artist: Piero Manzoni</p><p>Title: ArtistÛªs Shit</p><p>Medium: sculpture, tin can, printed paper & excrement</p></div><div style='flex:1; padding:5px;'><img src='img_small/93_small.jpg' style='max-width:150px; max-height:150px;'><p>Cluster: 7</p><p>Artist: Josiah McElheny</p><p>Title: Twentieth Century Modernism, Mirrored and Reflected Infinitely</p><p>Medium: sculpture, handblown mirrored glass, display structure, transparent mirror, lighting</p></div><div style='flex:1; padding:5px;'><img src='img_small/116_small.jpg' style='max-width:150px; max-height:150px;'><p>Cluster: 7</p><p>Artist: Alistair Park</p><p>Title: 1. 9</p><p>Medium: print, lithograph on paper</p></div><br><div style='flex:1; padding:5px;'><img src='img_small/203_small.jpg' style='max-width:150px; max-height:150px;'><p>Cluster: 7</p><p>Artist: Francesca Woodman</p><p>Title: Untitled, Providence, Rhode Island</p><p>Medium: photo, photograph, gelatin silver print on paper</p></div><div style='flex:1; padding:5px;'><img src='img_small/208_small.jpg' style='max-width:150px; max-height:150px;'><p>Cluster: 7</p><p>Artist: Doug Wheeler</p><p>Title: LC 71 NY DZ 13 DW</p><p>Medium: installation, reinforced fiberglass, flat white titanium dioxide latex, LED light, & DMX control</p></div><div style='flex:1; padding:5px;'><img src='img_small/227_small.jpg' style='max-width:150px; max-height:150px;'><p>Cluster: 7</p><p>Artist: Herman Van Vollenhoven</p><p>Title: Still Life with Game Fowl</p><p>Medium: painting, oil on panel</p></div><div style='flex:1; padding:5px;'><img src='img_small/240_small.jpg' style='max-width:150px; max-height:150px;'><p>Cluster: 7</p><p>Artist: El Greco (Domenikos Theotokopoulos)</p><p>Title: The Vision of Saint John</p><p>Medium: painting, oil on canvas</p></div><div style='flex:1; padding:5px;'><img src='img_small/248_small.jpg' style='max-width:150px; max-height:150px;'><p>Cluster: 7</p><p>Artist: JosÌ© Luis GuerÌ_n</p><p>Title: The Academy of Muses</p><p>Medium: photo, digital cinema, still</p></div><br><div style='flex:1; padding:5px;'><img src='img_small/264_small.jpg' style='max-width:150px; max-height:150px;'><p>Cluster: 7</p><p>Artist: Michael Williams</p><p>Title: DAD</p><p>Medium: painting, inkjet on canvas</p></div><div style='flex:1; padding:5px;'><img src='img_small/267_small.jpg' style='max-width:150px; max-height:150px;'><p>Cluster: 7</p><p>Artist: Lisa Oppenheim</p><p>Title: Man holding large camera photographing a cataclysmic event, possibly a volcano erupting.</p><p>Medium: photo, b & w silver gelatin photograph, exposed & solarized by firelight</p></div><div style='flex:1; padding:5px;'><img src='img_small/271_small.jpg' style='max-width:150px; max-height:150px;'><p>Cluster: 7</p><p>Artist: Wolfgang Tillmans</p><p>Title: still life, Calle Real II</p><p>Medium: photo, inkjet print</p></div><div style='flex:1; padding:5px;'><img src='img_small/273_small.jpg' style='max-width:150px; max-height:150px;'><p>Cluster: 7</p><p>Artist: Yun-Fei Ji</p><p>Title: The Empty City: Autumn Colors</p><p>Medium: painting, Chinese watercolor and ink on Chinese paper</p></div><div style='flex:1; padding:5px;'><img src='img_small/285_small.jpg' style='max-width:150px; max-height:150px;'><p>Cluster: 7</p><p>Artist: Renato Orara</p><p>Title: Untitled from the series 'Ten Thousand Things That Breathe'</p><p>Medium: drawing, ballpoint pen on notebook paper</p></div><br><div style='flex:1; padding:5px;'><img src='img_small/300_small.jpg' style='max-width:150px; max-height:150px;'><p>Cluster: 7</p><p>Artist: John Baldessari </p><p>Title: Goya Series: And</p><p>Medium: painting, ink jet & synthetic polymer paint on canvas</p></div><div style='flex:1; padding:5px;'><img src='img_small/325_small.jpg' style='max-width:150px; max-height:150px;'><p>Cluster: 7</p><p>Artist: Harry Callahan</p><p>Title: Detroit</p><p>Medium: photo, gelatin silver print</p></div><div style='flex:1; padding:5px;'><img src='img_small/333_small.jpg' style='max-width:150px; max-height:150px;'><p>Cluster: 7</p><p>Artist: Nam June Paik</p><p>Title: Untitled</p><p>Medium: sculpture, player piano, 15 televisions, 2 cameras, 2 laser disc players, 1 electric light & light bulb, & wires</p></div><div style='flex:1; padding:5px;'><img src='img_small/343_small.jpg' style='max-width:150px; max-height:150px;'><p>Cluster: 7</p><p>Artist: Hi Red Center</p><p>Title: Canned Mystery</p><p>Medium: sculpture, sealed metal can with label, containing unknown contents</p></div><div style='flex:1; padding:5px;'><img src='img_small/351_small.jpg' style='max-width:150px; max-height:150px;'><p>Cluster: 7</p><p>Artist: Joseph Cornell</p><p>Title: Untitled (Dieppe)</p><p>Medium: sculpture, mixed media: wood box w/ glass over painted background containing corkball, metal rods, metal bracelet, nails, & stamp, w/ book pages on reverse</p></div><br><div style='flex:1; padding:5px;'><img src='img_small/359_small.jpg' style='max-width:150px; max-height:150px;'><p>Cluster: 7</p><p>Artist: Philippe Halsman</p><p>Title: Dali Atomicus</p><p>Medium: photo, gelatin silver print</p></div><div style='flex:1; padding:5px;'><img src='img_small/362_small.jpg' style='max-width:150px; max-height:150px;'><p>Cluster: 7</p><p>Artist: BrassaÌø (Gyula HalÌÁsz)</p><p>Title: Buttress of the Elevated</p><p>Medium: photo, gelatin silver print</p></div><div style='flex:1; padding:5px;'><img src='img_small/368_small.jpg' style='max-width:150px; max-height:150px;'><p>Cluster: 7</p><p>Artist: RenÌ© Magritte </p><p>Title: The Thought Which Sees</p><p>Medium: drawing, pencil on paper</p></div><div style='flex:1; padding:5px;'><img src='img_small/372_small.jpg' style='max-width:150px; max-height:150px;'><p>Cluster: 7</p><p>Artist: Hannah HÌ¦ch</p><p>Title: Cut with the Dada Kitchen Knife through the Last Weimar Beer-Belly Cultural Epoch in Germany</p><p>Medium: drawing, collage</p></div><div style='flex:1; padding:5px;'><img src='img_small/379_small.jpg' style='max-width:150px; max-height:150px;'><p>Cluster: 7</p><p>Artist: Odilon Redon </p><p>Title: Apparition in the Window</p><p>Medium: drawing, charcoal & chalk on paper</p></div><br><div style='flex:1; padding:5px;'><img src='img_small/390_small.jpg' style='max-width:150px; max-height:150px;'><p>Cluster: 7</p><p>Artist: Jacques-AndrÌ© Boiffard</p><p>Title: Untitled (Still Life)</p><p>Medium: photo, gelatin silver print</p></div><div style='flex:1; padding:5px;'><img src='img_small/399_small.jpg' style='max-width:150px; max-height:150px;'><p>Cluster: 7</p><p>Artist: Dadbeh Bassir</p><p>Title: Untitled</p><p>Medium: photo, chromogenic print</p></div></div></div><div><h2>Images in cluster: 8</h2><div style='display:flex; flex-wrap:wrap;'><div style='flex:1; padding:5px;'><img src='img_small/11_small.jpg' style='max-width:150px; max-height:150px;'><p>Cluster: 8</p><p>Artist: Larry Bell</p><p>Title: Untitled </p><p>Medium: installation,sculpture, coated glass</p></div><div style='flex:1; padding:5px;'><img src='img_small/31_small.jpg' style='max-width:150px; max-height:150px;'><p>Cluster: 8</p><p>Artist: Leonardo Drew</p><p>Title: Number 135</p><p>Medium: installation, wood and mixed media</p></div><div style='flex:1; padding:5px;'><img src='img_small/40_small.jpg' style='max-width:150px; max-height:150px;'><p>Cluster: 8</p><p>Artist: Helen Frankenthaler</p><p>Title: Mirabelle </p><p>Medium: print, lithograph on paper</p></div><div style='flex:1; padding:5px;'><img src='img_small/41_small.jpg' style='max-width:150px; max-height:150px;'><p>Cluster: 8</p><p>Artist: Giuseppe Pinot-Gallizio</p><p>Title: Industrial Painting </p><p>Medium: sculpture, monoprinted oil, acrylic, ink on canvas</p></div><div style='flex:1; padding:5px;'><img src='img_small/43_small.jpg' style='max-width:150px; max-height:150px;'><p>Cluster: 8</p><p>Artist: Sam Gilliam</p><p>Title: Simmering </p><p>Medium: sculpture, acrylic on canvas and leather string</p></div><br><div style='flex:1; padding:5px;'><img src='img_small/73_small.jpg' style='max-width:150px; max-height:150px;'><p>Cluster: 8</p><p>Artist: Julio Le Parc</p><p>Title: Continual Mobile, Continual Light </p><p>Medium: installation, painted wood, aluminium & nylon thread - kinetic</p></div><div style='flex:1; padding:5px;'><img src='img_small/78_small.jpg' style='max-width:150px; max-height:150px;'><p>Cluster: 8</p><p>Artist: Heinz Mack</p><p>Title: Light Dynamo </p><p>Medium: sculpture, aluminium, glass, wood & motor</p></div><div style='flex:1; padding:5px;'><img src='img_small/88_small.jpg' style='max-width:150px; max-height:150px;'><p>Cluster: 8</p><p>Artist: Agnes Martin</p><p>Title: Untitled #10</p><p>Medium: painting, acrylic paint & graphite on canvas</p></div><div style='flex:1; padding:5px;'><img src='img_small/90_small.jpg' style='max-width:150px; max-height:150px;'><p>Cluster: 8</p><p>Artist: Mary Martin</p><p>Title: nversions</p><p>Medium: sculpture, aluminium, oil paint & wood</p></div><div style='flex:1; padding:5px;'><img src='img_small/97_small.jpg' style='max-width:150px; max-height:150px;'><p>Cluster: 8</p><p>Artist: Marisa Merz</p><p>Title: Untitled (Living Sculpture) </p><p>Medium: sculpture, aluminium</p></div><br><div style='flex:1; padding:5px;'><img src='img_small/98_small.jpg' style='max-width:150px; max-height:150px;'><p>Cluster: 8</p><p>Artist: Gustav Metzger</p><p>Title: Liquid Crystal Environment </p><p>Medium: projection, 5 control units, liquid crystals and slide, 35 mm, 5 projections</p></div><div style='flex:1; padding:5px;'><img src='img_small/104_small.jpg' style='max-width:150px; max-height:150px;'><p>Cluster: 8</p><p>Artist: Robert Morris</p><p>Title: Untitled</p><p>Medium: sculpture, fibreglass & nylon threads</p></div><div style='flex:1; padding:5px;'><img src='img_small/122_small.jpg' style='max-width:150px; max-height:150px;'><p>Cluster: 8</p><p>Artist: Vong Phaophanit</p><p>Title: Neon Rice Field</p><p>Medium: installation, rice & neon tubes</p></div><div style='flex:1; padding:5px;'><img src='img_small/130_small.jpg' style='max-width:150px; max-height:150px;'><p>Cluster: 8</p><p>Artist: Nicholas Pope</p><p>Title: Liar Liar </p><p>Medium: sculpture, 15 unglazed ceramic forms</p></div><div style='flex:1; padding:5px;'><img src='img_small/146_small.jpg' style='max-width:150px; max-height:150px;'><p>Cluster: 8</p><p>Artist: Jean-Paul Riopelle</p><p>Title: Suite Montmorency</p><p>Medium: print, lithograph</p></div><br><div style='flex:1; padding:5px;'><img src='img_small/163_small.jpg' style='max-width:150px; max-height:150px;'><p>Cluster: 8</p><p>Artist: Richard Serra</p><p>Title: 2-2-1: To Dickie and Tina </p><p>Medium: sculpture, lead</p></div><div style='flex:1; padding:5px;'><img src='img_small/184_small.jpg' style='max-width:150px; max-height:150px;'><p>Cluster: 8</p><p>Artist: Adriana VarejÌ£o</p><p>Title: Folds 2</p><p>Medium: painting, oil on canvas over aluminum, mounted to wood w/ oil painted polyurethane</p></div><div style='flex:1; padding:5px;'><img src='img_small/187_small.jpg' style='max-width:150px; max-height:150px;'><p>Cluster: 8</p><p>Artist: Didier Vermeiren</p><p>Title: Solide plastique #4</p><p>Medium: sculpture, porcelain, enamel & wood</p></div><div style='flex:1; padding:5px;'><img src='img_small/214_small.jpg' style='max-width:150px; max-height:150px;'><p>Cluster: 8</p><p>Artist: Jems Robert Koko Bi</p><p>Title: 'Domino'' Bois de Teck</p><p>Medium: sculpture, wood</p></div><div style='flex:1; padding:5px;'><img src='img_small/223_small.jpg' style='max-width:150px; max-height:150px;'><p>Cluster: 8</p><p>Artist: Ritesh Meshram</p><p>Title: Untitled</p><p>Medium: installation, string & nylon scrap</p></div><br><div style='flex:1; padding:5px;'><img src='img_small/252_small.jpg' style='max-width:150px; max-height:150px;'><p>Cluster: 8</p><p>Artist: Richard Aldrich</p><p>Title: Flying UFO Flying</p><p>Medium: painting, oil & wax on linen</p></div><div style='flex:1; padding:5px;'><img src='img_small/255_small.jpg' style='max-width:150px; max-height:150px;'><p>Cluster: 8</p><p>Artist: Ken Okiishi</p><p>Title: gesture/data</p><p>Medium: sculpture, oil & Chroma Key Video, paint on flat-screen televisions, VHS & HD video transferred to .mp4 (color, sound)</p></div><div style='flex:1; padding:5px;'><img src='img_small/262_small.jpg' style='max-width:150px; max-height:150px;'><p>Cluster: 8</p><p>Artist: Gedi Sibony</p><p>Title: If</p><p>Medium: installation, plastic & tape</p></div><div style='flex:1; padding:5px;'><img src='img_small/275_small.jpg' style='max-width:150px; max-height:150px;'><p>Cluster: 8</p><p>Artist: Uta Barth</p><p>Title: Sundial (2007.14)</p><p>Medium: photo, chromogenic color prints</p></div><div style='flex:1; padding:5px;'><img src='img_small/290_small.jpg' style='max-width:150px; max-height:150px;'><p>Cluster: 8</p><p>Artist: John Bock </p><p>Title: Untitled</p><p>Medium: drawing, coffee & pressure-sensitive tape on cut paper</p></div><br><div style='flex:1; padding:5px;'><img src='img_small/299_small.jpg' style='max-width:150px; max-height:150px;'><p>Cluster: 8</p><p>Artist: Jill Baroff</p><p>Title: Blackbird</p><p>Medium: drawing, graphite on cut-and-pasted Japanese paper on paper</p></div><div style='flex:1; padding:5px;'><img src='img_small/346_small.jpg' style='max-width:150px; max-height:150px;'><p>Cluster: 8</p><p>Artist: Jean Tinguely</p><p>Title: Fragment from Homage to New York</p><p>Medium: sculpture, painted metal, fabric, tape, wood, & rubber tires</p></div><div style='flex:1; padding:5px;'><img src='img_small/361_small.jpg' style='max-width:150px; max-height:150px;'><p>Cluster: 8</p><p>Artist: LÌÁszlÌ_ Moholy-Nagy</p><p>Title: Vertical Black, Red, Blue</p><p>Medium: sculpture, oil & incised lines on molded Plexiglas, on original base</p></div><div style='flex:1; padding:5px;'><img src='img_small/364_small.jpg' style='max-width:150px; max-height:150px;'><p>Cluster: 8</p><p>Artist: Clyfford Still </p><p>Title: 1944-N No. 2</p><p>Medium: painting, oil on canvas</p></div><div style='flex:1; padding:5px;'><img src='img_small/376_small.jpg' style='max-width:150px; max-height:150px;'><p>Cluster: 8</p><p>Artist: Naum Gabo </p><p>Title: Linear Construction in Space no. 3, with Red</p><p>Medium: sculpture, plexiglass & nylon wire, with aluminum base</p></div><br><div style='flex:1; padding:5px;'><img src='img_small/381_small.jpg' style='max-width:150px; max-height:150px;'><p>Cluster: 8</p><p>Artist: FrantiÁek Kupka</p><p>Title: Untitled</p><p>Medium: drawing, colored pencil, pencil, ink, & oil on paper</p></div><div style='flex:1; padding:5px;'><img src='img_small/394_small.jpg' style='max-width:150px; max-height:150px;'><p>Cluster: 8</p><p>Artist: Pol Bury</p><p>Title: 1,914 White Points</p><p>Medium: sculpture, plastic-tipped nylon wires with wood panel & motor</p></div></div></div><div><h2>Images in cluster: 9</h2><div style='display:flex; flex-wrap:wrap;'><div style='flex:1; padding:5px;'><img src='img_small/2_small.jpg' style='max-width:150px; max-height:150px;'><p>Cluster: 9</p><p>Artist: Giorgio de Chirico</p><p>Title: The Uncertainty of the Poet </p><p>Medium: painting, oil on canvas</p></div><div style='flex:1; padding:5px;'><img src='img_small/14_small.jpg' style='max-width:150px; max-height:150px;'><p>Cluster: 9</p><p>Artist: Jyoti Bhatt</p><p>Title: Baroda </p><p>Medium: photo, gelatin silver print on paper</p></div><div style='flex:1; padding:5px;'><img src='img_small/19_small.jpg' style='max-width:150px; max-height:150px;'><p>Cluster: 9</p><p>Artist: Jonathan Borofsky</p><p>Title: Man with Briefcase at 2,756,805 </p><p>Medium: drawing, ink on paper</p></div><div style='flex:1; padding:5px;'><img src='img_small/32_small.jpg' style='max-width:150px; max-height:150px;'><p>Cluster: 9</p><p>Artist: Marcel Duchamp</p><p>Title: 3 stoppages Ì©talon (3 Standard Stoppages)</p><p>Medium: sculpture, wood, glass & paint on canvas</p></div><div style='flex:1; padding:5px;'><img src='img_small/42_small.jpg' style='max-width:150px; max-height:150px;'><p>Cluster: 9</p><p>Artist: Gaspar Gasparian </p><p>Title: Mediunic</p><p>Medium: photo, gelatin silver print on paper</p></div><br><div style='flex:1; padding:5px;'><img src='img_small/44_small.jpg' style='max-width:150px; max-height:150px;'><p>Cluster: 9</p><p>Artist: Fernanda Gomes</p><p>Title: Untitled </p><p>Medium: installation, wood, paint & lacquer</p></div><div style='flex:1; padding:5px;'><img src='img_small/51_small.jpg' style='max-width:150px; max-height:150px;'><p>Cluster: 9</p><p>Artist: Stanley William Hayter</p><p>Title: Ophelia</p><p>Medium: painting, oil, casein tempera & gesso on canvas</p></div><div style='flex:1; padding:5px;'><img src='img_small/58_small.jpg' style='max-width:150px; max-height:150px;'><p>Cluster: 9</p><p>Artist: Robert Holyhead</p><p>Title: Untitled (Rift)</p><p>Medium: painting, oil on canvas</p></div><div style='flex:1; padding:5px;'><img src='img_small/77_small.jpg' style='max-width:150px; max-height:150px;'><p>Cluster: 9</p><p>Artist: El Lissitzky</p><p>Title: Troublemaker </p><p>Medium: print, lithograph on paper</p></div><div style='flex:1; padding:5px;'><img src='img_small/80_small.jpg' style='max-width:150px; max-height:150px;'><p>Cluster: 9</p><p>Artist: Kazimir Malevich</p><p>Title: Suprematism </p><p>Medium: painting, oil on canvas</p></div><br><div style='flex:1; padding:5px;'><img src='img_small/85_small.jpg' style='max-width:150px; max-height:150px;'><p>Cluster: 9</p><p>Artist: Yves Klein</p><p>Title: Leap into the Void </p><p>Medium: photo, gelatin silver print on paper</p></div><div style='flex:1; padding:5px;'><img src='img_small/103_small.jpg' style='max-width:150px; max-height:150px;'><p>Cluster: 9</p><p>Artist: FranÌ¤ois Morellet</p><p>Title: Pier and Ocean</p><p>Medium: installation, 38 blue argon neon tubes that turn on and off & wooden pier </p></div><div style='flex:1; padding:5px;'><img src='img_small/106_small.jpg' style='max-width:150px; max-height:150px;'><p>Cluster: 9</p><p>Artist: Bruce Nauman</p><p>Title: Dance or Exercise on the Perimeter of a Square (Square Dance)    </p><p>Medium: video, 16 mm film transferred to video, b/w, sound</p></div><div style='flex:1; padding:5px;'><img src='img_small/109_small.jpg' style='max-width:150px; max-height:150px;'><p>Cluster: 9</p><p>Artist: Winifred Nicholson</p><p>Title: Quarante Huit Quai dÛªAuteuil </p><p>Medium: painting, oil on board</p></div><div style='flex:1; padding:5px;'><img src='img_small/112_small.jpg' style='max-width:150px; max-height:150px;'><p>Cluster: 9</p><p>Artist: HÌ©lio Oiticica</p><p>Title: Grand Nucleus (Grande NÌ¼cleo) </p><p>Medium: installation, double-sided hanging painted wood panels, varying sizes</p></div><br><div style='flex:1; padding:5px;'><img src='img_small/117_small.jpg' style='max-width:150px; max-height:150px;'><p>Cluster: 9</p><p>Artist: Cornelia Parker</p><p>Title: Cold Dark Matter: An Exploded View </p><p>Medium: installation, wood, metal, plastic, ceramic, paper, textile & wire</p></div><div style='flex:1; padding:5px;'><img src='img_small/118_small.jpg' style='max-width:150px; max-height:150px;'><p>Cluster: 9</p><p>Artist: Oliver Payne and Nick Relph</p><p>Title: Master Friday </p><p>Medium: print, digital print on paper</p></div><div style='flex:1; padding:5px;'><img src='img_small/139_small.jpg' style='max-width:150px; max-height:150px;'><p>Cluster: 9</p><p>Artist: Charles Ray</p><p>Title: Plank Piece I-II </p><p>Medium: photo, 2 photographs, black & white, on paper on board</p></div><div style='flex:1; padding:5px;'><img src='img_small/168_small.jpg' style='max-width:150px; max-height:150px;'><p>Cluster: 9</p><p>Artist: Monika Sosnowska</p><p>Title: The Tired Room, Freud Museum, Vienna, Austria</p><p>Medium: installation, mixed media</p></div><div style='flex:1; padding:5px;'><img src='img_small/171_small.jpg' style='max-width:150px; max-height:150px;'><p>Cluster: 9</p><p>Artist: Daniel Spoerri </p><p>Title: La table du Clown Bar, Paris,</p><p>Medium: sculpture, mixed media</p></div><br><div style='flex:1; padding:5px;'><img src='img_small/192_small.jpg' style='max-width:150px; max-height:150px;'><p>Cluster: 9</p><p>Artist: Andy Warhol</p><p>Title: Double Torso</p><p>Medium: painting, fluorescent silkscreen inks on canvas</p></div><div style='flex:1; padding:5px;'><img src='img_small/205_small.jpg' style='max-width:150px; max-height:150px;'><p>Cluster: 9</p><p>Artist: Cerith Wyn Evans</p><p>Title: Inverse Reverse Perverse</p><p>Medium: sculpture, perspex & acrylic</p></div><div style='flex:1; padding:5px;'><img src='img_small/213_small.jpg' style='max-width:150px; max-height:150px;'><p>Cluster: 9</p><p>Artist: FranÌ¤ois-Xavier GbrÌ©</p><p>Title: Imprimerie nationale, Porto Novo, Benin</p><p>Medium: photo, archival pigment ink on fine art paper</p></div><div style='flex:1; padding:5px;'><img src='img_small/222_small.jpg' style='max-width:150px; max-height:150px;'><p>Cluster: 9</p><p>Artist: S.Paramasivam</p><p>Title: no title on website</p><p>Medium: sculpture,</p></div><div style='flex:1; padding:5px;'><img src='img_small/232_small.jpg' style='max-width:150px; max-height:150px;'><p>Cluster: 9</p><p>Artist: Giandomenico Tiepolo</p><p>Title: The Mondo Nuovo, 2nd painting P7805</p><p>Medium: painting, oil on canvas</p></div><br><div style='flex:1; padding:5px;'><img src='img_small/233_small.jpg' style='max-width:150px; max-height:150px;'><p>Cluster: 9</p><p>Artist: Charles-Joseph Flipart </p><p>Title: Disordered Table with a trompe lÛªoeil of Paintings, a Hurdy-gurdy, Books and other Objects</p><p>Medium: painting, oil on canvas</p></div><div style='flex:1; padding:5px;'><img src='img_small/251_small.jpg' style='max-width:150px; max-height:150px;'><p>Cluster: 9</p><p>Artist: Moris (Israel Meza Moreno)</p><p>Title: Hermoso paisaje 3</p><p>Medium: sculpture, mixed media</p></div><div style='flex:1; padding:5px;'><img src='img_small/269_small.jpg' style='max-width:150px; max-height:150px;'><p>Cluster: 9</p><p>Artist: Lieko Shiga</p><p>Title: Raisen Kaigan 36</p><p>Medium: photo, chromogenic color print</p></div><div style='flex:1; padding:5px;'><img src='img_small/281_small.jpg' style='max-width:150px; max-height:150px;'><p>Cluster: 9</p><p>Artist: Tom Friedman</p><p>Title: Untitled</p><p>Medium: photo</p></div><div style='flex:1; padding:5px;'><img src='img_small/287_small.jpg' style='max-width:150px; max-height:150px;'><p>Cluster: 9</p><p>Artist: Roman Signer </p><p>Title: Box</p><p>Medium: photo, still of super 8mm film transferred to video (color, silent)</p></div><br><div style='flex:1; padding:5px;'><img src='img_small/295_small.jpg' style='max-width:150px; max-height:150px;'><p>Cluster: 9</p><p>Artist: Erwin Wurm</p><p>Title: House Attack</p><p>Medium: installation, mixed media</p></div><div style='flex:1; padding:5px;'><img src='img_small/297_small.jpg' style='max-width:150px; max-height:150px;'><p>Cluster: 9</p><p>Artist: Dorothea Rockburne </p><p>Title: Drawing Which Makes Itself: Neighbourhood</p><p>Medium: installation, drawing on wall, ransparentized paper, pencil, colored pencil, & felt-tip pen on wall</p></div><div style='flex:1; padding:5px;'><img src='img_small/319_small.jpg' style='max-width:150px; max-height:150px;'><p>Cluster: 9</p><p>Artist: Philip-Lorca diCorcia</p><p>Title: William Charles Everlove; 26 years old; Stockholm, Sweden via Arizona; $40</p><p>Medium: photo, chromogenic color print</p></div><div style='flex:1; padding:5px;'><img src='img_small/326_small.jpg' style='max-width:150px; max-height:150px;'><p>Cluster: 9</p><p>Artist: Georg Herold </p><p>Title: Earthquake Piece</p><p>Medium: photo, photolithograph</p></div><div style='flex:1; padding:5px;'><img src='img_small/328_small.jpg' style='max-width:150px; max-height:150px;'><p>Cluster: 9</p><p>Artist: Joseph Beuys</p><p>Title: I Like America and America Likes Me</p><p>Medium: photo, still image of 3 day performance</p></div><br><div style='flex:1; padding:5px;'><img src='img_small/329_small.jpg' style='max-width:150px; max-height:150px;'><p>Cluster: 9</p><p>Artist: George Maciunas</p><p>Title: Same Card Flux Deck</p><p>Medium: sculpture, plastic box with offset label, containing 52 identical cards</p></div><div style='flex:1; padding:5px;'><img src='img_small/330_small.jpg' style='max-width:150px; max-height:150px;'><p>Cluster: 9</p><p>Artist: Jan Tarasin</p><p>Title: Beach</p><p>Medium: print, screenprint</p></div><div style='flex:1; padding:5px;'><img src='img_small/350_small.jpg' style='max-width:150px; max-height:150px;'><p>Cluster: 9</p><p>Artist: Francis Thompson</p><p>Title: Concave Orange with Hole on Plate</p><p>Medium: photo, chromogenic color print</p></div><div style='flex:1; padding:5px;'><img src='img_small/365_small.jpg' style='max-width:150px; max-height:150px;'><p>Cluster: 9</p><p>Artist: Harold E. Edgerton</p><p>Title: Milk Drop</p><p>Medium: photo, gelatin silver print</p></div><div style='flex:1; padding:5px;'><img src='img_small/367_small.jpg' style='max-width:150px; max-height:150px;'><p>Cluster: 9</p><p>Artist: Paul Outerbridge</p><p>Title: H-O Box</p><p>Medium: photo, platinum print</p></div><br><div style='flex:1; padding:5px;'><img src='img_small/369_small.jpg' style='max-width:150px; max-height:150px;'><p>Cluster: 9</p><p>Artist: Edward Hopper </p><p>Title: House by the Railroad</p><p>Medium: painting, oil on canvas</p></div><div style='flex:1; padding:5px;'><img src='img_small/374_small.jpg' style='max-width:150px; max-height:150px;'><p>Cluster: 9</p><p>Artist: Jean (Hans) Arp</p><p>Title: A Navel (Ein Nabel) from Merz 5. 7 Arpaden by Hans Arp. Arp Portfolio. Second Portfolio of the Merz Publisher (Merz 5. 7 Arpaden von Hans Arp. Arp Mappe. Zweite Mappe des Merzverlages</p><p>Medium: print, one from a portfolio of 7 lithographs</p></div><div style='flex:1; padding:5px;'><img src='img_small/378_small.jpg' style='max-width:150px; max-height:150px;'><p>Cluster: 9</p><p>Artist: Juan Gris</p><p>Title: Breakfast</p><p>Medium: painting, gouache, oil, & crayon on cut-&-pasted printed paper on canvas w/ oil & crayon</p></div><div style='flex:1; padding:5px;'><img src='img_small/392_small.jpg' style='max-width:150px; max-height:150px;'><p>Cluster: 9</p><p>Artist: Rodney Graham</p><p>Title: Main Street Tree</p><p>Medium: photo,</p></div><div style='flex:1; padding:5px;'><img src='img_small/398_small.jpg' style='max-width:150px; max-height:150px;'><p>Cluster: 9</p><p>Artist: Dariush Nehdaran</p><p>Title: Untitled</p><p>Medium: photo, gelatin silver print</p></div><br><div style='flex:1; padding:5px;'><img src='img_small/403_small.jpg' style='max-width:150px; max-height:150px;'><p>Cluster: 9</p><p>Artist: Peter Fischli David Weiss </p><p>Title: ZEIT DIE ZUR VERFÌÏGUNG STEHT</p><p>Medium: photo, color photograph</p></div></div></div><div><h2>Images in cluster: 10</h2><div style='display:flex; flex-wrap:wrap;'><div style='flex:1; padding:5px;'><img src='img_small/13_small.jpg' style='max-width:150px; max-height:150px;'><p>Cluster: 10</p><p>Artist: FrÌ©dÌ©ric Benrath</p><p>Title: Untitled</p><p>Medium: print, lithograph on paper</p></div><div style='flex:1; padding:5px;'><img src='img_small/29_small.jpg' style='max-width:150px; max-height:150px;'><p>Cluster: 10</p><p>Artist: Tacita Dean</p><p>Title: The Roaring Forties: Seven Boards in Seven Days</p><p>Medium: drawing, chalk on blackboard</p></div><div style='flex:1; padding:5px;'><img src='img_small/39_small.jpg' style='max-width:150px; max-height:150px;'><p>Cluster: 10</p><p>Artist: Sam Francis</p><p>Title: Painting </p><p>Medium: painting, watercolour on paper</p></div><div style='flex:1; padding:5px;'><img src='img_small/46_small.jpg' style='max-width:150px; max-height:150px;'><p>Cluster: 10</p><p>Artist: Giorgio Griffa</p><p>Title: Segni orizzontali </p><p>Medium: painting, acrylic on canvas</p></div><div style='flex:1; padding:5px;'><img src='img_small/49_small.jpg' style='max-width:150px; max-height:150px;'><p>Cluster: 10</p><p>Artist: Hans Hartung</p><p>Title: T1963-R6</p><p>Medium: painting, acrylic on canvas</p></div><br><div style='flex:1; padding:5px;'><img src='img_small/53_small.jpg' style='max-width:150px; max-height:150px;'><p>Cluster: 10</p><p>Artist: Nigel Henderson</p><p>Title: Untitled No. 8 (Shattered Glass) </p><p>Medium: photo, collage, gelatin silver print & ink on paper</p></div><div style='flex:1; padding:5px;'><img src='img_small/57_small.jpg' style='max-width:150px; max-height:150px;'><p>Cluster: 10</p><p>Artist: Nicholas Hlobo</p><p>Title: Balindile 1</p><p>Medium: sculpture, rubber inner tubes, steel, hosepipes, ribbon</p></div><div style='flex:1; padding:5px;'><img src='img_small/65_small.jpg' style='max-width:150px; max-height:150px;'><p>Cluster: 10</p><p>Artist: Asger Jorn</p><p>Title: Letter to my Son </p><p>Medium: painting, oil on canvas</p></div><div style='flex:1; padding:5px;'><img src='img_small/124_small.jpg' style='max-width:150px; max-height:150px;'><p>Cluster: 10</p><p>Artist: Georges Braque</p><p>Title: Still Life with Banderillas</p><p>Medium: painting, oil & charcoal with sand on canvas</p></div><div style='flex:1; padding:5px;'><img src='img_small/200_small.jpg' style='max-width:150px; max-height:150px;'><p>Cluster: 10</p><p>Artist: Alison Wilding</p><p>Title: Untitled </p><p>Medium: drawing, charcoal & crayon on paper</p></div><br><div style='flex:1; padding:5px;'><img src='img_small/244_small.jpg' style='max-width:150px; max-height:150px;'><p>Cluster: 10</p><p>Artist: Sonya Kelliher-Combs</p><p>Title: drawing title unknown</p><p>Medium: drawing,</p></div><div style='flex:1; padding:5px;'><img src='img_small/272_small.jpg' style='max-width:150px; max-height:150px;'><p>Cluster: 10</p><p>Artist: Mary Weatherford</p><p>Title: vines</p><p>Medium: painting, flashe on linen</p></div><div style='flex:1; padding:5px;'><img src='img_small/282_small.jpg' style='max-width:150px; max-height:150px;'><p>Cluster: 10</p><p>Artist: Ellen Gallagher</p><p>Title: Watery Ecstatic</p><p>Medium: drawing, ink, oil, watercolor, pencil, & cut-&-pasted paper on paper</p></div><div style='flex:1; padding:5px;'><img src='img_small/293_small.jpg' style='max-width:150px; max-height:150px;'><p>Cluster: 10</p><p>Artist: Guillermo Kuitca</p><p>Title: The Ring</p><p>Medium: print, one of 4 altered ink-jet prints</p></div><div style='flex:1; padding:5px;'><img src='img_small/311_small.jpg' style='max-width:150px; max-height:150px;'><p>Cluster: 10</p><p>Artist: Michael Krebber </p><p>Title: Untitled (1)</p><p>Medium: painting, lacquer on canvas</p></div><br><div style='flex:1; padding:5px;'><img src='img_small/348_small.jpg' style='max-width:150px; max-height:150px;'><p>Cluster: 10</p><p>Artist: Otto Piene </p><p>Title: Untitled (Smoke Drawing)</p><p>Medium: drawing, soot on paper</p></div><div style='flex:1; padding:5px;'><img src='img_small/355_small.jpg' style='max-width:150px; max-height:150px;'><p>Cluster: 10</p><p>Artist: Philip Guston</p><p>Title: Untitled</p><p>Medium: painting, synthetic polymer paint on paper</p></div><div style='flex:1; padding:5px;'><img src='img_small/357_small.jpg' style='max-width:150px; max-height:150px;'><p>Cluster: 10</p><p>Artist: Louise Bourgeois</p><p>Title: Untitled</p><p>Medium: drawing, ink, charcoal, & gouache on paper</p></div><div style='flex:1; padding:5px;'><img src='img_small/370_small.jpg' style='max-width:150px; max-height:150px;'><p>Cluster: 10</p><p>Artist: Paul Klee</p><p>Title: Queen of Hearts (Herzdame) from the periodical Der Ararat. Glossen, Skizzen und Notizen zur Neuen Kunst vol. 2, no. 4</p><p>Medium: print, lithograph</p></div></div></div><div><h2>Images in cluster: 11</h2><div style='display:flex; flex-wrap:wrap;'><div style='flex:1; padding:5px;'><img src='img_small/4_small.jpg' style='max-width:150px; max-height:150px;'><p>Cluster: 11</p><p>Artist: Milton Avery</p><p>Title: Yellow Sky </p><p>Medium: painting, oil on canvas</p></div><div style='flex:1; padding:5px;'><img src='img_small/6_small.jpg' style='max-width:150px; max-height:150px;'><p>Cluster: 11</p><p>Artist: Joseph (Jef) Banc</p><p>Title: Pair-Bearing Matrix </p><p>Medium: painting, mixed media on canvas</p></div><div style='flex:1; padding:5px;'><img src='img_small/9_small.jpg' style='max-width:150px; max-height:150px;'><p>Cluster: 11</p><p>Artist: Uta Barth</p><p>Title: Field #20 </p><p>Medium: photo, digital print w/ acrylic on canvas</p></div><div style='flex:1; padding:5px;'><img src='img_small/15_small.jpg' style='max-width:150px; max-height:150px;'><p>Cluster: 11</p><p>Artist: Richard Billingham</p><p>Title: Arrow </p><p>Medium: photo, chromogenic print on paper</p></div><div style='flex:1; padding:5px;'><img src='img_small/17_small.jpg' style='max-width:150px; max-height:150px;'><p>Cluster: 11</p><p>Artist: Sandra Blow</p><p>Title: Space and Matter </p><p>Medium: painting, oil on hardboard</p></div><br><div style='flex:1; padding:5px;'><img src='img_small/24_small.jpg' style='max-width:150px; max-height:150px;'><p>Cluster: 11</p><p>Artist: Cecily Brown</p><p>Title: Trouble in Paradise </p><p>Medium: painting, oil on canvas</p></div><div style='flex:1; padding:5px;'><img src='img_small/27_small.jpg' style='max-width:150px; max-height:150px;'><p>Cluster: 11</p><p>Artist: Vija Celmins</p><p>Title: Ocean </p><p>Medium: print, lithograph on paper</p></div><div style='flex:1; padding:5px;'><img src='img_small/28_small.jpg' style='max-width:150px; max-height:150px;'><p>Cluster: 11</p><p>Artist: Dennis Creffield</p><p>Title: Norwich from the East End: High Summer </p><p>Medium: drawing, charcoal on paper</p></div><div style='flex:1; padding:5px;'><img src='img_small/45_small.jpg' style='max-width:150px; max-height:150px;'><p>Cluster: 11</p><p>Artist: Arshile Gorky</p><p>Title: Untitled</p><p>Medium: painting, oil & graphite on canvas</p></div><div style='flex:1; padding:5px;'><img src='img_small/60_small.jpg' style='max-width:150px; max-height:150px;'><p>Cluster: 11</p><p>Artist: Rebecca Horn </p><p>Title: Landscape of the Golem II </p><p>Medium: painting, acrylic on paper</p></div><br><div style='flex:1; padding:5px;'><img src='img_small/72_small.jpg' style='max-width:150px; max-height:150px;'><p>Cluster: 11</p><p>Artist: Peter Lanyon</p><p>Title: Thermal </p><p>Medium: painting, oil on canvas</p></div><div style='flex:1; padding:5px;'><img src='img_small/94_small.jpg' style='max-width:150px; max-height:150px;'><p>Cluster: 11</p><p>Artist: Bruce McLean</p><p>Title: Six Sculptures</p><p>Medium: photo, 6 photos, gelatin silver prints on paper, & typed captions</p></div><div style='flex:1; padding:5px;'><img src='img_small/108_small.jpg' style='max-width:150px; max-height:150px;'><p>Cluster: 11</p><p>Artist: Avis Newman</p><p>Title: Meridians VIII </p><p>Medium: painting, acrylic paint & chalk on canvas</p></div><div style='flex:1; padding:5px;'><img src='img_small/110_small.jpg' style='max-width:150px; max-height:150px;'><p>Cluster: 11</p><p>Artist: Albert Oehlen</p><p>Title: More Fire and Ice</p><p>Medium: painting, mixed media on canvas</p></div><div style='flex:1; padding:5px;'><img src='img_small/114_small.jpg' style='max-width:150px; max-height:150px;'><p>Cluster: 11</p><p>Artist: Jules Olitski</p><p>Title: Sahny-7</p><p>Medium: painting, acrylic on canvas</p></div><br><div style='flex:1; padding:5px;'><img src='img_small/119_small.jpg' style='max-width:150px; max-height:150px;'><p>Cluster: 11</p><p>Artist: Giuseppe Penone</p><p>Title: Study for Û÷Breath of ClayÛª </p><p>Medium: drawing, coffee, graphite & ink on paper</p></div><div style='flex:1; padding:5px;'><img src='img_small/131_small.jpg' style='max-width:150px; max-height:150px;'><p>Cluster: 11</p><p>Artist: Liliana Porter </p><p>Title: Wrinkle </p><p>Medium: print, one of 10 photo-etchings on paper</p></div><div style='flex:1; padding:5px;'><img src='img_small/135_small.jpg' style='max-width:150px; max-height:150px;'><p>Cluster: 11</p><p>Artist: Fiona Rae</p><p>Title: Untitled (emergency room)</p><p>Medium: painting, oil & acrylic on canvas</p></div><div style='flex:1; padding:5px;'><img src='img_small/138_small.jpg' style='max-width:150px; max-height:150px;'><p>Cluster: 11</p><p>Artist: Isabel Rawsthorne</p><p>Title: View through a Window II </p><p>Medium: painting, oil on canvas</p></div><div style='flex:1; padding:5px;'><img src='img_small/140_small.jpg' style='max-width:150px; max-height:150px;'><p>Cluster: 11</p><p>Artist: Judit Reigl</p><p>Title: Center of Dominance</p><p>Medium: painting, oil on canvas</p></div><br><div style='flex:1; padding:5px;'><img src='img_small/144_small.jpg' style='max-width:150px; max-height:150px;'><p>Cluster: 11</p><p>Artist: Gerhard Richter</p><p>Title: Abstract Painting (726)</p><p>Medium: painting, oil on canvas</p></div><div style='flex:1; padding:5px;'><img src='img_small/147_small.jpg' style='max-width:150px; max-height:150px;'><p>Cluster: 11</p><p>Artist: Rita Donagh</p><p>Title: Long Meadow</p><p>Medium: painting, oil on canvas</p></div><div style='flex:1; padding:5px;'><img src='img_small/149_small.jpg' style='max-width:150px; max-height:150px;'><p>Cluster: 11</p><p>Artist: James Rosenquist</p><p>Title: Sunglasses - Landing Net - Triangle</p><p>Medium: print, etching, drypoint & aquatint on paper</p></div><div style='flex:1; padding:5px;'><img src='img_small/194_small.jpg' style='max-width:150px; max-height:150px;'><p>Cluster: 11</p><p>Artist: John Wells</p><p>Title: Abstract</p><p>Medium: print, lithograph on paper</p></div><div style='flex:1; padding:5px;'><img src='img_small/211_small.jpg' style='max-width:150px; max-height:150px;'><p>Cluster: 11</p><p>Artist: Nestor Da</p><p>Title: Untitled #38, Ondes de perturbation series</p><p>Medium: photo, archival pigment ink on fine art paper, mounted on dibond</p></div><br><div style='flex:1; padding:5px;'><img src='img_small/224_small.jpg' style='max-width:150px; max-height:150px;'><p>Cluster: 11</p><p>Artist: Gigi Scaria</p><p>Title: Dust</p><p>Medium: photo, digital print on archival paper</p></div><div style='flex:1; padding:5px;'><img src='img_small/225_small.jpg' style='max-width:150px; max-height:150px;'><p>Cluster: 11</p><p>Artist: Aditi Singh</p><p>Title: Untitled (diptych)</p><p>Medium: drawing, charcoal & goauche on Hahnemuhle paper</p></div><div style='flex:1; padding:5px;'><img src='img_small/258_small.jpg' style='max-width:150px; max-height:150px;'><p>Cluster: 11</p><p>Artist: Jack Whitten</p><p>Title: Liquid Space I</p><p>Medium: painting, acrylic slip on paper</p></div><div style='flex:1; padding:5px;'><img src='img_small/260_small.jpg' style='max-width:150px; max-height:150px;'><p>Cluster: 11</p><p>Artist: Jeff Elrod</p><p>Title: Green Echo</p><p>Medium: photo, digital print</p></div><div style='flex:1; padding:5px;'><img src='img_small/265_small.jpg' style='max-width:150px; max-height:150px;'><p>Cluster: 11</p><p>Artist: Michele Abeles</p><p>Title: B&W #06</p><p>Medium: photo, digital C Print, UV solvent print</p></div><br><div style='flex:1; padding:5px;'><img src='img_small/270_small.jpg' style='max-width:150px; max-height:150px;'><p>Cluster: 11</p><p>Artist: Pat Steir </p><p>Title: Opacity Velocity</p><p>Medium: painting, oil on canvas</p></div><div style='flex:1; padding:5px;'><img src='img_small/277_small.jpg' style='max-width:150px; max-height:150px;'><p>Cluster: 11</p><p>Artist: John Armleder</p><p>Title: Untitled from Supernova</p><p>Medium: print, lithograph</p></div><div style='flex:1; padding:5px;'><img src='img_small/283_small.jpg' style='max-width:150px; max-height:150px;'><p>Cluster: 11</p><p>Artist: Mona Hatoum</p><p>Title: Hair Drawing</p><p>Medium: drawing, human hair and fingernail on handmade paper</p></div><div style='flex:1; padding:5px;'><img src='img_small/301_small.jpg' style='max-width:150px; max-height:150px;'><p>Cluster: 11</p><p>Artist: Stan Brakhage</p><p>Title: 23rd Psalm Branch (Part 1 & 2)</p><p>Medium: photo, film still, 16mm film (color, silent)</p></div><div style='flex:1; padding:5px;'><img src='img_small/302_small.jpg' style='max-width:150px; max-height:150px;'><p>Cluster: 11</p><p>Artist: Markus LÌ_pertz</p><p>Title: Untitled (Landschaft, abstrakt)</p><p>Medium: drawing, gouache & oil stick on paper</p></div><br><div style='flex:1; padding:5px;'><img src='img_small/303_small.jpg' style='max-width:150px; max-height:150px;'><p>Cluster: 11</p><p>Artist: Harvey Tulcensky </p><p>Title: Untitled</p><p>Medium: drawing, ballpoint pen on paper</p></div><div style='flex:1; padding:5px;'><img src='img_small/309_small.jpg' style='max-width:150px; max-height:150px;'><p>Cluster: 11</p><p>Artist: Raoul De Keyser</p><p>Title: Forcalquier A1</p><p>Medium: painting, watercolor on paper</p></div><div style='flex:1; padding:5px;'><img src='img_small/312_small.jpg' style='max-width:150px; max-height:150px;'><p>Cluster: 11</p><p>Artist: Glenn Ligon</p><p>Title: Study for Black Like Me. #2</p><p>Medium: painting, oilstick on paper</p></div><div style='flex:1; padding:5px;'><img src='img_small/315_small.jpg' style='max-width:150px; max-height:150px;'><p>Cluster: 11</p><p>Artist: John Cage</p><p>Title: River Rock and Smoke 4/13/90 #5</p><p>Medium: painting, soot & watercolor on paper</p></div><div style='flex:1; padding:5px;'><img src='img_small/318_small.jpg' style='max-width:150px; max-height:150px;'><p>Cluster: 11</p><p>Artist: Gerhard Richter </p><p>Title: 24.4.90</p><p>Medium: drawing, pencil on paper</p></div><br><div style='flex:1; padding:5px;'><img src='img_small/320_small.jpg' style='max-width:150px; max-height:150px;'><p>Cluster: 11</p><p>Artist: Tim Rollins, K.O.S. (Kids of Survival) </p><p>Title: VIII from The Temptation of Saint Antony I-XIV</p><p>Medium: print, one from a portfolio of 14 aquatints on xerograph with chine collÌÎå©</p></div><div style='flex:1; padding:5px;'><img src='img_small/327_small.jpg' style='max-width:150px; max-height:150px;'><p>Cluster: 11</p><p>Artist: Not Vital</p><p>Title: Untitled</p><p>Medium: painting, synthetic polymer paint and oil stick on paper</p></div><div style='flex:1; padding:5px;'><img src='img_small/336_small.jpg' style='max-width:150px; max-height:150px;'><p>Cluster: 11</p><p>Artist: Brion Gysin </p><p>Title: Plateau Beaubourg</p><p>Medium: drawing, ink & cut-and-pasted gelatin silver prints on paper</p></div><div style='flex:1; padding:5px;'><img src='img_small/339_small.jpg' style='max-width:150px; max-height:150px;'><p>Cluster: 11</p><p>Artist: Dick Higgins</p><p>Title: Symphony #269 from The Thousand Symphonies</p><p>Medium: drawing, spray paint on 3 sheets of offset printed musical composition paper</p></div><div style='flex:1; padding:5px;'><img src='img_small/340_small.jpg' style='max-width:150px; max-height:150px;'><p>Cluster: 11</p><p>Artist: James Boynton </p><p>Title: Untitled</p><p>Medium: print, lithograph</p></div><br><div style='flex:1; padding:5px;'><img src='img_small/344_small.jpg' style='max-width:150px; max-height:150px;'><p>Cluster: 11</p><p>Artist: Lucio Fontana </p><p>Title: Concetto Spaziale from Six Original Etchings (Sei Acqueforti Originali)</p><p>Medium: print, one from a portfolio of 6 etchings with embossing</p></div><div style='flex:1; padding:5px;'><img src='img_small/360_small.jpg' style='max-width:150px; max-height:150px;'><p>Cluster: 11</p><p>Artist: Mark Rothko </p><p>Title: No. 5/No. 24</p><p>Medium: painting, oil on canvas</p></div><div style='flex:1; padding:5px;'><img src='img_small/388_small.jpg' style='max-width:150px; max-height:150px;'><p>Cluster: 11</p><p>Artist: Joseph Mallord William Turner</p><p>Title: Norham Castle, Sunrise</p><p>Medium: painting, oil on canvas</p></div><div style='flex:1; padding:5px;'><img src='img_small/391_small.jpg' style='max-width:150px; max-height:150px;'><p>Cluster: 11</p><p>Artist: Takesada Matsutani </p><p>Title: Work 65-B-1</p><p>Medium: painting, polyvinyl acetate adhesive, acrylic & oil on canvas, mounted on plywood board</p></div><div style='flex:1; padding:5px;'><img src='img_small/400_small.jpg' style='max-width:150px; max-height:150px;'><p>Cluster: 11</p><p>Artist: Wafaa Bilal</p><p>Title: Market</p><p>Medium: photo, archival inkjet print</p></div><br><div style='flex:1; padding:5px;'><img src='img_small/404_small.jpg' style='max-width:150px; max-height:150px;'><p>Cluster: 11</p><p>Artist: Jitish Kallat</p><p>Title: Wind Study</p><p>Medium: drawing, burnt adhesive & graphite on Indian handmade paper</p></div><div style='flex:1; padding:5px;'><img src='img_small/405_small.jpg' style='max-width:150px; max-height:150px;'><p>Cluster: 11</p><p>Artist: Gillian Avery</p><p>Title: Break-off </p><p>Medium: painting, oil on canvas</p></div></div></div></body></html>"
      ],
      "text/plain": [
       "<IPython.core.display.HTML object>"
      ]
     },
     "execution_count": 13,
     "metadata": {},
     "output_type": "execute_result"
    }
   ],
   "source": [
    "num_images_per_row = 5  # Number of images to display per row in the grid\n",
    "\n",
    "with open(\"clusters_visualization.html\", \"w\") as f:\n",
    "    f.write(\"<html><head><title>Clusters Visualization</title></head><body>\")\n",
    "    \n",
    "    for i in range(0, max(km.labels_)+1):\n",
    "        f.write(\"<div>\")\n",
    "        f.write(\"<h2>Images in cluster: \" + str(i) + \"</h2>\")\n",
    "        \n",
    "        # Start grid layout\n",
    "        f.write(\"<div style='display:flex; flex-wrap:wrap;'>\")\n",
    "        \n",
    "        count = 0  # Counter to keep track of the number of images in the current row\n",
    "        \n",
    "        for j in range(0, len(km.labels_)):\n",
    "            if km.labels_[j] == i:\n",
    "                img_path = \"img_small/\" + str(j+2) + '_small.jpg'\n",
    "                f.write(\"<div style='flex:1; padding:5px;'>\")\n",
    "                f.write(\"<img src='\" + img_path + \"' style='max-width:150px; max-height:150px;'>\")\n",
    "                f.write(\"<p>Cluster: \" + str(i) + \"</p>\")\n",
    "                f.write(\"<p>Artist: \" + str(data.loc[j, 'artist']) + \"</p>\")\n",
    "                f.write(\"<p>Title: \" + str(data.loc[j, 'title']) + \"</p>\")\n",
    "                f.write(\"<p>Medium: \" + str(data.loc[j, 'medium']) + \"</p>\")\n",
    "                f.write(\"</div>\")\n",
    "                \n",
    "                count += 1\n",
    "                \n",
    "                # Check if reached the maximum number of images per row\n",
    "                if count == num_images_per_row:\n",
    "                    f.write(\"<br>\")  # Start a new row\n",
    "                    count = 0  # Reset the counter\n",
    "        \n",
    "        # End grid layout\n",
    "        f.write(\"</div>\")\n",
    "        \n",
    "        f.write(\"</div>\")\n",
    "    \n",
    "    f.write(\"</body></html>\")\n",
    "\n",
    "    f.close()\n",
    "    \n",
    "# webbrowser.get(\"chrome\")\n",
    "# webbrowser.open_new_tab(\"clusters_visualization.html\")\n",
    "\n",
    "from IPython.display import HTML\n",
    "HTML(filename=\"clusters_visualization.html\")"
   ]
  },
  {
   "cell_type": "markdown",
   "metadata": {},
   "source": [
    "## original output code below to view clusters ###\n"
   ]
  },
  {
   "cell_type": "code",
   "execution_count": 16,
   "metadata": {},
   "outputs": [],
   "source": [
    "# for i in range(0, max(km.labels_)+1):\n",
    "#     print(\" \")\n",
    "#     print(\"* * * * * * * * * * * * * * * * * * * * * * * * * * * * * * \")\n",
    "#     print(\"Images in cluster: \" + str(i))\n",
    "#     print(\"* * * * * * * * * * * * * * * * * * * * * * * * * * * * * * \")\n",
    "#     for j in range(0, len(km.labels_)):\n",
    "#         if km.labels_[j] == i:\n",
    "# #             print(str(j+2) + '_small.jpg') #CHANGE, SO IT PRINTS OUT HTML AND SHOWS IMAGE so we can scroll through images and make the assesment\n",
    "#                 img_path = plt.imread(\"img_small/\" + str(j+2) + '_small.jpg')\n",
    "#                 plt.imshow(img_path)\n",
    "#                 plt.show()\n",
    "#                 print(i)\n",
    "#                 print(\"Medium: \",data.loc[j, 'medium'])\n",
    "#                 print(\"Title: \",data.loc[j,'title'])\n",
    "#                 print(\"Artist: \", data.loc[j, 'artist'])"
   ]
  },
  {
   "cell_type": "code",
   "execution_count": 15,
   "metadata": {},
   "outputs": [
    {
     "data": {
      "text/html": [
       "<h2>Images in cluster: 0</h2>"
      ],
      "text/plain": [
       "<IPython.core.display.HTML object>"
      ]
     },
     "metadata": {},
     "output_type": "display_data"
    },
    {
     "data": {
      "text/html": [
       "<img src='img_small/5_small.jpg'>"
      ],
      "text/plain": [
       "<IPython.core.display.HTML object>"
      ]
     },
     "metadata": {},
     "output_type": "display_data"
    },
    {
     "name": "stdout",
     "output_type": "stream",
     "text": [
      "Cluster: 0\n",
      "Medium: painting, oil, household paint on hardboard\n",
      "Title: Distillation\n",
      "Artist: Gillian Avery\n"
     ]
    },
    {
     "data": {
      "text/html": [
       "<img src='img_small/22_small.jpg'>"
      ],
      "text/plain": [
       "<IPython.core.display.HTML object>"
      ]
     },
     "metadata": {},
     "output_type": "display_data"
    },
    {
     "name": "stdout",
     "output_type": "stream",
     "text": [
      "Cluster: 0\n",
      "Medium: painting, oil on canvas\n",
      "Title: Bottle and Fishes\n",
      "Artist: Georges Braque\n"
     ]
    },
    {
     "data": {
      "text/html": [
       "<img src='img_small/48_small.jpg'>"
      ],
      "text/plain": [
       "<IPython.core.display.HTML object>"
      ]
     },
     "metadata": {},
     "output_type": "display_data"
    },
    {
     "name": "stdout",
     "output_type": "stream",
     "text": [
      "Cluster: 0\n",
      "Medium: painting, oil on canvas\n",
      "Title: Black Sea\n",
      "Artist: Philip Guston\n"
     ]
    },
    {
     "data": {
      "text/html": [
       "<img src='img_small/62_small.jpg'>"
      ],
      "text/plain": [
       "<IPython.core.display.HTML object>"
      ]
     },
     "metadata": {},
     "output_type": "display_data"
    },
    {
     "name": "stdout",
     "output_type": "stream",
     "text": [
      "Cluster: 0\n",
      "Medium: painting, pencil & aquacryl on canvas & aluminum\n",
      "Title: Vapour\n",
      "Artist: Shirazeh Houshiary\n"
     ]
    },
    {
     "data": {
      "text/html": [
       "<img src='img_small/96_small.jpg'>"
      ],
      "text/plain": [
       "<IPython.core.display.HTML object>"
      ]
     },
     "metadata": {},
     "output_type": "display_data"
    },
    {
     "name": "stdout",
     "output_type": "stream",
     "text": [
      "Cluster: 0\n",
      "Medium: painting, ink & acrylic on canvas\n",
      "Title: Black City \n",
      "Artist: Julie Mehretu\n"
     ]
    },
    {
     "data": {
      "text/html": [
       "<img src='img_small/111_small.jpg'>"
      ],
      "text/plain": [
       "<IPython.core.display.HTML object>"
      ]
     },
     "metadata": {},
     "output_type": "display_data"
    },
    {
     "name": "stdout",
     "output_type": "stream",
     "text": [
      "Cluster: 0\n",
      "Medium: painting, oil, paper collage, glitter, polyester resin, map pins & elephant dung on linen\n",
      "Title: Afrodizzia\n",
      "Artist: Chris Ofili\n"
     ]
    },
    {
     "data": {
      "text/html": [
       "<img src='img_small/115_small.jpg'>"
      ],
      "text/plain": [
       "<IPython.core.display.HTML object>"
      ]
     },
     "metadata": {},
     "output_type": "display_data"
    },
    {
     "name": "stdout",
     "output_type": "stream",
     "text": [
      "Cluster: 0\n",
      "Medium: painting, acrylic on canvas\n",
      "Title: River Rocks Eroded\n",
      "Artist: Gabriel Orozco\n"
     ]
    },
    {
     "data": {
      "text/html": [
       "<img src='img_small/125_small.jpg'>"
      ],
      "text/plain": [
       "<IPython.core.display.HTML object>"
      ]
     },
     "metadata": {},
     "output_type": "display_data"
    },
    {
     "name": "stdout",
     "output_type": "stream",
     "text": [
      "Cluster: 0\n",
      "Medium: painting, oil paint on canvas on wood\n",
      "Title: Seaton Delaval \n",
      "Artist: John Piper\n"
     ]
    },
    {
     "data": {
      "text/html": [
       "<img src='img_small/127_small.jpg'>"
      ],
      "text/plain": [
       "<IPython.core.display.HTML object>"
      ]
     },
     "metadata": {},
     "output_type": "display_data"
    },
    {
     "name": "stdout",
     "output_type": "stream",
     "text": [
      "Cluster: 0\n",
      "Medium: painting, gold paint, oil & acrylic paint on canvas\n",
      "Title: Untitled (Square 2)\n",
      "Artist: Sigmar Polke\n"
     ]
    },
    {
     "data": {
      "text/html": [
       "<img src='img_small/128_small.jpg'>"
      ],
      "text/plain": [
       "<IPython.core.display.HTML object>"
      ]
     },
     "metadata": {},
     "output_type": "display_data"
    },
    {
     "name": "stdout",
     "output_type": "stream",
     "text": [
      "Cluster: 0\n",
      "Medium: painting, oil on canvas\n",
      "Title: Yellow Islands\n",
      "Artist: Jackson Pollock\n"
     ]
    },
    {
     "data": {
      "text/html": [
       "<img src='img_small/132_small.jpg'>"
      ],
      "text/plain": [
       "<IPython.core.display.HTML object>"
      ]
     },
     "metadata": {},
     "output_type": "display_data"
    },
    {
     "name": "stdout",
     "output_type": "stream",
     "text": [
      "Cluster: 0\n",
      "Medium: painting, oil on canvas\n",
      "Title: White Screen \n",
      "Artist: Douglas Portway\n"
     ]
    },
    {
     "data": {
      "text/html": [
       "<img src='img_small/137_small.jpg'>"
      ],
      "text/plain": [
       "<IPython.core.display.HTML object>"
      ]
     },
     "metadata": {},
     "output_type": "display_data"
    },
    {
     "name": "stdout",
     "output_type": "stream",
     "text": [
      "Cluster: 0\n",
      "Medium: print, lithograph on paper\n",
      "Title: Water Stop \n",
      "Artist: Robert Rauschenberg\n"
     ]
    },
    {
     "data": {
      "text/html": [
       "<img src='img_small/141_small.jpg'>"
      ],
      "text/plain": [
       "<IPython.core.display.HTML object>"
      ]
     },
     "metadata": {},
     "output_type": "display_data"
    },
    {
     "name": "stdout",
     "output_type": "stream",
     "text": [
      "Cluster: 0\n",
      "Medium: painting, oil on canvas\n",
      "Title: Abstract Painting No. 5 \n",
      "Artist: Ad Reinhardt\n"
     ]
    },
    {
     "data": {
      "text/html": [
       "<img src='img_small/143_small.jpg'>"
      ],
      "text/plain": [
       "<IPython.core.display.HTML object>"
      ]
     },
     "metadata": {},
     "output_type": "display_data"
    },
    {
     "name": "stdout",
     "output_type": "stream",
     "text": [
      "Cluster: 0\n",
      "Medium: painting, 6 photographs, gelatin silver print on paper with oil paint\n",
      "Title: Self Portrait Standing, Three Times, 17.3.1991\n",
      "Artist: Gerhard Richter\n"
     ]
    },
    {
     "data": {
      "text/html": [
       "<img src='img_small/150_small.jpg'>"
      ],
      "text/plain": [
       "<IPython.core.display.HTML object>"
      ]
     },
     "metadata": {},
     "output_type": "display_data"
    },
    {
     "name": "stdout",
     "output_type": "stream",
     "text": [
      "Cluster: 0\n",
      "Medium: painting, oil on canvas\n",
      "Title: Bomb Falling into Water \n",
      "Artist: Leonard Rosoman\n"
     ]
    },
    {
     "data": {
      "text/html": [
       "<img src='img_small/153_small.jpg'>"
      ],
      "text/plain": [
       "<IPython.core.display.HTML object>"
      ]
     },
     "metadata": {},
     "output_type": "display_data"
    },
    {
     "name": "stdout",
     "output_type": "stream",
     "text": [
      "Cluster: 0\n",
      "Medium: painting, watercolor & gouache on paper\n",
      "Title: Untitled \n",
      "Artist: Mark Rothko\n"
     ]
    },
    {
     "data": {
      "text/html": [
       "<img src='img_small/158_small.jpg'>"
      ],
      "text/plain": [
       "<IPython.core.display.HTML object>"
      ]
     },
     "metadata": {},
     "output_type": "display_data"
    },
    {
     "name": "stdout",
     "output_type": "stream",
     "text": [
      "Cluster: 0\n",
      "Medium: painting, oil on canvas\n",
      "Title: Document \n",
      "Artist: Robert Ryman\n"
     ]
    },
    {
     "data": {
      "text/html": [
       "<img src='img_small/175_small.jpg'>"
      ],
      "text/plain": [
       "<IPython.core.display.HTML object>"
      ]
     },
     "metadata": {},
     "output_type": "display_data"
    },
    {
     "name": "stdout",
     "output_type": "stream",
     "text": [
      "Cluster: 0\n",
      "Medium: painting oil on canvas\n",
      "Title: The Mood of Now \n",
      "Artist: Yves Tanguy\n"
     ]
    },
    {
     "data": {
      "text/html": [
       "<img src='img_small/176_small.jpg'>"
      ],
      "text/plain": [
       "<IPython.core.display.HTML object>"
      ]
     },
     "metadata": {},
     "output_type": "display_data"
    },
    {
     "name": "stdout",
     "output_type": "stream",
     "text": [
      "Cluster: 0\n",
      "Medium: print, fabric on etching on paper\n",
      "Title: Pasted Cloth \n",
      "Artist: Antoni Tapies\n"
     ]
    },
    {
     "data": {
      "text/html": [
       "<img src='img_small/178_small.jpg'>"
      ],
      "text/plain": [
       "<IPython.core.display.HTML object>"
      ]
     },
     "metadata": {},
     "output_type": "display_data"
    },
    {
     "name": "stdout",
     "output_type": "stream",
     "text": [
      "Cluster: 0\n",
      "Medium: painting, tempera & gouache on paper on board\n",
      "Title: Northwest Drift\n",
      "Artist: Mark Tobey\n"
     ]
    },
    {
     "data": {
      "text/html": [
       "<img src='img_small/182_small.jpg'>"
      ],
      "text/plain": [
       "<IPython.core.display.HTML object>"
      ]
     },
     "metadata": {},
     "output_type": "display_data"
    },
    {
     "name": "stdout",
     "output_type": "stream",
     "text": [
      "Cluster: 0\n",
      "Medium: painting, watercolor on paper\n",
      "Title: Untitled (The Barge)\n",
      "Artist: Luc Tuymans\n"
     ]
    },
    {
     "data": {
      "text/html": [
       "<img src='img_small/191_small.jpg'>"
      ],
      "text/plain": [
       "<IPython.core.display.HTML object>"
      ]
     },
     "metadata": {},
     "output_type": "display_data"
    },
    {
     "name": "stdout",
     "output_type": "stream",
     "text": [
      "Cluster: 0\n",
      "Medium: painting, silkscreen & acrylic on canvas\n",
      "Title: Shadows, detail\n",
      "Artist: Andy Warhol\n"
     ]
    },
    {
     "data": {
      "text/html": [
       "<img src='img_small/198_small.jpg'>"
      ],
      "text/plain": [
       "<IPython.core.display.HTML object>"
      ]
     },
     "metadata": {},
     "output_type": "display_data"
    },
    {
     "name": "stdout",
     "output_type": "stream",
     "text": [
      "Cluster: 0\n",
      "Medium: painting, oil paint on canvas\n",
      "Title: Nocturne: Blue and Silver - Cremorne Lights\n",
      "Artist: James Abbott McNeill Whistler\n"
     ]
    },
    {
     "data": {
      "text/html": [
       "<img src='img_small/204_small.jpg'>"
      ],
      "text/plain": [
       "<IPython.core.display.HTML object>"
      ]
     },
     "metadata": {},
     "output_type": "display_data"
    },
    {
     "name": "stdout",
     "output_type": "stream",
     "text": [
      "Cluster: 0\n",
      "Medium: painting, silkscreen ink on linen\n",
      "Title: Untitled\n",
      "Artist: Christopher Wool \n"
     ]
    },
    {
     "data": {
      "text/html": [
       "<img src='img_small/206_small.jpg'>"
      ],
      "text/plain": [
       "<IPython.core.display.HTML object>"
      ]
     },
     "metadata": {},
     "output_type": "display_data"
    },
    {
     "name": "stdout",
     "output_type": "stream",
     "text": [
      "Cluster: 0\n",
      "Medium: print, screenprint on paper\n",
      "Title: Stage\n",
      "Artist: Catherine Yass\n"
     ]
    },
    {
     "data": {
      "text/html": [
       "<img src='img_small/212_small.jpg'>"
      ],
      "text/plain": [
       "<IPython.core.display.HTML object>"
      ]
     },
     "metadata": {},
     "output_type": "display_data"
    },
    {
     "name": "stdout",
     "output_type": "stream",
     "text": [
      "Cluster: 0\n",
      "Medium: photo, gelatin silver print\n",
      "Title: Maquette du nuage #1\n",
      "Artist: Yo-Yo Gonthier\n"
     ]
    },
    {
     "data": {
      "text/html": [
       "<img src='img_small/215_small.jpg'>"
      ],
      "text/plain": [
       "<IPython.core.display.HTML object>"
      ]
     },
     "metadata": {},
     "output_type": "display_data"
    },
    {
     "name": "stdout",
     "output_type": "stream",
     "text": [
      "Cluster: 0\n",
      "Medium: painting, mixed media on silk-screen printed fabric\n",
      "Title: Section 1, Les pÌ©troliers series\n",
      "Artist: YÌ©anzi\n"
     ]
    },
    {
     "data": {
      "text/html": [
       "<img src='img_small/236_small.jpg'>"
      ],
      "text/plain": [
       "<IPython.core.display.HTML object>"
      ]
     },
     "metadata": {},
     "output_type": "display_data"
    },
    {
     "name": "stdout",
     "output_type": "stream",
     "text": [
      "Cluster: 0\n",
      "Medium: drawing, red wash, red chalk on ivory laid paper\n",
      "Title: Dos personajes asomÌÁndose a una salida luminosa\n",
      "Artist: Francisco de Goya y Lucientes \n"
     ]
    },
    {
     "data": {
      "text/html": [
       "<img src='img_small/250_small.jpg'>"
      ],
      "text/plain": [
       "<IPython.core.display.HTML object>"
      ]
     },
     "metadata": {},
     "output_type": "display_data"
    },
    {
     "name": "stdout",
     "output_type": "stream",
     "text": [
      "Cluster: 0\n",
      "Medium: print, polymer gravure \n",
      "Title: Eagduru from Alan Cristea Gallery Twentieth Anniversary Portfolio\n",
      "Artist: Ian McKeever\n"
     ]
    },
    {
     "data": {
      "text/html": [
       "<img src='img_small/256_small.jpg'>"
      ],
      "text/plain": [
       "<IPython.core.display.HTML object>"
      ]
     },
     "metadata": {},
     "output_type": "display_data"
    },
    {
     "name": "stdout",
     "output_type": "stream",
     "text": [
      "Cluster: 0\n",
      "Medium: painting, acrylic emulsion paint on paper\n",
      "Title: Untitled\n",
      "Artist: Rosemarie Trockel\n"
     ]
    },
    {
     "data": {
      "text/html": [
       "<img src='img_small/266_small.jpg'>"
      ],
      "text/plain": [
       "<IPython.core.display.HTML object>"
      ]
     },
     "metadata": {},
     "output_type": "display_data"
    },
    {
     "name": "stdout",
     "output_type": "stream",
     "text": [
      "Cluster: 0\n",
      "Medium: photo, video still \n",
      "Title: Washing Brain and Corn\n",
      "Artist: Sung Hwan Kim\n"
     ]
    },
    {
     "data": {
      "text/html": [
       "<img src='img_small/268_small.jpg'>"
      ],
      "text/plain": [
       "<IPython.core.display.HTML object>"
      ]
     },
     "metadata": {},
     "output_type": "display_data"
    },
    {
     "name": "stdout",
     "output_type": "stream",
     "text": [
      "Cluster: 0\n",
      "Medium: installation, handmade slide, projected in pairs\n",
      "Title: Number 9\n",
      "Artist: Luther Price\n"
     ]
    },
    {
     "data": {
      "text/html": [
       "<img src='img_small/274_small.jpg'>"
      ],
      "text/plain": [
       "<IPython.core.display.HTML object>"
      ]
     },
     "metadata": {},
     "output_type": "display_data"
    },
    {
     "name": "stdout",
     "output_type": "stream",
     "text": [
      "Cluster: 0\n",
      "Medium: photo, color print on metallic paper\n",
      "Title: Unique color print on metallic paper\n",
      "Artist: Mariah Robertson\n"
     ]
    },
    {
     "data": {
      "text/html": [
       "<img src='img_small/284_small.jpg'>"
      ],
      "text/plain": [
       "<IPython.core.display.HTML object>"
      ]
     },
     "metadata": {},
     "output_type": "display_data"
    },
    {
     "name": "stdout",
     "output_type": "stream",
     "text": [
      "Cluster: 0\n",
      "Medium: drawing, pastel on paper\n",
      "Title: Untitled\n",
      "Artist: Anish Kapoor\n"
     ]
    },
    {
     "data": {
      "text/html": [
       "<img src='img_small/288_small.jpg'>"
      ],
      "text/plain": [
       "<IPython.core.display.HTML object>"
      ]
     },
     "metadata": {},
     "output_type": "display_data"
    },
    {
     "name": "stdout",
     "output_type": "stream",
     "text": [
      "Cluster: 0\n",
      "Medium: painting, synthetic polymer paint on paper\n",
      "Title: Blue Band\n",
      "Artist: Sarah Walker\n"
     ]
    },
    {
     "data": {
      "text/html": [
       "<img src='img_small/291_small.jpg'>"
      ],
      "text/plain": [
       "<IPython.core.display.HTML object>"
      ]
     },
     "metadata": {},
     "output_type": "display_data"
    },
    {
     "name": "stdout",
     "output_type": "stream",
     "text": [
      "Cluster: 0\n",
      "Medium: photo, digital print with acrylic paint additions\n",
      "Title: Bombhead\n",
      "Artist: Bruce Connor\n"
     ]
    },
    {
     "data": {
      "text/html": [
       "<img src='img_small/294_small.jpg'>"
      ],
      "text/plain": [
       "<IPython.core.display.HTML object>"
      ]
     },
     "metadata": {},
     "output_type": "display_data"
    },
    {
     "name": "stdout",
     "output_type": "stream",
     "text": [
      "Cluster: 0\n",
      "Medium: drawing, ink & graphite on mylar\n",
      "Title: Everyone Belongs to Everyone Else\n",
      "Artist: Matthew Ritchie \n"
     ]
    },
    {
     "data": {
      "text/html": [
       "<img src='img_small/331_small.jpg'>"
      ],
      "text/plain": [
       "<IPython.core.display.HTML object>"
      ]
     },
     "metadata": {},
     "output_type": "display_data"
    },
    {
     "name": "stdout",
     "output_type": "stream",
     "text": [
      "Cluster: 0\n",
      "Medium: drawing, ink & pencil on paper\n",
      "Title: Third House for Edgar Hofschen #3\n",
      "Artist: Jake Berthot\n"
     ]
    },
    {
     "data": {
      "text/html": [
       "<img src='img_small/354_small.jpg'>"
      ],
      "text/plain": [
       "<IPython.core.display.HTML object>"
      ]
     },
     "metadata": {},
     "output_type": "display_data"
    },
    {
     "name": "stdout",
     "output_type": "stream",
     "text": [
      "Cluster: 0\n",
      "Medium: print, lithograph\n",
      "Title: Untitled\n",
      "Artist: Julius Bissier\n"
     ]
    },
    {
     "data": {
      "text/html": [
       "<img src='img_small/356_small.jpg'>"
      ],
      "text/plain": [
       "<IPython.core.display.HTML object>"
      ]
     },
     "metadata": {},
     "output_type": "display_data"
    },
    {
     "name": "stdout",
     "output_type": "stream",
     "text": [
      "Cluster: 0\n",
      "Medium: print, serigraph, printed in color\n",
      "Title: Spirit's Constellation\n",
      "Artist: Sylvia Wald\n"
     ]
    },
    {
     "data": {
      "text/html": [
       "<img src='img_small/382_small.jpg'>"
      ],
      "text/plain": [
       "<IPython.core.display.HTML object>"
      ]
     },
     "metadata": {},
     "output_type": "display_data"
    },
    {
     "name": "stdout",
     "output_type": "stream",
     "text": [
      "Cluster: 0\n",
      "Medium: painting, oil on canvas\n",
      "Title: Man With a Guitar\n",
      "Artist: Georges Braque\n"
     ]
    },
    {
     "data": {
      "text/html": [
       "<img src='img_small/383_small.jpg'>"
      ],
      "text/plain": [
       "<IPython.core.display.HTML object>"
      ]
     },
     "metadata": {},
     "output_type": "display_data"
    },
    {
     "name": "stdout",
     "output_type": "stream",
     "text": [
      "Cluster: 0\n",
      "Medium: painting, watercolor & pencil on paper\n",
      "Title: House Among Trees\n",
      "Artist: Paul CÌ©zanne\n"
     ]
    },
    {
     "data": {
      "text/html": [
       "<img src='img_small/384_small.jpg'>"
      ],
      "text/plain": [
       "<IPython.core.display.HTML object>"
      ]
     },
     "metadata": {},
     "output_type": "display_data"
    },
    {
     "name": "stdout",
     "output_type": "stream",
     "text": [
      "Cluster: 0\n",
      "Medium: photo, gelatin silver print\n",
      "Title: BrÌÈlage\n",
      "Artist: Raoul Ubac \n"
     ]
    },
    {
     "data": {
      "text/html": [
       "<img src='img_small/397_small.jpg'>"
      ],
      "text/plain": [
       "<IPython.core.display.HTML object>"
      ]
     },
     "metadata": {},
     "output_type": "display_data"
    },
    {
     "name": "stdout",
     "output_type": "stream",
     "text": [
      "Cluster: 0\n",
      "Medium: photo,\n",
      "Title: nan\n",
      "Artist: Amir Mousavi\n"
     ]
    },
    {
     "data": {
      "text/html": [
       "<h2>Images in cluster: 1</h2>"
      ],
      "text/plain": [
       "<IPython.core.display.HTML object>"
      ]
     },
     "metadata": {},
     "output_type": "display_data"
    },
    {
     "data": {
      "text/html": [
       "<img src='img_small/7_small.jpg'>"
      ],
      "text/plain": [
       "<IPython.core.display.HTML object>"
      ]
     },
     "metadata": {},
     "output_type": "display_data"
    },
    {
     "name": "stdout",
     "output_type": "stream",
     "text": [
      "Cluster: 1\n",
      "Medium: painting, marker pen, acrylic on canvas\n",
      "Title: Break Point \n",
      "Artist: Fiona Banner\n"
     ]
    },
    {
     "data": {
      "text/html": [
       "<img src='img_small/47_small.jpg'>"
      ],
      "text/plain": [
       "<IPython.core.display.HTML object>"
      ]
     },
     "metadata": {},
     "output_type": "display_data"
    },
    {
     "name": "stdout",
     "output_type": "stream",
     "text": [
      "Cluster: 1\n",
      "Medium: drawing, crayon on paper\n",
      "Title: Drawing, Untitled \n",
      "Artist: Jan Groth\n"
     ]
    },
    {
     "data": {
      "text/html": [
       "<img src='img_small/55_small.jpg'>"
      ],
      "text/plain": [
       "<IPython.core.display.HTML object>"
      ]
     },
     "metadata": {},
     "output_type": "display_data"
    },
    {
     "name": "stdout",
     "output_type": "stream",
     "text": [
      "Cluster: 1\n",
      "Medium: sculpture, latex, rope, string, and wire\n",
      "Title: No Title \n",
      "Artist: Eva Hesse\n"
     ]
    },
    {
     "data": {
      "text/html": [
       "<img src='img_small/67_small.jpg'>"
      ],
      "text/plain": [
       "<IPython.core.display.HTML object>"
      ]
     },
     "metadata": {},
     "output_type": "display_data"
    },
    {
     "name": "stdout",
     "output_type": "stream",
     "text": [
      "Cluster: 1\n",
      "Medium: drawing, charcoal on paper\n",
      "Title: Untitled \n",
      "Artist: Linda Karshan\n"
     ]
    },
    {
     "data": {
      "text/html": [
       "<img src='img_small/75_small.jpg'>"
      ],
      "text/plain": [
       "<IPython.core.display.HTML object>"
      ]
     },
     "metadata": {},
     "output_type": "display_data"
    },
    {
     "name": "stdout",
     "output_type": "stream",
     "text": [
      "Cluster: 1\n",
      "Medium: painting, oil & glue on canvas\n",
      "Title: From Line \n",
      "Artist: Lee Ufan\n"
     ]
    },
    {
     "data": {
      "text/html": [
       "<img src='img_small/81_small.jpg'>"
      ],
      "text/plain": [
       "<IPython.core.display.HTML object>"
      ]
     },
     "metadata": {},
     "output_type": "display_data"
    },
    {
     "name": "stdout",
     "output_type": "stream",
     "text": [
      "Cluster: 1\n",
      "Medium: painting, acrylic on glass\n",
      "Title: It's so green outside it is difficult to leave the window\n",
      "Artist: Antoni Malinowski \n"
     ]
    },
    {
     "data": {
      "text/html": [
       "<img src='img_small/87_small.jpg'>"
      ],
      "text/plain": [
       "<IPython.core.display.HTML object>"
      ]
     },
     "metadata": {},
     "output_type": "display_data"
    },
    {
     "name": "stdout",
     "output_type": "stream",
     "text": [
      "Cluster: 1\n",
      "Medium: print, etching & aquatint on paper\n",
      "Title: Cold Mountain Series, Zen Study 6\n",
      "Artist: Brice Marden\n"
     ]
    },
    {
     "data": {
      "text/html": [
       "<img src='img_small/136_small.jpg'>"
      ],
      "text/plain": [
       "<IPython.core.display.HTML object>"
      ]
     },
     "metadata": {},
     "output_type": "display_data"
    },
    {
     "name": "stdout",
     "output_type": "stream",
     "text": [
      "Cluster: 1\n",
      "Medium: drawing, oil pastel & photograph on paper\n",
      "Title: Untitled (Death Mask)\n",
      "Artist: Arnulf Rainer\n"
     ]
    },
    {
     "data": {
      "text/html": [
       "<img src='img_small/151_small.jpg'>"
      ],
      "text/plain": [
       "<IPython.core.display.HTML object>"
      ]
     },
     "metadata": {},
     "output_type": "display_data"
    },
    {
     "name": "stdout",
     "output_type": "stream",
     "text": [
      "Cluster: 1\n",
      "Medium: print, lithograph on paper\n",
      "Title: Self-Portrait as a Flower Pot\n",
      "Artist: Dieter Roth\n"
     ]
    },
    {
     "data": {
      "text/html": [
       "<img src='img_small/155_small.jpg'>"
      ],
      "text/plain": [
       "<IPython.core.display.HTML object>"
      ]
     },
     "metadata": {},
     "output_type": "display_data"
    },
    {
     "name": "stdout",
     "output_type": "stream",
     "text": [
      "Cluster: 1\n",
      "Medium: painting, nail polish & sharpie pen on card\n",
      "Title: (Mapping) Maybelline å¨ Wet Shine Cherry Rain\n",
      "Artist: Sterling Ruby\n"
     ]
    },
    {
     "data": {
      "text/html": [
       "<img src='img_small/159_small.jpg'>"
      ],
      "text/plain": [
       "<IPython.core.display.HTML object>"
      ]
     },
     "metadata": {},
     "output_type": "display_data"
    },
    {
     "name": "stdout",
     "output_type": "stream",
     "text": [
      "Cluster: 1\n",
      "Medium: sculpture, sewing needles & silk thread\n",
      "Title: Disremembered I\n",
      "Artist: Doris Salcedo\n"
     ]
    },
    {
     "data": {
      "text/html": [
       "<img src='img_small/160_small.jpg'>"
      ],
      "text/plain": [
       "<IPython.core.display.HTML object>"
      ]
     },
     "metadata": {},
     "output_type": "display_data"
    },
    {
     "name": "stdout",
     "output_type": "stream",
     "text": [
      "Cluster: 1\n",
      "Medium: sculpture, plastered cloth on wire\n",
      "Title: Chair Transformation #7\n",
      "Artist: Lucas Samaras\n"
     ]
    },
    {
     "data": {
      "text/html": [
       "<img src='img_small/165_small.jpg'>"
      ],
      "text/plain": [
       "<IPython.core.display.HTML object>"
      ]
     },
     "metadata": {},
     "output_type": "display_data"
    },
    {
     "name": "stdout",
     "output_type": "stream",
     "text": [
      "Cluster: 1\n",
      "Medium: painting, acrylic & newspaper\n",
      "Title: Untitled \n",
      "Artist: Shozo Shimamoto\n"
     ]
    },
    {
     "data": {
      "text/html": [
       "<img src='img_small/173_small.jpg'>"
      ],
      "text/plain": [
       "<IPython.core.display.HTML object>"
      ]
     },
     "metadata": {},
     "output_type": "display_data"
    },
    {
     "name": "stdout",
     "output_type": "stream",
     "text": [
      "Cluster: 1\n",
      "Medium: drawing, thread embedded in cotton paper\n",
      "Title: Karma Juggler\n",
      "Artist: Do Ho Suh\n"
     ]
    },
    {
     "data": {
      "text/html": [
       "<img src='img_small/180_small.jpg'>"
      ],
      "text/plain": [
       "<IPython.core.display.HTML object>"
      ]
     },
     "metadata": {},
     "output_type": "display_data"
    },
    {
     "name": "stdout",
     "output_type": "stream",
     "text": [
      "Cluster: 1\n",
      "Medium: sculpture, florist wire, nails & graphite\n",
      "Title: 10th Wire Piece\n",
      "Artist: Richard Tuttle \n"
     ]
    },
    {
     "data": {
      "text/html": [
       "<img src='img_small/183_small.jpg'>"
      ],
      "text/plain": [
       "<IPython.core.display.HTML object>"
      ]
     },
     "metadata": {},
     "output_type": "display_data"
    },
    {
     "name": "stdout",
     "output_type": "stream",
     "text": [
      "Cluster: 1\n",
      "Medium: painting, oil-based house paint, lead pencil, colored pencil, & pastel on canvas\n",
      "Title: Academy \n",
      "Artist: Cy Twombly\n"
     ]
    },
    {
     "data": {
      "text/html": [
       "<img src='img_small/196_small.jpg'>"
      ],
      "text/plain": [
       "<IPython.core.display.HTML object>"
      ]
     },
     "metadata": {},
     "output_type": "display_data"
    },
    {
     "name": "stdout",
     "output_type": "stream",
     "text": [
      "Cluster: 1\n",
      "Medium: sculpture, steel & aluminium\n",
      "Title: 35å¡9,32å¡18\n",
      "Artist: Richard Wentworth\n"
     ]
    },
    {
     "data": {
      "text/html": [
       "<img src='img_small/201_small.jpg'>"
      ],
      "text/plain": [
       "<IPython.core.display.HTML object>"
      ]
     },
     "metadata": {},
     "output_type": "display_data"
    },
    {
     "name": "stdout",
     "output_type": "stream",
     "text": [
      "Cluster: 1\n",
      "Medium: painting, oil & alkyd resin on canvas\n",
      "Title: Parallel Rendering 2\n",
      "Artist: Terry Winters\n"
     ]
    },
    {
     "data": {
      "text/html": [
       "<img src='img_small/202_small.jpg'>"
      ],
      "text/plain": [
       "<IPython.core.display.HTML object>"
      ]
     },
     "metadata": {},
     "output_type": "display_data"
    },
    {
     "name": "stdout",
     "output_type": "stream",
     "text": [
      "Cluster: 1\n",
      "Medium: print, etching & drypoint on paper\n",
      "Title: [no title]\n",
      "Artist: Wols (Alfred Otto Wolfgang Schulze)\n"
     ]
    },
    {
     "data": {
      "text/html": [
       "<img src='img_small/219_small.jpg'>"
      ],
      "text/plain": [
       "<IPython.core.display.HTML object>"
      ]
     },
     "metadata": {},
     "output_type": "display_data"
    },
    {
     "name": "stdout",
     "output_type": "stream",
     "text": [
      "Cluster: 1\n",
      "Medium: print,\n",
      "Title: no title on website\n",
      "Artist: V. Viswanadhan\n"
     ]
    },
    {
     "data": {
      "text/html": [
       "<img src='img_small/243_small.jpg'>"
      ],
      "text/plain": [
       "<IPython.core.display.HTML object>"
      ]
     },
     "metadata": {},
     "output_type": "display_data"
    },
    {
     "name": "stdout",
     "output_type": "stream",
     "text": [
      "Cluster: 1\n",
      "Medium: painting, acrylic on linen\n",
      "Title: Wave Burst\n",
      "Artist: Samantha Hobson\n"
     ]
    },
    {
     "data": {
      "text/html": [
       "<img src='img_small/249_small.jpg'>"
      ],
      "text/plain": [
       "<IPython.core.display.HTML object>"
      ]
     },
     "metadata": {},
     "output_type": "display_data"
    },
    {
     "name": "stdout",
     "output_type": "stream",
     "text": [
      "Cluster: 1\n",
      "Medium: painting, inkjet on canvas\n",
      "Title: Untitled\n",
      "Artist: Wade Guyton\n"
     ]
    },
    {
     "data": {
      "text/html": [
       "<img src='img_small/278_small.jpg'>"
      ],
      "text/plain": [
       "<IPython.core.display.HTML object>"
      ]
     },
     "metadata": {},
     "output_type": "display_data"
    },
    {
     "name": "stdout",
     "output_type": "stream",
     "text": [
      "Cluster: 1\n",
      "Medium: drawing, gunpowder on two sheets of paper\n",
      "Title: Drawing for Transient Rainbow\n",
      "Artist: Cai Guo-Qiang\n"
     ]
    },
    {
     "data": {
      "text/html": [
       "<img src='img_small/298_small.jpg'>"
      ],
      "text/plain": [
       "<IPython.core.display.HTML object>"
      ]
     },
     "metadata": {},
     "output_type": "display_data"
    },
    {
     "name": "stdout",
     "output_type": "stream",
     "text": [
      "Cluster: 1\n",
      "Medium: drawing, gesso, crayon & pencil on synthetic polymer sheet\n",
      "Title: Stretch\n",
      "Artist: Eve Aschheim\n"
     ]
    },
    {
     "data": {
      "text/html": [
       "<img src='img_small/310_small.jpg'>"
      ],
      "text/plain": [
       "<IPython.core.display.HTML object>"
      ]
     },
     "metadata": {},
     "output_type": "display_data"
    },
    {
     "name": "stdout",
     "output_type": "stream",
     "text": [
      "Cluster: 1\n",
      "Medium: print, one from a portfolio of five etching & drypoints\n",
      "Title: Untitled from A variation on 79, side to side passes on a dumball, dedicated to the memory of John Cage 1912-1992\n",
      "Artist: David Ireland\n"
     ]
    },
    {
     "data": {
      "text/html": [
       "<img src='img_small/313_small.jpg'>"
      ],
      "text/plain": [
       "<IPython.core.display.HTML object>"
      ]
     },
     "metadata": {},
     "output_type": "display_data"
    },
    {
     "name": "stdout",
     "output_type": "stream",
     "text": [
      "Cluster: 1\n",
      "Medium: sculpture, wooden broomsticks w/ enamel paint mounted on formica laminate\n",
      "Title: Untitled\n",
      "Artist: Al Taylor\n"
     ]
    },
    {
     "data": {
      "text/html": [
       "<img src='img_small/317_small.jpg'>"
      ],
      "text/plain": [
       "<IPython.core.display.HTML object>"
      ]
     },
     "metadata": {},
     "output_type": "display_data"
    },
    {
     "name": "stdout",
     "output_type": "stream",
     "text": [
      "Cluster: 1\n",
      "Medium: drawing, charcoal & crayon on paper\n",
      "Title: Helleboros\n",
      "Artist: David Rabinowitch\n"
     ]
    },
    {
     "data": {
      "text/html": [
       "<img src='img_small/321_small.jpg'>"
      ],
      "text/plain": [
       "<IPython.core.display.HTML object>"
      ]
     },
     "metadata": {},
     "output_type": "display_data"
    },
    {
     "name": "stdout",
     "output_type": "stream",
     "text": [
      "Cluster: 1\n",
      "Medium: sculpture, tin coated copper wire\n",
      "Title: Untitled\n",
      "Artist: Alan Saret \n"
     ]
    },
    {
     "data": {
      "text/html": [
       "<img src='img_small/322_small.jpg'>"
      ],
      "text/plain": [
       "<IPython.core.display.HTML object>"
      ]
     },
     "metadata": {},
     "output_type": "display_data"
    },
    {
     "name": "stdout",
     "output_type": "stream",
     "text": [
      "Cluster: 1\n",
      "Medium: sculpture, steel, lead & plastic\n",
      "Title: Ledge II, no. 88/37\n",
      "Artist: Gego (Gertrud Goldschmidt)\n"
     ]
    },
    {
     "data": {
      "text/html": [
       "<img src='img_small/324_small.jpg'>"
      ],
      "text/plain": [
       "<IPython.core.display.HTML object>"
      ]
     },
     "metadata": {},
     "output_type": "display_data"
    },
    {
     "name": "stdout",
     "output_type": "stream",
     "text": [
      "Cluster: 1\n",
      "Medium: sculpture, gold acrylic yarn\n",
      "Title: Untitled (Fourth of Ten Corner Constructions, Sculptural Study, Yellow Version)\n",
      "Artist: Fred Sandback\n"
     ]
    },
    {
     "data": {
      "text/html": [
       "<img src='img_small/347_small.jpg'>"
      ],
      "text/plain": [
       "<IPython.core.display.HTML object>"
      ]
     },
     "metadata": {},
     "output_type": "display_data"
    },
    {
     "name": "stdout",
     "output_type": "stream",
     "text": [
      "Cluster: 1\n",
      "Medium: drawing, ink on paper\n",
      "Title: Four Scribbles (Quatre gribouillis)\n",
      "Artist: Jean Dubuffet \n"
     ]
    },
    {
     "data": {
      "text/html": [
       "<img src='img_small/395_small.jpg'>"
      ],
      "text/plain": [
       "<IPython.core.display.HTML object>"
      ]
     },
     "metadata": {},
     "output_type": "display_data"
    },
    {
     "name": "stdout",
     "output_type": "stream",
     "text": [
      "Cluster: 1\n",
      "Medium: installation, wood & painting\n",
      "Title: Untitled\n",
      "Artist: Fernanda Gomes \n"
     ]
    },
    {
     "data": {
      "text/html": [
       "<img src='img_small/401_small.jpg'>"
      ],
      "text/plain": [
       "<IPython.core.display.HTML object>"
      ]
     },
     "metadata": {},
     "output_type": "display_data"
    },
    {
     "name": "stdout",
     "output_type": "stream",
     "text": [
      "Cluster: 1\n",
      "Medium: drawing,\n",
      "Title: Bird Flight\n",
      "Artist: Mohammad Ali Talpur\n"
     ]
    },
    {
     "data": {
      "text/html": [
       "<img src='img_small/402_small.jpg'>"
      ],
      "text/plain": [
       "<IPython.core.display.HTML object>"
      ]
     },
     "metadata": {},
     "output_type": "display_data"
    },
    {
     "name": "stdout",
     "output_type": "stream",
     "text": [
      "Cluster: 1\n",
      "Medium: drawing, water based ink on paper\n",
      "Title: Machine Drawing\n",
      "Artist: Mohammad Ali Talpur\n"
     ]
    },
    {
     "data": {
      "text/html": [
       "<h2>Images in cluster: 2</h2>"
      ],
      "text/plain": [
       "<IPython.core.display.HTML object>"
      ]
     },
     "metadata": {},
     "output_type": "display_data"
    },
    {
     "data": {
      "text/html": [
       "<img src='img_small/21_small.jpg'>"
      ],
      "text/plain": [
       "<IPython.core.display.HTML object>"
      ]
     },
     "metadata": {},
     "output_type": "display_data"
    },
    {
     "name": "stdout",
     "output_type": "stream",
     "text": [
      "Cluster: 2\n",
      "Medium: painting, acrylic on canvas\n",
      "Title: The Wall \n",
      "Artist: Boyd and Evans\n"
     ]
    },
    {
     "data": {
      "text/html": [
       "<img src='img_small/26_small.jpg'>"
      ],
      "text/plain": [
       "<IPython.core.display.HTML object>"
      ]
     },
     "metadata": {},
     "output_type": "display_data"
    },
    {
     "name": "stdout",
     "output_type": "stream",
     "text": [
      "Cluster: 2\n",
      "Medium: photo\n",
      "Title: Blue Hallway \n",
      "Artist: James Casebere\n"
     ]
    },
    {
     "data": {
      "text/html": [
       "<img src='img_small/38_small.jpg'>"
      ],
      "text/plain": [
       "<IPython.core.display.HTML object>"
      ]
     },
     "metadata": {},
     "output_type": "display_data"
    },
    {
     "name": "stdout",
     "output_type": "stream",
     "text": [
      "Cluster: 2\n",
      "Medium: painting, watercolour on paper\n",
      "Title: A Shipwreck \n",
      "Artist: FranÌ¤ois Louis Thomas Francia\n"
     ]
    },
    {
     "data": {
      "text/html": [
       "<img src='img_small/52_small.jpg'>"
      ],
      "text/plain": [
       "<IPython.core.display.HTML object>"
      ]
     },
     "metadata": {},
     "output_type": "display_data"
    },
    {
     "name": "stdout",
     "output_type": "stream",
     "text": [
      "Cluster: 2\n",
      "Medium: photo, color on paper\n",
      "Title: Ambidextrous \n",
      "Artist: Tim Head\n"
     ]
    },
    {
     "data": {
      "text/html": [
       "<img src='img_small/54_small.jpg'>"
      ],
      "text/plain": [
       "<IPython.core.display.HTML object>"
      ]
     },
     "metadata": {},
     "output_type": "display_data"
    },
    {
     "name": "stdout",
     "output_type": "stream",
     "text": [
      "Cluster: 2\n",
      "Medium: photo on paper\n",
      "Title: Rome #17 \n",
      "Artist: Anthony Hernandez\n"
     ]
    },
    {
     "data": {
      "text/html": [
       "<img src='img_small/64_small.jpg'>"
      ],
      "text/plain": [
       "<IPython.core.display.HTML object>"
      ]
     },
     "metadata": {},
     "output_type": "display_data"
    },
    {
     "name": "stdout",
     "output_type": "stream",
     "text": [
      "Cluster: 2\n",
      "Medium: painting, oil paint on canvas on board\n",
      "Title: Swiss Roll \n",
      "Artist: Frank Humphrey Sinkler Jennings\n"
     ]
    },
    {
     "data": {
      "text/html": [
       "<img src='img_small/66_small.jpg'>"
      ],
      "text/plain": [
       "<IPython.core.display.HTML object>"
      ]
     },
     "metadata": {},
     "output_type": "display_data"
    },
    {
     "name": "stdout",
     "output_type": "stream",
     "text": [
      "Cluster: 2\n",
      "Medium: video, 2 back projections, 7 mins\n",
      "Title: Vagabondia \n",
      "Artist: Isaac Julien\n"
     ]
    },
    {
     "data": {
      "text/html": [
       "<img src='img_small/79_small.jpg'>"
      ],
      "text/plain": [
       "<IPython.core.display.HTML object>"
      ]
     },
     "metadata": {},
     "output_type": "display_data"
    },
    {
     "name": "stdout",
     "output_type": "stream",
     "text": [
      "Cluster: 2\n",
      "Medium: painting, oil on canvas\n",
      "Title: Man with a Newspaper \n",
      "Artist: RenÌ© Magritte\n"
     ]
    },
    {
     "data": {
      "text/html": [
       "<img src='img_small/91_small.jpg'>"
      ],
      "text/plain": [
       "<IPython.core.display.HTML object>"
      ]
     },
     "metadata": {},
     "output_type": "display_data"
    },
    {
     "name": "stdout",
     "output_type": "stream",
     "text": [
      "Cluster: 2\n",
      "Medium: photo, 2 photos\n",
      "Title: Bronx Floors: Threshole \n",
      "Artist: Gordon Matta-Clark\n"
     ]
    },
    {
     "data": {
      "text/html": [
       "<img src='img_small/92_small.jpg'>"
      ],
      "text/plain": [
       "<IPython.core.display.HTML object>"
      ]
     },
     "metadata": {},
     "output_type": "display_data"
    },
    {
     "name": "stdout",
     "output_type": "stream",
     "text": [
      "Cluster: 2\n",
      "Medium: photo, gelatin silver prints & chalk / graphite on paper\n",
      "Title: Reversible and changeable phases of movement etude 3\n",
      "Artist: Dora Maurer\n"
     ]
    },
    {
     "data": {
      "text/html": [
       "<img src='img_small/100_small.jpg'>"
      ],
      "text/plain": [
       "<IPython.core.display.HTML object>"
      ]
     },
     "metadata": {},
     "output_type": "display_data"
    },
    {
     "name": "stdout",
     "output_type": "stream",
     "text": [
      "Cluster: 2\n",
      "Medium: painting, oil on canvas\n",
      "Title: Ophelia \n",
      "Artist: John Everett Millais\n"
     ]
    },
    {
     "data": {
      "text/html": [
       "<img src='img_small/105_small.jpg'>"
      ],
      "text/plain": [
       "<IPython.core.display.HTML object>"
      ]
     },
     "metadata": {},
     "output_type": "display_data"
    },
    {
     "name": "stdout",
     "output_type": "stream",
     "text": [
      "Cluster: 2\n",
      "Medium: painting, oil on canvas\n",
      "Title: Landscape from a Dream \n",
      "Artist: Paul Nash \n"
     ]
    },
    {
     "data": {
      "text/html": [
       "<img src='img_small/123_small.jpg'>"
      ],
      "text/plain": [
       "<IPython.core.display.HTML object>"
      ]
     },
     "metadata": {},
     "output_type": "display_data"
    },
    {
     "name": "stdout",
     "output_type": "stream",
     "text": [
      "Cluster: 2\n",
      "Medium: painting, oil on canvas\n",
      "Title: Guernica \n",
      "Artist: Pablo Picasso\n"
     ]
    },
    {
     "data": {
      "text/html": [
       "<img src='img_small/126_small.jpg'>"
      ],
      "text/plain": [
       "<IPython.core.display.HTML object>"
      ]
     },
     "metadata": {},
     "output_type": "display_data"
    },
    {
     "name": "stdout",
     "output_type": "stream",
     "text": [
      "Cluster: 2\n",
      "Medium: photo, 21 photographs, black & white, on paper on board\n",
      "Title: Bath Tub Converted into a Pin-Hole Camera \n",
      "Artist: Steven Pippin\n"
     ]
    },
    {
     "data": {
      "text/html": [
       "<img src='img_small/134_small.jpg'>"
      ],
      "text/plain": [
       "<IPython.core.display.HTML object>"
      ]
     },
     "metadata": {},
     "output_type": "display_data"
    },
    {
     "name": "stdout",
     "output_type": "stream",
     "text": [
      "Cluster: 2\n",
      "Medium: painting, oil on canvas\n",
      "Title: Cross in the Wilderness \n",
      "Artist: Ged Quinn\n"
     ]
    },
    {
     "data": {
      "text/html": [
       "<img src='img_small/157_small.jpg'>"
      ],
      "text/plain": [
       "<IPython.core.display.HTML object>"
      ]
     },
     "metadata": {},
     "output_type": "display_data"
    },
    {
     "name": "stdout",
     "output_type": "stream",
     "text": [
      "Cluster: 2\n",
      "Medium: photo, gelatin silver prints & labels on board with annotations\n",
      "Title: maquette for Every Building on the Sunset Strip\n",
      "Artist: Ed Ruscha \n"
     ]
    },
    {
     "data": {
      "text/html": [
       "<img src='img_small/164_small.jpg'>"
      ],
      "text/plain": [
       "<IPython.core.display.HTML object>"
      ]
     },
     "metadata": {},
     "output_type": "display_data"
    },
    {
     "name": "stdout",
     "output_type": "stream",
     "text": [
      "Cluster: 2\n",
      "Medium: photo, photograph, gelatin silver print on paper\n",
      "Title: Untitled Film Still #48 \n",
      "Artist: Cindy Sherman\n"
     ]
    },
    {
     "data": {
      "text/html": [
       "<img src='img_small/170_small.jpg'>"
      ],
      "text/plain": [
       "<IPython.core.display.HTML object>"
      ]
     },
     "metadata": {},
     "output_type": "display_data"
    },
    {
     "name": "stdout",
     "output_type": "stream",
     "text": [
      "Cluster: 2\n",
      "Medium: painting, oil on canvas\n",
      "Title: The Resurrection, Cookham \n",
      "Artist: Stanley Spencer\n"
     ]
    },
    {
     "data": {
      "text/html": [
       "<img src='img_small/174_small.jpg'>"
      ],
      "text/plain": [
       "<IPython.core.display.HTML object>"
      ]
     },
     "metadata": {},
     "output_type": "display_data"
    },
    {
     "name": "stdout",
     "output_type": "stream",
     "text": [
      "Cluster: 2\n",
      "Medium: painting oil on canvas\n",
      "Title: Entrance to a Lane \n",
      "Artist: Graham Sutherland \n"
     ]
    },
    {
     "data": {
      "text/html": [
       "<img src='img_small/189_small.jpg'>"
      ],
      "text/plain": [
       "<IPython.core.display.HTML object>"
      ]
     },
     "metadata": {},
     "output_type": "display_data"
    },
    {
     "name": "stdout",
     "output_type": "stream",
     "text": [
      "Cluster: 2\n",
      "Medium: photo, transparency on lightbox\n",
      "Title: A Sudden Gust of Wind (after Hokusai) \n",
      "Artist: Jeff Wall\n"
     ]
    },
    {
     "data": {
      "text/html": [
       "<img src='img_small/190_small.jpg'>"
      ],
      "text/plain": [
       "<IPython.core.display.HTML object>"
      ]
     },
     "metadata": {},
     "output_type": "display_data"
    },
    {
     "name": "stdout",
     "output_type": "stream",
     "text": [
      "Cluster: 2\n",
      "Medium: painting, oil paint on board\n",
      "Title: The Hold House Port Mear Square Island Port Mear Beach\n",
      "Artist: Alfred Wallis\n"
     ]
    },
    {
     "data": {
      "text/html": [
       "<img src='img_small/207_small.jpg'>"
      ],
      "text/plain": [
       "<IPython.core.display.HTML object>"
      ]
     },
     "metadata": {},
     "output_type": "display_data"
    },
    {
     "name": "stdout",
     "output_type": "stream",
     "text": [
      "Cluster: 2\n",
      "Medium: photo, photograph, color, on paper mounted onto aluminium\n",
      "Title: Body Techniques (after Parallel Stress, Dennis Oppenheim,1970)\n",
      "Artist: Carey Young\n"
     ]
    },
    {
     "data": {
      "text/html": [
       "<img src='img_small/210_small.jpg'>"
      ],
      "text/plain": [
       "<IPython.core.display.HTML object>"
      ]
     },
     "metadata": {},
     "output_type": "display_data"
    },
    {
     "name": "stdout",
     "output_type": "stream",
     "text": [
      "Cluster: 2\n",
      "Medium: photo, lightjet print\n",
      "Title: Subir, sÌ©rie Un Regard\n",
      "Artist: Kiripi Katembo\n"
     ]
    },
    {
     "data": {
      "text/html": [
       "<img src='img_small/216_small.jpg'>"
      ],
      "text/plain": [
       "<IPython.core.display.HTML object>"
      ]
     },
     "metadata": {},
     "output_type": "display_data"
    },
    {
     "name": "stdout",
     "output_type": "stream",
     "text": [
      "Cluster: 2\n",
      "Medium: painting, oil on board\n",
      "Title: Hamam Khana\n",
      "Artist: Bhupen Khakhar \n"
     ]
    },
    {
     "data": {
      "text/html": [
       "<img src='img_small/226_small.jpg'>"
      ],
      "text/plain": [
       "<IPython.core.display.HTML object>"
      ]
     },
     "metadata": {},
     "output_type": "display_data"
    },
    {
     "name": "stdout",
     "output_type": "stream",
     "text": [
      "Cluster: 2\n",
      "Medium: painting, glue-size on twill\n",
      "Title: The Wine of Saint Martin's Day\n",
      "Artist: Pieter Bruegel ÛÏThe ElderÛ \n"
     ]
    },
    {
     "data": {
      "text/html": [
       "<img src='img_small/228_small.jpg'>"
      ],
      "text/plain": [
       "<IPython.core.display.HTML object>"
      ]
     },
     "metadata": {},
     "output_type": "display_data"
    },
    {
     "name": "stdout",
     "output_type": "stream",
     "text": [
      "Cluster: 2\n",
      "Medium: painting, oil on panel\n",
      "Title: Ships in a Storm\n",
      "Artist: Claes Claesz Wou\n"
     ]
    },
    {
     "data": {
      "text/html": [
       "<img src='img_small/229_small.jpg'>"
      ],
      "text/plain": [
       "<IPython.core.display.HTML object>"
      ]
     },
     "metadata": {},
     "output_type": "display_data"
    },
    {
     "name": "stdout",
     "output_type": "stream",
     "text": [
      "Cluster: 2\n",
      "Medium: painting, oil on canvas\n",
      "Title: The Fall of Icarus\n",
      "Artist: Jacob Peeter Gowy\n"
     ]
    },
    {
     "data": {
      "text/html": [
       "<img src='img_small/230_small.jpg'>"
      ],
      "text/plain": [
       "<IPython.core.display.HTML object>"
      ]
     },
     "metadata": {},
     "output_type": "display_data"
    },
    {
     "name": "stdout",
     "output_type": "stream",
     "text": [
      "Cluster: 2\n",
      "Medium: painting, oil on panel\n",
      "Title: Forest\n",
      "Artist: Simon de Vlieger \n"
     ]
    },
    {
     "data": {
      "text/html": [
       "<img src='img_small/231_small.jpg'>"
      ],
      "text/plain": [
       "<IPython.core.display.HTML object>"
      ]
     },
     "metadata": {},
     "output_type": "display_data"
    },
    {
     "name": "stdout",
     "output_type": "stream",
     "text": [
      "Cluster: 2\n",
      "Medium: painting, oil on canvas\n",
      "Title: Landscape with a Vine\n",
      "Artist: TomÌÁs Hiepes\n"
     ]
    },
    {
     "data": {
      "text/html": [
       "<img src='img_small/234_small.jpg'>"
      ],
      "text/plain": [
       "<IPython.core.display.HTML object>"
      ]
     },
     "metadata": {},
     "output_type": "display_data"
    },
    {
     "name": "stdout",
     "output_type": "stream",
     "text": [
      "Cluster: 2\n",
      "Medium: painting, oil on canvas\n",
      "Title: The 3rd of May 1808 in Madrid or ÛÏThe ExecutionsÛ\n",
      "Artist: Francisco de Goya y Lucientes \n"
     ]
    },
    {
     "data": {
      "text/html": [
       "<img src='img_small/235_small.jpg'>"
      ],
      "text/plain": [
       "<IPython.core.display.HTML object>"
      ]
     },
     "metadata": {},
     "output_type": "display_data"
    },
    {
     "name": "stdout",
     "output_type": "stream",
     "text": [
      "Cluster: 2\n",
      "Medium: painting, mixed method on mural transferred to canvas\n",
      "Title: Asmodea\n",
      "Artist: Francisco de Goya y Lucientes \n"
     ]
    },
    {
     "data": {
      "text/html": [
       "<img src='img_small/238_small.jpg'>"
      ],
      "text/plain": [
       "<IPython.core.display.HTML object>"
      ]
     },
     "metadata": {},
     "output_type": "display_data"
    },
    {
     "name": "stdout",
     "output_type": "stream",
     "text": [
      "Cluster: 2\n",
      "Medium: painting, oil on pine panel\n",
      "Title: The Ascension\n",
      "Artist: Juan de Flandes \n"
     ]
    },
    {
     "data": {
      "text/html": [
       "<img src='img_small/239_small.jpg'>"
      ],
      "text/plain": [
       "<IPython.core.display.HTML object>"
      ]
     },
     "metadata": {},
     "output_type": "display_data"
    },
    {
     "name": "stdout",
     "output_type": "stream",
     "text": [
      "Cluster: 2\n",
      "Medium: painting, oil on panel\n",
      "Title: CacerÌ_a en el castillo de Torgau en honor de Fernando I\n",
      "Artist: Lucas Cranach the Elder\n"
     ]
    },
    {
     "data": {
      "text/html": [
       "<img src='img_small/306_small.jpg'>"
      ],
      "text/plain": [
       "<IPython.core.display.HTML object>"
      ]
     },
     "metadata": {},
     "output_type": "display_data"
    },
    {
     "name": "stdout",
     "output_type": "stream",
     "text": [
      "Cluster: 2\n",
      "Medium: photo, still from video (color, sound)\n",
      "Title: Cadillac Ranch Show\n",
      "Artist: Ant Farm\n"
     ]
    },
    {
     "data": {
      "text/html": [
       "<img src='img_small/363_small.jpg'>"
      ],
      "text/plain": [
       "<IPython.core.display.HTML object>"
      ]
     },
     "metadata": {},
     "output_type": "display_data"
    },
    {
     "name": "stdout",
     "output_type": "stream",
     "text": [
      "Cluster: 2\n",
      "Medium: print, lithograph\n",
      "Title: Relativity\n",
      "Artist: M. C. Escher \n"
     ]
    },
    {
     "data": {
      "text/html": [
       "<img src='img_small/377_small.jpg'>"
      ],
      "text/plain": [
       "<IPython.core.display.HTML object>"
      ]
     },
     "metadata": {},
     "output_type": "display_data"
    },
    {
     "name": "stdout",
     "output_type": "stream",
     "text": [
      "Cluster: 2\n",
      "Medium: painting, watercolor on paper\n",
      "Title: Composition\n",
      "Artist: Natalia Goncharova\n"
     ]
    },
    {
     "data": {
      "text/html": [
       "<img src='img_small/389_small.jpg'>"
      ],
      "text/plain": [
       "<IPython.core.display.HTML object>"
      ]
     },
     "metadata": {},
     "output_type": "display_data"
    },
    {
     "name": "stdout",
     "output_type": "stream",
     "text": [
      "Cluster: 2\n",
      "Medium: painting, oil on canvas\n",
      "Title: The Persistence of Memory\n",
      "Artist: Salvador DalÌ_ \n"
     ]
    },
    {
     "data": {
      "text/html": [
       "<h2>Images in cluster: 3</h2>"
      ],
      "text/plain": [
       "<IPython.core.display.HTML object>"
      ]
     },
     "metadata": {},
     "output_type": "display_data"
    },
    {
     "data": {
      "text/html": [
       "<img src='img_small/10_small.jpg'>"
      ],
      "text/plain": [
       "<IPython.core.display.HTML object>"
      ]
     },
     "metadata": {},
     "output_type": "display_data"
    },
    {
     "name": "stdout",
     "output_type": "stream",
     "text": [
      "Cluster: 3\n",
      "Medium: print, lithograph on paper\n",
      "Title: Untitled (Suspended Lines I) \n",
      "Artist: Willi Baumeister\n"
     ]
    },
    {
     "data": {
      "text/html": [
       "<img src='img_small/12_small.jpg'>"
      ],
      "text/plain": [
       "<IPython.core.display.HTML object>"
      ]
     },
     "metadata": {},
     "output_type": "display_data"
    },
    {
     "name": "stdout",
     "output_type": "stream",
     "text": [
      "Cluster: 3\n",
      "Medium: photo, gelatin silver print on paper\n",
      "Title: The Doll \n",
      "Artist: Hans Bellmer\n"
     ]
    },
    {
     "data": {
      "text/html": [
       "<img src='img_small/18_small.jpg'>"
      ],
      "text/plain": [
       "<IPython.core.display.HTML object>"
      ]
     },
     "metadata": {},
     "output_type": "display_data"
    },
    {
     "name": "stdout",
     "output_type": "stream",
     "text": [
      "Cluster: 3\n",
      "Medium: drawing, ink on paper\n",
      "Title: Language is not transparent \n",
      "Artist: Mel Bochner\n"
     ]
    },
    {
     "data": {
      "text/html": [
       "<img src='img_small/37_small.jpg'>"
      ],
      "text/plain": [
       "<IPython.core.display.HTML object>"
      ]
     },
     "metadata": {},
     "output_type": "display_data"
    },
    {
     "name": "stdout",
     "output_type": "stream",
     "text": [
      "Cluster: 3\n",
      "Medium: print, blueprint on paper\n",
      "Title: Toilet \n",
      "Artist: LeÌ_n Ferrari\n"
     ]
    },
    {
     "data": {
      "text/html": [
       "<img src='img_small/61_small.jpg'>"
      ],
      "text/plain": [
       "<IPython.core.display.HTML object>"
      ]
     },
     "metadata": {},
     "output_type": "display_data"
    },
    {
     "name": "stdout",
     "output_type": "stream",
     "text": [
      "Cluster: 3\n",
      "Medium: drawing, blue and red pigment and varnish on paper\n",
      "Title: Then 2\n",
      "Artist: Roni Horn\n"
     ]
    },
    {
     "data": {
      "text/html": [
       "<img src='img_small/71_small.jpg'>"
      ],
      "text/plain": [
       "<IPython.core.display.HTML object>"
      ]
     },
     "metadata": {},
     "output_type": "display_data"
    },
    {
     "name": "stdout",
     "output_type": "stream",
     "text": [
      "Cluster: 3\n",
      "Medium: installation, wood, metal, mirrors, acrylic panel, LED lighting, water\n",
      "Title: Infinity Mirrored Room-Gleaming Lights of the Soul    \n",
      "Artist: Yayoi Kusama\n"
     ]
    },
    {
     "data": {
      "text/html": [
       "<img src='img_small/89_small.jpg'>"
      ],
      "text/plain": [
       "<IPython.core.display.HTML object>"
      ]
     },
     "metadata": {},
     "output_type": "display_data"
    },
    {
     "name": "stdout",
     "output_type": "stream",
     "text": [
      "Cluster: 3\n",
      "Medium: painting, crayon, graphite, watercolour on paper\n",
      "Title: Chance and Order Group VII, Drawing 6\n",
      "Artist: Kenneth Martin\n"
     ]
    },
    {
     "data": {
      "text/html": [
       "<img src='img_small/102_small.jpg'>"
      ],
      "text/plain": [
       "<IPython.core.display.HTML object>"
      ]
     },
     "metadata": {},
     "output_type": "display_data"
    },
    {
     "name": "stdout",
     "output_type": "stream",
     "text": [
      "Cluster: 3\n",
      "Medium: print, lithograph on paper\n",
      "Title: Sides of a River II\n",
      "Artist: Joan Mitchell\n"
     ]
    },
    {
     "data": {
      "text/html": [
       "<img src='img_small/145_small.jpg'>"
      ],
      "text/plain": [
       "<IPython.core.display.HTML object>"
      ]
     },
     "metadata": {},
     "output_type": "display_data"
    },
    {
     "name": "stdout",
     "output_type": "stream",
     "text": [
      "Cluster: 3\n",
      "Medium: painting, polyvinyl acetate paint on hardboard\n",
      "Title: Fall \n",
      "Artist: Bridget Riley\n"
     ]
    },
    {
     "data": {
      "text/html": [
       "<img src='img_small/154_small.jpg'>"
      ],
      "text/plain": [
       "<IPython.core.display.HTML object>"
      ]
     },
     "metadata": {},
     "output_type": "display_data"
    },
    {
     "name": "stdout",
     "output_type": "stream",
     "text": [
      "Cluster: 3\n",
      "Medium: print, screenprint on paper\n",
      "Title: [no title] \n",
      "Artist: Felix Rozen\n"
     ]
    },
    {
     "data": {
      "text/html": [
       "<img src='img_small/161_small.jpg'>"
      ],
      "text/plain": [
       "<IPython.core.display.HTML object>"
      ]
     },
     "metadata": {},
     "output_type": "display_data"
    },
    {
     "name": "stdout",
     "output_type": "stream",
     "text": [
      "Cluster: 3\n",
      "Medium: drawing, perforated paper\n",
      "Title: Perforated V (Perfurados V) \n",
      "Artist: Mira Schendel\n"
     ]
    },
    {
     "data": {
      "text/html": [
       "<img src='img_small/177_small.jpg'>"
      ],
      "text/plain": [
       "<IPython.core.display.HTML object>"
      ]
     },
     "metadata": {},
     "output_type": "display_data"
    },
    {
     "name": "stdout",
     "output_type": "stream",
     "text": [
      "Cluster: 3\n",
      "Medium: print, etching on paper\n",
      "Title: Chaos I\n",
      "Artist: Jean Tinguely\n"
     ]
    },
    {
     "data": {
      "text/html": [
       "<img src='img_small/179_small.jpg'>"
      ],
      "text/plain": [
       "<IPython.core.display.HTML object>"
      ]
     },
     "metadata": {},
     "output_type": "display_data"
    },
    {
     "name": "stdout",
     "output_type": "stream",
     "text": [
      "Cluster: 3\n",
      "Medium: painting, oil, acrylic & silverpoint on canvas\n",
      "Title: Ecliptic\n",
      "Artist: Alison Turnbull\n"
     ]
    },
    {
     "data": {
      "text/html": [
       "<img src='img_small/220_small.jpg'>"
      ],
      "text/plain": [
       "<IPython.core.display.HTML object>"
      ]
     },
     "metadata": {},
     "output_type": "display_data"
    },
    {
     "name": "stdout",
     "output_type": "stream",
     "text": [
      "Cluster: 3\n",
      "Medium: painting,\n",
      "Title: no title on website\n",
      "Artist: V. Arnawaz\n"
     ]
    },
    {
     "data": {
      "text/html": [
       "<img src='img_small/237_small.jpg'>"
      ],
      "text/plain": [
       "<IPython.core.display.HTML object>"
      ]
     },
     "metadata": {},
     "output_type": "display_data"
    },
    {
     "name": "stdout",
     "output_type": "stream",
     "text": [
      "Cluster: 3\n",
      "Medium: drawing, black chalk, pencil, iron gall ink on dark yellow laid paper\n",
      "Title: Dream 1. Universal Language. The Author dreaming\n",
      "Artist: Francisco de Goya y Lucientes \n"
     ]
    },
    {
     "data": {
      "text/html": [
       "<img src='img_small/241_small.jpg'>"
      ],
      "text/plain": [
       "<IPython.core.display.HTML object>"
      ]
     },
     "metadata": {},
     "output_type": "display_data"
    },
    {
     "name": "stdout",
     "output_type": "stream",
     "text": [
      "Cluster: 3\n",
      "Medium: painting, acrylic on canvas\n",
      "Title: Damper Seed\n",
      "Artist: Fabrianne Peterson Nampitjinpa\n"
     ]
    },
    {
     "data": {
      "text/html": [
       "<img src='img_small/242_small.jpg'>"
      ],
      "text/plain": [
       "<IPython.core.display.HTML object>"
      ]
     },
     "metadata": {},
     "output_type": "display_data"
    },
    {
     "name": "stdout",
     "output_type": "stream",
     "text": [
      "Cluster: 3\n",
      "Medium: painting, acrylic on linen\n",
      "Title: Bush Medicine Leaves\n",
      "Artist: Gloria Petyarre\n"
     ]
    },
    {
     "data": {
      "text/html": [
       "<img src='img_small/246_small.jpg'>"
      ],
      "text/plain": [
       "<IPython.core.display.HTML object>"
      ]
     },
     "metadata": {},
     "output_type": "display_data"
    },
    {
     "name": "stdout",
     "output_type": "stream",
     "text": [
      "Cluster: 3\n",
      "Medium: print, woodcut\n",
      "Title: Strand from Alan Cristea Gallery Twentieth Anniversary Portfolio\n",
      "Artist: Christiane Baumgartner\n"
     ]
    },
    {
     "data": {
      "text/html": [
       "<img src='img_small/253_small.jpg'>"
      ],
      "text/plain": [
       "<IPython.core.display.HTML object>"
      ]
     },
     "metadata": {},
     "output_type": "display_data"
    },
    {
     "name": "stdout",
     "output_type": "stream",
     "text": [
      "Cluster: 3\n",
      "Medium: print, lithograph\n",
      "Title: Alphabets\n",
      "Artist: Jasper Johns\n"
     ]
    },
    {
     "data": {
      "text/html": [
       "<img src='img_small/276_small.jpg'>"
      ],
      "text/plain": [
       "<IPython.core.display.HTML object>"
      ]
     },
     "metadata": {},
     "output_type": "display_data"
    },
    {
     "name": "stdout",
     "output_type": "stream",
     "text": [
      "Cluster: 3\n",
      "Medium: drawing, felt-tip pen on paper\n",
      "Title: Untitled\n",
      "Artist: Dan Miller\n"
     ]
    },
    {
     "data": {
      "text/html": [
       "<img src='img_small/279_small.jpg'>"
      ],
      "text/plain": [
       "<IPython.core.display.HTML object>"
      ]
     },
     "metadata": {},
     "output_type": "display_data"
    },
    {
     "name": "stdout",
     "output_type": "stream",
     "text": [
      "Cluster: 3\n",
      "Medium: drawing, pencil on paper\n",
      "Title: My Potential Future Based on Present Circumstances (12/14/02)\n",
      "Artist: Beth Campbell\n"
     ]
    },
    {
     "data": {
      "text/html": [
       "<img src='img_small/305_small.jpg'>"
      ],
      "text/plain": [
       "<IPython.core.display.HTML object>"
      ]
     },
     "metadata": {},
     "output_type": "display_data"
    },
    {
     "name": "stdout",
     "output_type": "stream",
     "text": [
      "Cluster: 3\n",
      "Medium: drawing, ink on colored paper\n",
      "Title: Pyramid: Center Points and Lengths (Through Points of Tangency): 3 Layers Separately Overlaid\n",
      "Artist: Barry Le Va \n"
     ]
    },
    {
     "data": {
      "text/html": [
       "<img src='img_small/314_small.jpg'>"
      ],
      "text/plain": [
       "<IPython.core.display.HTML object>"
      ]
     },
     "metadata": {},
     "output_type": "display_data"
    },
    {
     "name": "stdout",
     "output_type": "stream",
     "text": [
      "Cluster: 3\n",
      "Medium: print, sixteen etchings on one sheet\n",
      "Title: Hername\n",
      "Artist: Hannah Wilke \n"
     ]
    },
    {
     "data": {
      "text/html": [
       "<img src='img_small/316_small.jpg'>"
      ],
      "text/plain": [
       "<IPython.core.display.HTML object>"
      ]
     },
     "metadata": {},
     "output_type": "display_data"
    },
    {
     "name": "stdout",
     "output_type": "stream",
     "text": [
      "Cluster: 3\n",
      "Medium: print, lithograph\n",
      "Title: IX from Mushroom Book\n",
      "Artist: John Cage \n"
     ]
    },
    {
     "data": {
      "text/html": [
       "<img src='img_small/332_small.jpg'>"
      ],
      "text/plain": [
       "<IPython.core.display.HTML object>"
      ]
     },
     "metadata": {},
     "output_type": "display_data"
    },
    {
     "name": "stdout",
     "output_type": "stream",
     "text": [
      "Cluster: 3\n",
      "Medium: drawing, pencil & ink on graph paper\n",
      "Title: Untitled\n",
      "Artist: Nasreen Mohamedi \n"
     ]
    },
    {
     "data": {
      "text/html": [
       "<img src='img_small/341_small.jpg'>"
      ],
      "text/plain": [
       "<IPython.core.display.HTML object>"
      ]
     },
     "metadata": {},
     "output_type": "display_data"
    },
    {
     "name": "stdout",
     "output_type": "stream",
     "text": [
      "Cluster: 3\n",
      "Medium: drawing, felt-tip pen on paper\n",
      "Title: Spasmatic Pain I (Boulder Community Hospital)\n",
      "Artist: Paul Sharits\n"
     ]
    },
    {
     "data": {
      "text/html": [
       "<img src='img_small/345_small.jpg'>"
      ],
      "text/plain": [
       "<IPython.core.display.HTML object>"
      ]
     },
     "metadata": {},
     "output_type": "display_data"
    },
    {
     "name": "stdout",
     "output_type": "stream",
     "text": [
      "Cluster: 3\n",
      "Medium: print, lithograph\n",
      "Title: Untitled\n",
      "Artist: Heinz Mack\n"
     ]
    },
    {
     "data": {
      "text/html": [
       "<img src='img_small/353_small.jpg'>"
      ],
      "text/plain": [
       "<IPython.core.display.HTML object>"
      ]
     },
     "metadata": {},
     "output_type": "display_data"
    },
    {
     "name": "stdout",
     "output_type": "stream",
     "text": [
      "Cluster: 3\n",
      "Medium: drawing, ballpoint pen & pencil on graph paper\n",
      "Title: Suite by Chance (Movement Chart II C-D-E Extensions)\n",
      "Artist: Merce Cunningham\n"
     ]
    },
    {
     "data": {
      "text/html": [
       "<img src='img_small/358_small.jpg'>"
      ],
      "text/plain": [
       "<IPython.core.display.HTML object>"
      ]
     },
     "metadata": {},
     "output_type": "display_data"
    },
    {
     "name": "stdout",
     "output_type": "stream",
     "text": [
      "Cluster: 3\n",
      "Medium: sculpture, wood, metal, motor, cord, & steel wire\n",
      "Title: The Bicycle\n",
      "Artist: Alexander Calder\n"
     ]
    },
    {
     "data": {
      "text/html": [
       "<h2>Images in cluster: 4</h2>"
      ],
      "text/plain": [
       "<IPython.core.display.HTML object>"
      ]
     },
     "metadata": {},
     "output_type": "display_data"
    },
    {
     "data": {
      "text/html": [
       "<img src='img_small/63_small.jpg'>"
      ],
      "text/plain": [
       "<IPython.core.display.HTML object>"
      ]
     },
     "metadata": {},
     "output_type": "display_data"
    },
    {
     "name": "stdout",
     "output_type": "stream",
     "text": [
      "Cluster: 4\n",
      "Medium: painting, oil on canvas\n",
      "Title: Cupola Blue \n",
      "Artist: Tess Jaray\n"
     ]
    },
    {
     "data": {
      "text/html": [
       "<img src='img_small/70_small.jpg'>"
      ],
      "text/plain": [
       "<IPython.core.display.HTML object>"
      ]
     },
     "metadata": {},
     "output_type": "display_data"
    },
    {
     "name": "stdout",
     "output_type": "stream",
     "text": [
      "Cluster: 4\n",
      "Medium: painting, oil on canvas\n",
      "Title: Untitled\n",
      "Artist: Guillermo Kuitca\n"
     ]
    },
    {
     "data": {
      "text/html": [
       "<img src='img_small/83_small.jpg'>"
      ],
      "text/plain": [
       "<IPython.core.display.HTML object>"
      ]
     },
     "metadata": {},
     "output_type": "display_data"
    },
    {
     "name": "stdout",
     "output_type": "stream",
     "text": [
      "Cluster: 4\n",
      "Medium: photo, gelatin silver print on paper\n",
      "Title: not titled Rayograph\n",
      "Artist: Man Ray\n"
     ]
    },
    {
     "data": {
      "text/html": [
       "<img src='img_small/99_small.jpg'>"
      ],
      "text/plain": [
       "<IPython.core.display.HTML object>"
      ]
     },
     "metadata": {},
     "output_type": "display_data"
    },
    {
     "name": "stdout",
     "output_type": "stream",
     "text": [
      "Cluster: 4\n",
      "Medium: print, lithograph on paper\n",
      "Title: [no title]\n",
      "Artist: Henri Michaux\n"
     ]
    },
    {
     "data": {
      "text/html": [
       "<img src='img_small/101_small.jpg'>"
      ],
      "text/plain": [
       "<IPython.core.display.HTML object>"
      ]
     },
     "metadata": {},
     "output_type": "display_data"
    },
    {
     "name": "stdout",
     "output_type": "stream",
     "text": [
      "Cluster: 4\n",
      "Medium: painting, tempera & oil on canvas\n",
      "Title: Painting \n",
      "Artist: Joan Miro\n"
     ]
    },
    {
     "data": {
      "text/html": [
       "<img src='img_small/120_small.jpg'>"
      ],
      "text/plain": [
       "<IPython.core.display.HTML object>"
      ]
     },
     "metadata": {},
     "output_type": "display_data"
    },
    {
     "name": "stdout",
     "output_type": "stream",
     "text": [
      "Cluster: 4\n",
      "Medium: painting, gouache, graphite, ink & postcards on paper\n",
      "Title: House the Light-house \n",
      "Artist: Roland Penrose\n"
     ]
    },
    {
     "data": {
      "text/html": [
       "<img src='img_small/121_small.jpg'>"
      ],
      "text/plain": [
       "<IPython.core.display.HTML object>"
      ]
     },
     "metadata": {},
     "output_type": "display_data"
    },
    {
     "name": "stdout",
     "output_type": "stream",
     "text": [
      "Cluster: 4\n",
      "Medium: painting, acrylic on canvas\n",
      "Title: Arcade \n",
      "Artist: Margot Perryman\n"
     ]
    },
    {
     "data": {
      "text/html": [
       "<img src='img_small/129_small.jpg'>"
      ],
      "text/plain": [
       "<IPython.core.display.HTML object>"
      ]
     },
     "metadata": {},
     "output_type": "display_data"
    },
    {
     "name": "stdout",
     "output_type": "stream",
     "text": [
      "Cluster: 4\n",
      "Medium: painting, acrylic on canvas\n",
      "Title: Out\n",
      "Artist: Larry Poons\n"
     ]
    },
    {
     "data": {
      "text/html": [
       "<img src='img_small/133_small.jpg'>"
      ],
      "text/plain": [
       "<IPython.core.display.HTML object>"
      ]
     },
     "metadata": {},
     "output_type": "display_data"
    },
    {
     "name": "stdout",
     "output_type": "stream",
     "text": [
      "Cluster: 4\n",
      "Medium: painting, silkscreen, gesso on wood\n",
      "Title: Chapter 12: iamb\n",
      "Artist: R.H. Quaytman\n"
     ]
    },
    {
     "data": {
      "text/html": [
       "<img src='img_small/148_small.jpg'>"
      ],
      "text/plain": [
       "<IPython.core.display.HTML object>"
      ]
     },
     "metadata": {},
     "output_type": "display_data"
    },
    {
     "name": "stdout",
     "output_type": "stream",
     "text": [
      "Cluster: 4\n",
      "Medium: print, lineblock prints & halftone prints on paper mounted onto paper\n",
      "Title: Masks Survive \n",
      "Artist: Franz Roh\n"
     ]
    },
    {
     "data": {
      "text/html": [
       "<img src='img_small/156_small.jpg'>"
      ],
      "text/plain": [
       "<IPython.core.display.HTML object>"
      ]
     },
     "metadata": {},
     "output_type": "display_data"
    },
    {
     "name": "stdout",
     "output_type": "stream",
     "text": [
      "Cluster: 4\n",
      "Medium: painting, acrylic on canvas\n",
      "Title: Untitled\n",
      "Artist: Ed Ruscha\n"
     ]
    },
    {
     "data": {
      "text/html": [
       "<img src='img_small/162_small.jpg'>"
      ],
      "text/plain": [
       "<IPython.core.display.HTML object>"
      ]
     },
     "metadata": {},
     "output_type": "display_data"
    },
    {
     "name": "stdout",
     "output_type": "stream",
     "text": [
      "Cluster: 4\n",
      "Medium: installation, mixed media\n",
      "Title: Merzbau\n",
      "Artist: Kurt Schwitters\n"
     ]
    },
    {
     "data": {
      "text/html": [
       "<img src='img_small/185_small.jpg'>"
      ],
      "text/plain": [
       "<IPython.core.display.HTML object>"
      ]
     },
     "metadata": {},
     "output_type": "display_data"
    },
    {
     "name": "stdout",
     "output_type": "stream",
     "text": [
      "Cluster: 4\n",
      "Medium: painting, acrylic on canvas\n",
      "Title: Vega \n",
      "Artist: Victor Vasarely\n"
     ]
    },
    {
     "data": {
      "text/html": [
       "<img src='img_small/193_small.jpg'>"
      ],
      "text/plain": [
       "<IPython.core.display.HTML object>"
      ]
     },
     "metadata": {},
     "output_type": "display_data"
    },
    {
     "name": "stdout",
     "output_type": "stream",
     "text": [
      "Cluster: 4\n",
      "Medium: photo, photograph, color, Cibachrome print, on paper mounted onto board\n",
      "Title: First Principles\n",
      "Artist: Boyd Webb\n"
     ]
    },
    {
     "data": {
      "text/html": [
       "<img src='img_small/195_small.jpg'>"
      ],
      "text/plain": [
       "<IPython.core.display.HTML object>"
      ]
     },
     "metadata": {},
     "output_type": "display_data"
    },
    {
     "name": "stdout",
     "output_type": "stream",
     "text": [
      "Cluster: 4\n",
      "Medium: photo, photograph, gelatin silver print on paper\n",
      "Title: [title not known]\n",
      "Artist: Lionel Wendt\n"
     ]
    },
    {
     "data": {
      "text/html": [
       "<img src='img_small/209_small.jpg'>"
      ],
      "text/plain": [
       "<IPython.core.display.HTML object>"
      ]
     },
     "metadata": {},
     "output_type": "display_data"
    },
    {
     "name": "stdout",
     "output_type": "stream",
     "text": [
      "Cluster: 4\n",
      "Medium: installation, MDF & acrylic paint\n",
      "Title: Panoramic Portal to Another Dimension (Deanna)\n",
      "Artist: Ricci Albenda\n"
     ]
    },
    {
     "data": {
      "text/html": [
       "<img src='img_small/217_small.jpg'>"
      ],
      "text/plain": [
       "<IPython.core.display.HTML object>"
      ]
     },
     "metadata": {},
     "output_type": "display_data"
    },
    {
     "name": "stdout",
     "output_type": "stream",
     "text": [
      "Cluster: 4\n",
      "Medium: painting, enamel on canvas\n",
      "Title: Silent Observer\n",
      "Artist: Prabhakar Barwe\n"
     ]
    },
    {
     "data": {
      "text/html": [
       "<img src='img_small/221_small.jpg'>"
      ],
      "text/plain": [
       "<IPython.core.display.HTML object>"
      ]
     },
     "metadata": {},
     "output_type": "display_data"
    },
    {
     "name": "stdout",
     "output_type": "stream",
     "text": [
      "Cluster: 4\n",
      "Medium: sculpture, copper & brass welded\n",
      "Title: The Hunt\n",
      "Artist: S. Nandagopal\n"
     ]
    },
    {
     "data": {
      "text/html": [
       "<img src='img_small/247_small.jpg'>"
      ],
      "text/plain": [
       "<IPython.core.display.HTML object>"
      ]
     },
     "metadata": {},
     "output_type": "display_data"
    },
    {
     "name": "stdout",
     "output_type": "stream",
     "text": [
      "Cluster: 4\n",
      "Medium: painting, mixed media, collage on canvas\n",
      "Title: Disappear Like a Dope Fiend\n",
      "Artist: Mark Bradford\n"
     ]
    },
    {
     "data": {
      "text/html": [
       "<img src='img_small/259_small.jpg'>"
      ],
      "text/plain": [
       "<IPython.core.display.HTML object>"
      ]
     },
     "metadata": {},
     "output_type": "display_data"
    },
    {
     "name": "stdout",
     "output_type": "stream",
     "text": [
      "Cluster: 4\n",
      "Medium: photo, archival inkjet print\n",
      "Title: The Covered Piano\n",
      "Artist: Lucas Blalock\n"
     ]
    },
    {
     "data": {
      "text/html": [
       "<img src='img_small/286_small.jpg'>"
      ],
      "text/plain": [
       "<IPython.core.display.HTML object>"
      ]
     },
     "metadata": {},
     "output_type": "display_data"
    },
    {
     "name": "stdout",
     "output_type": "stream",
     "text": [
      "Cluster: 4\n",
      "Medium: drawing, cut printed paper\n",
      "Title: Venetian Blinds\n",
      "Artist: Mathias Schmied\n"
     ]
    },
    {
     "data": {
      "text/html": [
       "<img src='img_small/304_small.jpg'>"
      ],
      "text/plain": [
       "<IPython.core.display.HTML object>"
      ]
     },
     "metadata": {},
     "output_type": "display_data"
    },
    {
     "name": "stdout",
     "output_type": "stream",
     "text": [
      "Cluster: 4\n",
      "Medium: painting, oil on canvas\n",
      "Title: Chicken Leg in Yellow\n",
      "Artist: Sue Williams\n"
     ]
    },
    {
     "data": {
      "text/html": [
       "<img src='img_small/308_small.jpg'>"
      ],
      "text/plain": [
       "<IPython.core.display.HTML object>"
      ]
     },
     "metadata": {},
     "output_type": "display_data"
    },
    {
     "name": "stdout",
     "output_type": "stream",
     "text": [
      "Cluster: 4\n",
      "Medium: drawing, pencil & colored pencil on diazotype\n",
      "Title: Untitled\n",
      "Artist: Joan Waltemath \n"
     ]
    },
    {
     "data": {
      "text/html": [
       "<img src='img_small/349_small.jpg'>"
      ],
      "text/plain": [
       "<IPython.core.display.HTML object>"
      ]
     },
     "metadata": {},
     "output_type": "display_data"
    },
    {
     "name": "stdout",
     "output_type": "stream",
     "text": [
      "Cluster: 4\n",
      "Medium: sculpture, wood & metal\n",
      "Title: Point to the Eye\n",
      "Artist: Alberto Giacometti\n"
     ]
    },
    {
     "data": {
      "text/html": [
       "<img src='img_small/352_small.jpg'>"
      ],
      "text/plain": [
       "<IPython.core.display.HTML object>"
      ]
     },
     "metadata": {},
     "output_type": "display_data"
    },
    {
     "name": "stdout",
     "output_type": "stream",
     "text": [
      "Cluster: 4\n",
      "Medium: painting, oil on canvas with wood frame\n",
      "Title: Untitled\n",
      "Artist: Forrest Bess\n"
     ]
    },
    {
     "data": {
      "text/html": [
       "<img src='img_small/371_small.jpg'>"
      ],
      "text/plain": [
       "<IPython.core.display.HTML object>"
      ]
     },
     "metadata": {},
     "output_type": "display_data"
    },
    {
     "name": "stdout",
     "output_type": "stream",
     "text": [
      "Cluster: 4\n",
      "Medium: painting, oil on canvas\n",
      "Title: Panel for Edwin R. Campbell No. 4\n",
      "Artist: Vasily Kandinsky\n"
     ]
    },
    {
     "data": {
      "text/html": [
       "<img src='img_small/373_small.jpg'>"
      ],
      "text/plain": [
       "<IPython.core.display.HTML object>"
      ]
     },
     "metadata": {},
     "output_type": "display_data"
    },
    {
     "name": "stdout",
     "output_type": "stream",
     "text": [
      "Cluster: 4\n",
      "Medium: painting, oil on canvas\n",
      "Title: Swifts: Paths of Movement + Dynamic Sequences\n",
      "Artist: Giacomo Balla\n"
     ]
    },
    {
     "data": {
      "text/html": [
       "<img src='img_small/396_small.jpg'>"
      ],
      "text/plain": [
       "<IPython.core.display.HTML object>"
      ]
     },
     "metadata": {},
     "output_type": "display_data"
    },
    {
     "name": "stdout",
     "output_type": "stream",
     "text": [
      "Cluster: 4\n",
      "Medium: film,\n",
      "Title: An Optical Poem\n",
      "Artist: Oskar Fischinger\n"
     ]
    },
    {
     "data": {
      "text/html": [
       "<h2>Images in cluster: 5</h2>"
      ],
      "text/plain": [
       "<IPython.core.display.HTML object>"
      ]
     },
     "metadata": {},
     "output_type": "display_data"
    },
    {
     "data": {
      "text/html": [
       "<img src='img_small/3_small.jpg'>"
      ],
      "text/plain": [
       "<IPython.core.display.HTML object>"
      ]
     },
     "metadata": {},
     "output_type": "display_data"
    },
    {
     "name": "stdout",
     "output_type": "stream",
     "text": [
      "Cluster: 5\n",
      "Medium: sculpture, fabric, glass & metal\n",
      "Title: Direction\n",
      "Artist: Giovanni Anselmo\n"
     ]
    },
    {
     "data": {
      "text/html": [
       "<img src='img_small/25_small.jpg'>"
      ],
      "text/plain": [
       "<IPython.core.display.HTML object>"
      ]
     },
     "metadata": {},
     "output_type": "display_data"
    },
    {
     "name": "stdout",
     "output_type": "stream",
     "text": [
      "Cluster: 5\n",
      "Medium: installation, cardboard boxes, gauze, polyvinyl acetate\n",
      "Title: Leftovers\n",
      "Artist: Luis Camnitzer\n"
     ]
    },
    {
     "data": {
      "text/html": [
       "<img src='img_small/36_small.jpg'>"
      ],
      "text/plain": [
       "<IPython.core.display.HTML object>"
      ]
     },
     "metadata": {},
     "output_type": "display_data"
    },
    {
     "name": "stdout",
     "output_type": "stream",
     "text": [
      "Cluster: 5\n",
      "Medium: sculpture, lead on marble base\n",
      "Title: Head of a Hostage \n",
      "Artist: Jean Fautrier\n"
     ]
    },
    {
     "data": {
      "text/html": [
       "<img src='img_small/74_small.jpg'>"
      ],
      "text/plain": [
       "<IPython.core.display.HTML object>"
      ]
     },
     "metadata": {},
     "output_type": "display_data"
    },
    {
     "name": "stdout",
     "output_type": "stream",
     "text": [
      "Cluster: 5\n",
      "Medium: sculpture, plywood on wooden frame, acrylic, mirror, alkyd paint\n",
      "Title: Souterrain\n",
      "Artist: Lee Bul\n"
     ]
    },
    {
     "data": {
      "text/html": [
       "<img src='img_small/76_small.jpg'>"
      ],
      "text/plain": [
       "<IPython.core.display.HTML object>"
      ]
     },
     "metadata": {},
     "output_type": "display_data"
    },
    {
     "name": "stdout",
     "output_type": "stream",
     "text": [
      "Cluster: 5\n",
      "Medium: installation, acrylic drum w/ water, turntable, projector lamp, acrylic balls\n",
      "Title: Liquid Reflections 2nd Series \n",
      "Artist: Liliane Lijn\n"
     ]
    },
    {
     "data": {
      "text/html": [
       "<img src='img_small/95_small.jpg'>"
      ],
      "text/plain": [
       "<IPython.core.display.HTML object>"
      ]
     },
     "metadata": {},
     "output_type": "display_data"
    },
    {
     "name": "stdout",
     "output_type": "stream",
     "text": [
      "Cluster: 5\n",
      "Medium: sculpture, wood, formica w/ bubble-generating machine\n",
      "Title: Cloud Windows\n",
      "Artist: David Medalla\n"
     ]
    },
    {
     "data": {
      "text/html": [
       "<img src='img_small/107_small.jpg'>"
      ],
      "text/plain": [
       "<IPython.core.display.HTML object>"
      ]
     },
     "metadata": {},
     "output_type": "display_data"
    },
    {
     "name": "stdout",
     "output_type": "stream",
     "text": [
      "Cluster: 5\n",
      "Medium: installation, sand\n",
      "Title: A Psychic Vacuum \n",
      "Artist: Mike Nelson\n"
     ]
    },
    {
     "data": {
      "text/html": [
       "<img src='img_small/113_small.jpg'>"
      ],
      "text/plain": [
       "<IPython.core.display.HTML object>"
      ]
     },
     "metadata": {},
     "output_type": "display_data"
    },
    {
     "name": "stdout",
     "output_type": "stream",
     "text": [
      "Cluster: 5\n",
      "Medium: sculpture, canvas, resin, rope, & metal painted with latex\n",
      "Title: Soft Viola \n",
      "Artist: Claes Oldenburg and Coosje van Bruggen\n"
     ]
    },
    {
     "data": {
      "text/html": [
       "<img src='img_small/142_small.jpg'>"
      ],
      "text/plain": [
       "<IPython.core.display.HTML object>"
      ]
     },
     "metadata": {},
     "output_type": "display_data"
    },
    {
     "name": "stdout",
     "output_type": "stream",
     "text": [
      "Cluster: 5\n",
      "Medium: installation, video, projection, color & smoke machine\n",
      "Title: Experiencing Cinema\n",
      "Artist: RosÌ¢ngela RennÌ_\n"
     ]
    },
    {
     "data": {
      "text/html": [
       "<img src='img_small/152_small.jpg'>"
      ],
      "text/plain": [
       "<IPython.core.display.HTML object>"
      ]
     },
     "metadata": {},
     "output_type": "display_data"
    },
    {
     "name": "stdout",
     "output_type": "stream",
     "text": [
      "Cluster: 5\n",
      "Medium: sculpture, toys, sweets, trinkets, printed matter, painting utensils, adhesive tape, tools, refuse, strips of wood & metal, glue on corrugated cardboard. Sour milk, fruit juice, cocoa, dead insects in plastic tubes, in wooden frame with openings for pouring in liquids\n",
      "Title: Untitled\n",
      "Artist: Dieter Roth\n"
     ]
    },
    {
     "data": {
      "text/html": [
       "<img src='img_small/166_small.jpg'>"
      ],
      "text/plain": [
       "<IPython.core.display.HTML object>"
      ]
     },
     "metadata": {},
     "output_type": "display_data"
    },
    {
     "name": "stdout",
     "output_type": "stream",
     "text": [
      "Cluster: 5\n",
      "Medium: installation, asphalt, hillside\n",
      "Title: Asphalt Rundown \n",
      "Artist: Robert Smithson\n"
     ]
    },
    {
     "data": {
      "text/html": [
       "<img src='img_small/167_small.jpg'>"
      ],
      "text/plain": [
       "<IPython.core.display.HTML object>"
      ]
     },
     "metadata": {},
     "output_type": "display_data"
    },
    {
     "name": "stdout",
     "output_type": "stream",
     "text": [
      "Cluster: 5\n",
      "Medium: installation, earth, shed\n",
      "Title: Partially Buried Woodshe\n",
      "Artist: Robert Smithson\n"
     ]
    },
    {
     "data": {
      "text/html": [
       "<img src='img_small/197_small.jpg'>"
      ],
      "text/plain": [
       "<IPython.core.display.HTML object>"
      ]
     },
     "metadata": {},
     "output_type": "display_data"
    },
    {
     "name": "stdout",
     "output_type": "stream",
     "text": [
      "Cluster: 5\n",
      "Medium: sculpture, papier-machÌÎå©, styrofoam, cardboard, lacquer & acrylic\n",
      "Title: Sisyphos IV\n",
      "Artist: Franz West \n"
     ]
    },
    {
     "data": {
      "text/html": [
       "<img src='img_small/199_small.jpg'>"
      ],
      "text/plain": [
       "<IPython.core.display.HTML object>"
      ]
     },
     "metadata": {},
     "output_type": "display_data"
    },
    {
     "name": "stdout",
     "output_type": "stream",
     "text": [
      "Cluster: 5\n",
      "Medium: installation, concrete\n",
      "Title: House\n",
      "Artist: Rachel Whiteread\n"
     ]
    },
    {
     "data": {
      "text/html": [
       "<img src='img_small/218_small.jpg'>"
      ],
      "text/plain": [
       "<IPython.core.display.HTML object>"
      ]
     },
     "metadata": {},
     "output_type": "display_data"
    },
    {
     "name": "stdout",
     "output_type": "stream",
     "text": [
      "Cluster: 5\n",
      "Medium: installation, burnt adhesive\n",
      "Title: Found Burnt Text\n",
      "Artist: Jitish Kallat\n"
     ]
    },
    {
     "data": {
      "text/html": [
       "<img src='img_small/254_small.jpg'>"
      ],
      "text/plain": [
       "<IPython.core.display.HTML object>"
      ]
     },
     "metadata": {},
     "output_type": "display_data"
    },
    {
     "name": "stdout",
     "output_type": "stream",
     "text": [
      "Cluster: 5\n",
      "Medium: installation, ferromagnetic liquid poured bi-weekly over plastic sheets & magnetic elements, fans\n",
      "Title: Fluid Employment\n",
      "Artist: Sam Lewitt\n"
     ]
    },
    {
     "data": {
      "text/html": [
       "<img src='img_small/257_small.jpg'>"
      ],
      "text/plain": [
       "<IPython.core.display.HTML object>"
      ]
     },
     "metadata": {},
     "output_type": "display_data"
    },
    {
     "name": "stdout",
     "output_type": "stream",
     "text": [
      "Cluster: 5\n",
      "Medium: painting, nails & acrylic paint on canvas over a wooden panel\n",
      "Title: Sturz\n",
      "Artist: GÌ_nther Uecker\n"
     ]
    },
    {
     "data": {
      "text/html": [
       "<img src='img_small/280_small.jpg'>"
      ],
      "text/plain": [
       "<IPython.core.display.HTML object>"
      ]
     },
     "metadata": {},
     "output_type": "display_data"
    },
    {
     "name": "stdout",
     "output_type": "stream",
     "text": [
      "Cluster: 5\n",
      "Medium: photo, still of video of installation\n",
      "Title: Blur Building, Yverdon-les-Bains, Switzerland\n",
      "Artist: Diller + Scofidio\n"
     ]
    },
    {
     "data": {
      "text/html": [
       "<img src='img_small/307_small.jpg'>"
      ],
      "text/plain": [
       "<IPython.core.display.HTML object>"
      ]
     },
     "metadata": {},
     "output_type": "display_data"
    },
    {
     "name": "stdout",
     "output_type": "stream",
     "text": [
      "Cluster: 5\n",
      "Medium: installation, light\n",
      "Title: Frontal Passage\n",
      "Artist: James Turrell \n"
     ]
    },
    {
     "data": {
      "text/html": [
       "<img src='img_small/323_small.jpg'>"
      ],
      "text/plain": [
       "<IPython.core.display.HTML object>"
      ]
     },
     "metadata": {},
     "output_type": "display_data"
    },
    {
     "name": "stdout",
     "output_type": "stream",
     "text": [
      "Cluster: 5\n",
      "Medium: sculpture, diorite granite, concrete\n",
      "Title: Levitated Mass\n",
      "Artist: Michael Heizer\n"
     ]
    },
    {
     "data": {
      "text/html": [
       "<img src='img_small/335_small.jpg'>"
      ],
      "text/plain": [
       "<IPython.core.display.HTML object>"
      ]
     },
     "metadata": {},
     "output_type": "display_data"
    },
    {
     "name": "stdout",
     "output_type": "stream",
     "text": [
      "Cluster: 5\n",
      "Medium: sculpture, brushes embedded in plastic, in acrylic box\n",
      "Title: I Still Use Brushes\n",
      "Artist: Arman\n"
     ]
    },
    {
     "data": {
      "text/html": [
       "<img src='img_small/337_small.jpg'>"
      ],
      "text/plain": [
       "<IPython.core.display.HTML object>"
      ]
     },
     "metadata": {},
     "output_type": "display_data"
    },
    {
     "name": "stdout",
     "output_type": "stream",
     "text": [
      "Cluster: 5\n",
      "Medium: sculpture, mixed media: wood, latex, wax, metal, paint, fabric, string, & Styrofoam\n",
      "Title: _Fishman in Excelsis Table_\n",
      "Artist: Paul Thek\n"
     ]
    },
    {
     "data": {
      "text/html": [
       "<img src='img_small/342_small.jpg'>"
      ],
      "text/plain": [
       "<IPython.core.display.HTML object>"
      ]
     },
     "metadata": {},
     "output_type": "display_data"
    },
    {
     "name": "stdout",
     "output_type": "stream",
     "text": [
      "Cluster: 5\n",
      "Medium: painting, wool, linen, wood, aluminum\n",
      "Title: Unfinished Conversation\n",
      "Artist: Sheila Hicks \n"
     ]
    },
    {
     "data": {
      "text/html": [
       "<img src='img_small/366_small.jpg'>"
      ],
      "text/plain": [
       "<IPython.core.display.HTML object>"
      ]
     },
     "metadata": {},
     "output_type": "display_data"
    },
    {
     "name": "stdout",
     "output_type": "stream",
     "text": [
      "Cluster: 5\n",
      "Medium: sculpture, fur-covered cup, saucer, & spoon\n",
      "Title: Object\n",
      "Artist: Meret Oppenheim \n"
     ]
    },
    {
     "data": {
      "text/html": [
       "<img src='img_small/375_small.jpg'>"
      ],
      "text/plain": [
       "<IPython.core.display.HTML object>"
      ]
     },
     "metadata": {},
     "output_type": "display_data"
    },
    {
     "name": "stdout",
     "output_type": "stream",
     "text": [
      "Cluster: 5\n",
      "Medium: drawing, ink on paper\n",
      "Title: Interior\n",
      "Artist: Jacques Villon\n"
     ]
    },
    {
     "data": {
      "text/html": [
       "<img src='img_small/385_small.jpg'>"
      ],
      "text/plain": [
       "<IPython.core.display.HTML object>"
      ]
     },
     "metadata": {},
     "output_type": "display_data"
    },
    {
     "name": "stdout",
     "output_type": "stream",
     "text": [
      "Cluster: 5\n",
      "Medium: installation, blocks of ice\n",
      "Title: Fluids\n",
      "Artist: Allan Kaprow \n"
     ]
    },
    {
     "data": {
      "text/html": [
       "<img src='img_small/386_small.jpg'>"
      ],
      "text/plain": [
       "<IPython.core.display.HTML object>"
      ]
     },
     "metadata": {},
     "output_type": "display_data"
    },
    {
     "name": "stdout",
     "output_type": "stream",
     "text": [
      "Cluster: 5\n",
      "Medium: sculpture, papier machÌÎå©, plaster, steel, acrylic, river sediment & debris\n",
      "Title: Untitled\n",
      "Artist: Charles Long\n"
     ]
    },
    {
     "data": {
      "text/html": [
       "<img src='img_small/387_small.jpg'>"
      ],
      "text/plain": [
       "<IPython.core.display.HTML object>"
      ]
     },
     "metadata": {},
     "output_type": "display_data"
    },
    {
     "name": "stdout",
     "output_type": "stream",
     "text": [
      "Cluster: 5\n",
      "Medium: sculpture, mirror-polished stainless steel w/ transparent color coating\n",
      "Title: Balloon Dog\n",
      "Artist: Jeff Koons\n"
     ]
    },
    {
     "data": {
      "text/html": [
       "<h2>Images in cluster: 6</h2>"
      ],
      "text/plain": [
       "<IPython.core.display.HTML object>"
      ]
     },
     "metadata": {},
     "output_type": "display_data"
    },
    {
     "data": {
      "text/html": [
       "<img src='img_small/35_small.jpg'>"
      ],
      "text/plain": [
       "<IPython.core.display.HTML object>"
      ]
     },
     "metadata": {},
     "output_type": "display_data"
    },
    {
     "name": "stdout",
     "output_type": "stream",
     "text": [
      "Cluster: 6\n",
      "Medium: print, lithograph on paper\n",
      "Title: Sketch for World Map Part 1 (Americas, Pacific) \n",
      "Artist: ÌÐyvind FahlstrÌ¦m\n"
     ]
    },
    {
     "data": {
      "text/html": [
       "<img src='img_small/56_small.jpg'>"
      ],
      "text/plain": [
       "<IPython.core.display.HTML object>"
      ]
     },
     "metadata": {},
     "output_type": "display_data"
    },
    {
     "name": "stdout",
     "output_type": "stream",
     "text": [
      "Cluster: 6\n",
      "Medium: painting, acrylic on canvas\n",
      "Title: Twelve Thirty \n",
      "Artist: Charline von Heyl\n"
     ]
    },
    {
     "data": {
      "text/html": [
       "<img src='img_small/68_small.jpg'>"
      ],
      "text/plain": [
       "<IPython.core.display.HTML object>"
      ]
     },
     "metadata": {},
     "output_type": "display_data"
    },
    {
     "name": "stdout",
     "output_type": "stream",
     "text": [
      "Cluster: 6\n",
      "Medium: photo, gelatin silver print on paper\n",
      "Title: Untitled 13\n",
      "Artist: Barbara Kasten\n"
     ]
    },
    {
     "data": {
      "text/html": [
       "<img src='img_small/169_small.jpg'>"
      ],
      "text/plain": [
       "<IPython.core.display.HTML object>"
      ]
     },
     "metadata": {},
     "output_type": "display_data"
    },
    {
     "name": "stdout",
     "output_type": "stream",
     "text": [
      "Cluster: 6\n",
      "Medium: installation, 24,000 PVC tubes\n",
      "Title: Houston Penetrable\n",
      "Artist: JesÌ¼s Rafael Soto\n"
     ]
    },
    {
     "data": {
      "text/html": [
       "<img src='img_small/172_small.jpg'>"
      ],
      "text/plain": [
       "<IPython.core.display.HTML object>"
      ]
     },
     "metadata": {},
     "output_type": "display_data"
    },
    {
     "name": "stdout",
     "output_type": "stream",
     "text": [
      "Cluster: 6\n",
      "Medium: painting, oil, enamel & paper on paper\n",
      "Title: Flaxman: Understudy\n",
      "Artist: Ian Stephenson\n"
     ]
    },
    {
     "data": {
      "text/html": [
       "<img src='img_small/181_small.jpg'>"
      ],
      "text/plain": [
       "<IPython.core.display.HTML object>"
      ]
     },
     "metadata": {},
     "output_type": "display_data"
    },
    {
     "name": "stdout",
     "output_type": "stream",
     "text": [
      "Cluster: 6\n",
      "Medium: drawing, watermarked sheet of handmade paper w/ pigment additions, mounted on colored paper in handpainted wooden frame\n",
      "Title: Dawn, Noon, Dusk: Paper (1)\n",
      "Artist: Richard Tuttle \n"
     ]
    },
    {
     "data": {
      "text/html": [
       "<img src='img_small/186_small.jpg'>"
      ],
      "text/plain": [
       "<IPython.core.display.HTML object>"
      ]
     },
     "metadata": {},
     "output_type": "display_data"
    },
    {
     "name": "stdout",
     "output_type": "stream",
     "text": [
      "Cluster: 6\n",
      "Medium: print, screenprint on paper\n",
      "Title: Elements and Documents Employed \n",
      "Artist: Vladimir Velickovic\n"
     ]
    },
    {
     "data": {
      "text/html": [
       "<img src='img_small/188_small.jpg'>"
      ],
      "text/plain": [
       "<IPython.core.display.HTML object>"
      ]
     },
     "metadata": {},
     "output_type": "display_data"
    },
    {
     "name": "stdout",
     "output_type": "stream",
     "text": [
      "Cluster: 6\n",
      "Medium: photo, photograph, gelatin silver print on paper\n",
      "Title: Photo n.152\n",
      "Artist: Luigi Veronesi\n"
     ]
    },
    {
     "data": {
      "text/html": [
       "<img src='img_small/245_small.jpg'>"
      ],
      "text/plain": [
       "<IPython.core.display.HTML object>"
      ]
     },
     "metadata": {},
     "output_type": "display_data"
    },
    {
     "name": "stdout",
     "output_type": "stream",
     "text": [
      "Cluster: 6\n",
      "Medium: print, photogravure & aquatint on six panels (twelve sheets)\n",
      "Title: Epigraph, Damascus\n",
      "Artist: Julie Mehretu\n"
     ]
    },
    {
     "data": {
      "text/html": [
       "<img src='img_small/261_small.jpg'>"
      ],
      "text/plain": [
       "<IPython.core.display.HTML object>"
      ]
     },
     "metadata": {},
     "output_type": "display_data"
    },
    {
     "name": "stdout",
     "output_type": "stream",
     "text": [
      "Cluster: 6\n",
      "Medium: photo, gelatin silver print\n",
      "Title: Makers\n",
      "Artist: Eileen Quinlan\n"
     ]
    },
    {
     "data": {
      "text/html": [
       "<img src='img_small/263_small.jpg'>"
      ],
      "text/plain": [
       "<IPython.core.display.HTML object>"
      ]
     },
     "metadata": {},
     "output_type": "display_data"
    },
    {
     "name": "stdout",
     "output_type": "stream",
     "text": [
      "Cluster: 6\n",
      "Medium: installation, mixed media\n",
      "Title: Untitled\n",
      "Artist: Sarah Sze\n"
     ]
    },
    {
     "data": {
      "text/html": [
       "<img src='img_small/289_small.jpg'>"
      ],
      "text/plain": [
       "<IPython.core.display.HTML object>"
      ]
     },
     "metadata": {},
     "output_type": "display_data"
    },
    {
     "name": "stdout",
     "output_type": "stream",
     "text": [
      "Cluster: 6\n",
      "Medium: drawing, pencil on paper\n",
      "Title: Pocket Drawing - Sept. 24, 2002\n",
      "Artist: William Anastasi\n"
     ]
    },
    {
     "data": {
      "text/html": [
       "<img src='img_small/292_small.jpg'>"
      ],
      "text/plain": [
       "<IPython.core.display.HTML object>"
      ]
     },
     "metadata": {},
     "output_type": "display_data"
    },
    {
     "name": "stdout",
     "output_type": "stream",
     "text": [
      "Cluster: 6\n",
      "Medium: print, etching from series of 23\n",
      "Title: Lavender baby from In a Spin, the Action of the World on Things, Volume 1\n",
      "Artist: Damien Hirst\n"
     ]
    },
    {
     "data": {
      "text/html": [
       "<img src='img_small/296_small.jpg'>"
      ],
      "text/plain": [
       "<IPython.core.display.HTML object>"
      ]
     },
     "metadata": {},
     "output_type": "display_data"
    },
    {
     "name": "stdout",
     "output_type": "stream",
     "text": [
      "Cluster: 6\n",
      "Medium: drawing, ballpoint pen & pencil on notebook paper\n",
      "Title: Freeport\n",
      "Artist: Mark Lombardi\n"
     ]
    },
    {
     "data": {
      "text/html": [
       "<img src='img_small/334_small.jpg'>"
      ],
      "text/plain": [
       "<IPython.core.display.HTML object>"
      ]
     },
     "metadata": {},
     "output_type": "display_data"
    },
    {
     "name": "stdout",
     "output_type": "stream",
     "text": [
      "Cluster: 6\n",
      "Medium: print, mechanical engraving & paint on 12 aluminum plates\n",
      "Title: Un coup de dÌ©s jamais n'abolira le hasard (A throw of the dice will never abolish chance)\n",
      "Artist: Marcel Broodthaers \n"
     ]
    },
    {
     "data": {
      "text/html": [
       "<img src='img_small/338_small.jpg'>"
      ],
      "text/plain": [
       "<IPython.core.display.HTML object>"
      ]
     },
     "metadata": {},
     "output_type": "display_data"
    },
    {
     "name": "stdout",
     "output_type": "stream",
     "text": [
      "Cluster: 6\n",
      "Medium: drawing, graphite, transfer type, and oil on paper between\n",
      "transparent acrylic sheets with transfer type\n",
      "Title: Untitled from the series Graphic objects (Objetos grÌÁficos)\n",
      "Artist: Mira Schendel \n"
     ]
    },
    {
     "data": {
      "text/html": [
       "<img src='img_small/380_small.jpg'>"
      ],
      "text/plain": [
       "<IPython.core.display.HTML object>"
      ]
     },
     "metadata": {},
     "output_type": "display_data"
    },
    {
     "name": "stdout",
     "output_type": "stream",
     "text": [
      "Cluster: 6\n",
      "Medium: print, drypoint in black on Arches paper\n",
      "Title: Still Life with Bottle of Marc (Nature morte ÌÊ la bouteille de marc)\n",
      "Artist: Pablo Picasso\n"
     ]
    },
    {
     "data": {
      "text/html": [
       "<img src='img_small/393_small.jpg'>"
      ],
      "text/plain": [
       "<IPython.core.display.HTML object>"
      ]
     },
     "metadata": {},
     "output_type": "display_data"
    },
    {
     "name": "stdout",
     "output_type": "stream",
     "text": [
      "Cluster: 6\n",
      "Medium: installation, mixed media\n",
      "Title: Le tableau serait-il un artefact parmi dÛªautres ?\n",
      "Artist: Daniel Dezeuze\n"
     ]
    },
    {
     "data": {
      "text/html": [
       "<h2>Images in cluster: 7</h2>"
      ],
      "text/plain": [
       "<IPython.core.display.HTML object>"
      ]
     },
     "metadata": {},
     "output_type": "display_data"
    },
    {
     "data": {
      "text/html": [
       "<img src='img_small/8_small.jpg'>"
      ],
      "text/plain": [
       "<IPython.core.display.HTML object>"
      ]
     },
     "metadata": {},
     "output_type": "display_data"
    },
    {
     "name": "stdout",
     "output_type": "stream",
     "text": [
      "Cluster: 7\n",
      "Medium: painting, oil on canvas\n",
      "Title: The Woodman and his Dog in a Storm \n",
      "Artist: Thomas Barker of Bath\n"
     ]
    },
    {
     "data": {
      "text/html": [
       "<img src='img_small/16_small.jpg'>"
      ],
      "text/plain": [
       "<IPython.core.display.HTML object>"
      ]
     },
     "metadata": {},
     "output_type": "display_data"
    },
    {
     "name": "stdout",
     "output_type": "stream",
     "text": [
      "Cluster: 7\n",
      "Medium: photo, paper mounted onto aluminium\n",
      "Title: Viewing the Open\n",
      "Artist: Rut Blees Luxemburg\n"
     ]
    },
    {
     "data": {
      "text/html": [
       "<img src='img_small/20_small.jpg'>"
      ],
      "text/plain": [
       "<IPython.core.display.HTML object>"
      ]
     },
     "metadata": {},
     "output_type": "display_data"
    },
    {
     "name": "stdout",
     "output_type": "stream",
     "text": [
      "Cluster: 7\n",
      "Medium: painting, oil on canvas\n",
      "Title: The Identi-Kit Man \n",
      "Artist: Derek Boshier \n"
     ]
    },
    {
     "data": {
      "text/html": [
       "<img src='img_small/23_small.jpg'>"
      ],
      "text/plain": [
       "<IPython.core.display.HTML object>"
      ]
     },
     "metadata": {},
     "output_type": "display_data"
    },
    {
     "name": "stdout",
     "output_type": "stream",
     "text": [
      "Cluster: 7\n",
      "Medium: photo, digital print on paper\n",
      "Title: Political 1 sheet 19 \n",
      "Artist: Adam Broomberg & Oliver Chanarin \n"
     ]
    },
    {
     "data": {
      "text/html": [
       "<img src='img_small/30_small.jpg'>"
      ],
      "text/plain": [
       "<IPython.core.display.HTML object>"
      ]
     },
     "metadata": {},
     "output_type": "display_data"
    },
    {
     "name": "stdout",
     "output_type": "stream",
     "text": [
      "Cluster: 7\n",
      "Medium: paint, oil on canvas\n",
      "Title: Echo Lake \n",
      "Artist: Peter Doig\n"
     ]
    },
    {
     "data": {
      "text/html": [
       "<img src='img_small/33_small.jpg'>"
      ],
      "text/plain": [
       "<IPython.core.display.HTML object>"
      ]
     },
     "metadata": {},
     "output_type": "display_data"
    },
    {
     "name": "stdout",
     "output_type": "stream",
     "text": [
      "Cluster: 7\n",
      "Medium: painting, oil on canvas\n",
      "Title: Lucy \n",
      "Artist: Marlene Dumas\n"
     ]
    },
    {
     "data": {
      "text/html": [
       "<img src='img_small/34_small.jpg'>"
      ],
      "text/plain": [
       "<IPython.core.display.HTML object>"
      ]
     },
     "metadata": {},
     "output_type": "display_data"
    },
    {
     "name": "stdout",
     "output_type": "stream",
     "text": [
      "Cluster: 7\n",
      "Medium: painting, oil on canvas\n",
      "Title: Celebes \n",
      "Artist: Max Ernst\n"
     ]
    },
    {
     "data": {
      "text/html": [
       "<img src='img_small/50_small.jpg'>"
      ],
      "text/plain": [
       "<IPython.core.display.HTML object>"
      ]
     },
     "metadata": {},
     "output_type": "display_data"
    },
    {
     "name": "stdout",
     "output_type": "stream",
     "text": [
      "Cluster: 7\n",
      "Medium: painting, oil on canvas\n",
      "Title: Ghost 1 \n",
      "Artist: Eberhard Havekost\n"
     ]
    },
    {
     "data": {
      "text/html": [
       "<img src='img_small/59_small.jpg'>"
      ],
      "text/plain": [
       "<IPython.core.display.HTML object>"
      ]
     },
     "metadata": {},
     "output_type": "display_data"
    },
    {
     "name": "stdout",
     "output_type": "stream",
     "text": [
      "Cluster: 7\n",
      "Medium: installation, piano, hydraulic rams & compressor\n",
      "Title: Concert for Anarchy\n",
      "Artist: Rebecca Horn \n"
     ]
    },
    {
     "data": {
      "text/html": [
       "<img src='img_small/69_small.jpg'>"
      ],
      "text/plain": [
       "<IPython.core.display.HTML object>"
      ]
     },
     "metadata": {},
     "output_type": "display_data"
    },
    {
     "name": "stdout",
     "output_type": "stream",
     "text": [
      "Cluster: 7\n",
      "Medium: photo, gelatin silver print on paper\n",
      "Title: Leaf and Prism \n",
      "Artist: GyÌ¦rgy Kepes\n"
     ]
    },
    {
     "data": {
      "text/html": [
       "<img src='img_small/82_small.jpg'>"
      ],
      "text/plain": [
       "<IPython.core.display.HTML object>"
      ]
     },
     "metadata": {},
     "output_type": "display_data"
    },
    {
     "name": "stdout",
     "output_type": "stream",
     "text": [
      "Cluster: 7\n",
      "Medium: sculpture, iron and nails\n",
      "Title: Cadeau \n",
      "Artist: Man Ray\n"
     ]
    },
    {
     "data": {
      "text/html": [
       "<img src='img_small/84_small.jpg'>"
      ],
      "text/plain": [
       "<IPython.core.display.HTML object>"
      ]
     },
     "metadata": {},
     "output_type": "display_data"
    },
    {
     "name": "stdout",
     "output_type": "stream",
     "text": [
      "Cluster: 7\n",
      "Medium: photo, gelatin silver print on paper\n",
      "Title:  [no title] \n",
      "Artist: Mike Mandel & Larry Sultan\n"
     ]
    },
    {
     "data": {
      "text/html": [
       "<img src='img_small/86_small.jpg'>"
      ],
      "text/plain": [
       "<IPython.core.display.HTML object>"
      ]
     },
     "metadata": {},
     "output_type": "display_data"
    },
    {
     "name": "stdout",
     "output_type": "stream",
     "text": [
      "Cluster: 7\n",
      "Medium: sculpture, tin can, printed paper & excrement\n",
      "Title: ArtistÛªs Shit\n",
      "Artist: Piero Manzoni\n"
     ]
    },
    {
     "data": {
      "text/html": [
       "<img src='img_small/93_small.jpg'>"
      ],
      "text/plain": [
       "<IPython.core.display.HTML object>"
      ]
     },
     "metadata": {},
     "output_type": "display_data"
    },
    {
     "name": "stdout",
     "output_type": "stream",
     "text": [
      "Cluster: 7\n",
      "Medium: sculpture, handblown mirrored glass, display structure, transparent mirror, lighting\n",
      "Title: Twentieth Century Modernism, Mirrored and Reflected Infinitely\n",
      "Artist: Josiah McElheny\n"
     ]
    },
    {
     "data": {
      "text/html": [
       "<img src='img_small/116_small.jpg'>"
      ],
      "text/plain": [
       "<IPython.core.display.HTML object>"
      ]
     },
     "metadata": {},
     "output_type": "display_data"
    },
    {
     "name": "stdout",
     "output_type": "stream",
     "text": [
      "Cluster: 7\n",
      "Medium: print, lithograph on paper\n",
      "Title: 1. 9\n",
      "Artist: Alistair Park\n"
     ]
    },
    {
     "data": {
      "text/html": [
       "<img src='img_small/203_small.jpg'>"
      ],
      "text/plain": [
       "<IPython.core.display.HTML object>"
      ]
     },
     "metadata": {},
     "output_type": "display_data"
    },
    {
     "name": "stdout",
     "output_type": "stream",
     "text": [
      "Cluster: 7\n",
      "Medium: photo, photograph, gelatin silver print on paper\n",
      "Title: Untitled, Providence, Rhode Island\n",
      "Artist: Francesca Woodman\n"
     ]
    },
    {
     "data": {
      "text/html": [
       "<img src='img_small/208_small.jpg'>"
      ],
      "text/plain": [
       "<IPython.core.display.HTML object>"
      ]
     },
     "metadata": {},
     "output_type": "display_data"
    },
    {
     "name": "stdout",
     "output_type": "stream",
     "text": [
      "Cluster: 7\n",
      "Medium: installation, reinforced fiberglass, flat white titanium dioxide latex, LED light, & DMX control\n",
      "Title: LC 71 NY DZ 13 DW\n",
      "Artist: Doug Wheeler\n"
     ]
    },
    {
     "data": {
      "text/html": [
       "<img src='img_small/227_small.jpg'>"
      ],
      "text/plain": [
       "<IPython.core.display.HTML object>"
      ]
     },
     "metadata": {},
     "output_type": "display_data"
    },
    {
     "name": "stdout",
     "output_type": "stream",
     "text": [
      "Cluster: 7\n",
      "Medium: painting, oil on panel\n",
      "Title: Still Life with Game Fowl\n",
      "Artist: Herman Van Vollenhoven\n"
     ]
    },
    {
     "data": {
      "text/html": [
       "<img src='img_small/240_small.jpg'>"
      ],
      "text/plain": [
       "<IPython.core.display.HTML object>"
      ]
     },
     "metadata": {},
     "output_type": "display_data"
    },
    {
     "name": "stdout",
     "output_type": "stream",
     "text": [
      "Cluster: 7\n",
      "Medium: painting, oil on canvas\n",
      "Title: The Vision of Saint John\n",
      "Artist: El Greco (Domenikos Theotokopoulos)\n"
     ]
    },
    {
     "data": {
      "text/html": [
       "<img src='img_small/248_small.jpg'>"
      ],
      "text/plain": [
       "<IPython.core.display.HTML object>"
      ]
     },
     "metadata": {},
     "output_type": "display_data"
    },
    {
     "name": "stdout",
     "output_type": "stream",
     "text": [
      "Cluster: 7\n",
      "Medium: photo, digital cinema, still\n",
      "Title: The Academy of Muses\n",
      "Artist: JosÌ© Luis GuerÌ_n\n"
     ]
    },
    {
     "data": {
      "text/html": [
       "<img src='img_small/264_small.jpg'>"
      ],
      "text/plain": [
       "<IPython.core.display.HTML object>"
      ]
     },
     "metadata": {},
     "output_type": "display_data"
    },
    {
     "name": "stdout",
     "output_type": "stream",
     "text": [
      "Cluster: 7\n",
      "Medium: painting, inkjet on canvas\n",
      "Title: DAD\n",
      "Artist: Michael Williams\n"
     ]
    },
    {
     "data": {
      "text/html": [
       "<img src='img_small/267_small.jpg'>"
      ],
      "text/plain": [
       "<IPython.core.display.HTML object>"
      ]
     },
     "metadata": {},
     "output_type": "display_data"
    },
    {
     "name": "stdout",
     "output_type": "stream",
     "text": [
      "Cluster: 7\n",
      "Medium: photo, b & w silver gelatin photograph, exposed & solarized by firelight\n",
      "Title: Man holding large camera photographing a cataclysmic event, possibly a volcano erupting.\n",
      "Artist: Lisa Oppenheim\n"
     ]
    },
    {
     "data": {
      "text/html": [
       "<img src='img_small/271_small.jpg'>"
      ],
      "text/plain": [
       "<IPython.core.display.HTML object>"
      ]
     },
     "metadata": {},
     "output_type": "display_data"
    },
    {
     "name": "stdout",
     "output_type": "stream",
     "text": [
      "Cluster: 7\n",
      "Medium: photo, inkjet print\n",
      "Title: still life, Calle Real II\n",
      "Artist: Wolfgang Tillmans\n"
     ]
    },
    {
     "data": {
      "text/html": [
       "<img src='img_small/273_small.jpg'>"
      ],
      "text/plain": [
       "<IPython.core.display.HTML object>"
      ]
     },
     "metadata": {},
     "output_type": "display_data"
    },
    {
     "name": "stdout",
     "output_type": "stream",
     "text": [
      "Cluster: 7\n",
      "Medium: painting, Chinese watercolor and ink on Chinese paper\n",
      "Title: The Empty City: Autumn Colors\n",
      "Artist: Yun-Fei Ji\n"
     ]
    },
    {
     "data": {
      "text/html": [
       "<img src='img_small/285_small.jpg'>"
      ],
      "text/plain": [
       "<IPython.core.display.HTML object>"
      ]
     },
     "metadata": {},
     "output_type": "display_data"
    },
    {
     "name": "stdout",
     "output_type": "stream",
     "text": [
      "Cluster: 7\n",
      "Medium: drawing, ballpoint pen on notebook paper\n",
      "Title: Untitled from the series 'Ten Thousand Things That Breathe'\n",
      "Artist: Renato Orara\n"
     ]
    },
    {
     "data": {
      "text/html": [
       "<img src='img_small/300_small.jpg'>"
      ],
      "text/plain": [
       "<IPython.core.display.HTML object>"
      ]
     },
     "metadata": {},
     "output_type": "display_data"
    },
    {
     "name": "stdout",
     "output_type": "stream",
     "text": [
      "Cluster: 7\n",
      "Medium: painting, ink jet & synthetic polymer paint on canvas\n",
      "Title: Goya Series: And\n",
      "Artist: John Baldessari \n"
     ]
    },
    {
     "data": {
      "text/html": [
       "<img src='img_small/325_small.jpg'>"
      ],
      "text/plain": [
       "<IPython.core.display.HTML object>"
      ]
     },
     "metadata": {},
     "output_type": "display_data"
    },
    {
     "name": "stdout",
     "output_type": "stream",
     "text": [
      "Cluster: 7\n",
      "Medium: photo, gelatin silver print\n",
      "Title: Detroit\n",
      "Artist: Harry Callahan\n"
     ]
    },
    {
     "data": {
      "text/html": [
       "<img src='img_small/333_small.jpg'>"
      ],
      "text/plain": [
       "<IPython.core.display.HTML object>"
      ]
     },
     "metadata": {},
     "output_type": "display_data"
    },
    {
     "name": "stdout",
     "output_type": "stream",
     "text": [
      "Cluster: 7\n",
      "Medium: sculpture, player piano, 15 televisions, 2 cameras, 2 laser disc players, 1 electric light & light bulb, & wires\n",
      "Title: Untitled\n",
      "Artist: Nam June Paik\n"
     ]
    },
    {
     "data": {
      "text/html": [
       "<img src='img_small/343_small.jpg'>"
      ],
      "text/plain": [
       "<IPython.core.display.HTML object>"
      ]
     },
     "metadata": {},
     "output_type": "display_data"
    },
    {
     "name": "stdout",
     "output_type": "stream",
     "text": [
      "Cluster: 7\n",
      "Medium: sculpture, sealed metal can with label, containing unknown contents\n",
      "Title: Canned Mystery\n",
      "Artist: Hi Red Center\n"
     ]
    },
    {
     "data": {
      "text/html": [
       "<img src='img_small/351_small.jpg'>"
      ],
      "text/plain": [
       "<IPython.core.display.HTML object>"
      ]
     },
     "metadata": {},
     "output_type": "display_data"
    },
    {
     "name": "stdout",
     "output_type": "stream",
     "text": [
      "Cluster: 7\n",
      "Medium: sculpture, mixed media: wood box w/ glass over painted background containing corkball, metal rods, metal bracelet, nails, & stamp, w/ book pages on reverse\n",
      "Title: Untitled (Dieppe)\n",
      "Artist: Joseph Cornell\n"
     ]
    },
    {
     "data": {
      "text/html": [
       "<img src='img_small/359_small.jpg'>"
      ],
      "text/plain": [
       "<IPython.core.display.HTML object>"
      ]
     },
     "metadata": {},
     "output_type": "display_data"
    },
    {
     "name": "stdout",
     "output_type": "stream",
     "text": [
      "Cluster: 7\n",
      "Medium: photo, gelatin silver print\n",
      "Title: Dali Atomicus\n",
      "Artist: Philippe Halsman\n"
     ]
    },
    {
     "data": {
      "text/html": [
       "<img src='img_small/362_small.jpg'>"
      ],
      "text/plain": [
       "<IPython.core.display.HTML object>"
      ]
     },
     "metadata": {},
     "output_type": "display_data"
    },
    {
     "name": "stdout",
     "output_type": "stream",
     "text": [
      "Cluster: 7\n",
      "Medium: photo, gelatin silver print\n",
      "Title: Buttress of the Elevated\n",
      "Artist: BrassaÌø (Gyula HalÌÁsz)\n"
     ]
    },
    {
     "data": {
      "text/html": [
       "<img src='img_small/368_small.jpg'>"
      ],
      "text/plain": [
       "<IPython.core.display.HTML object>"
      ]
     },
     "metadata": {},
     "output_type": "display_data"
    },
    {
     "name": "stdout",
     "output_type": "stream",
     "text": [
      "Cluster: 7\n",
      "Medium: drawing, pencil on paper\n",
      "Title: The Thought Which Sees\n",
      "Artist: RenÌ© Magritte \n"
     ]
    },
    {
     "data": {
      "text/html": [
       "<img src='img_small/372_small.jpg'>"
      ],
      "text/plain": [
       "<IPython.core.display.HTML object>"
      ]
     },
     "metadata": {},
     "output_type": "display_data"
    },
    {
     "name": "stdout",
     "output_type": "stream",
     "text": [
      "Cluster: 7\n",
      "Medium: drawing, collage\n",
      "Title: Cut with the Dada Kitchen Knife through the Last Weimar Beer-Belly Cultural Epoch in Germany\n",
      "Artist: Hannah HÌ¦ch\n"
     ]
    },
    {
     "data": {
      "text/html": [
       "<img src='img_small/379_small.jpg'>"
      ],
      "text/plain": [
       "<IPython.core.display.HTML object>"
      ]
     },
     "metadata": {},
     "output_type": "display_data"
    },
    {
     "name": "stdout",
     "output_type": "stream",
     "text": [
      "Cluster: 7\n",
      "Medium: drawing, charcoal & chalk on paper\n",
      "Title: Apparition in the Window\n",
      "Artist: Odilon Redon \n"
     ]
    },
    {
     "data": {
      "text/html": [
       "<img src='img_small/390_small.jpg'>"
      ],
      "text/plain": [
       "<IPython.core.display.HTML object>"
      ]
     },
     "metadata": {},
     "output_type": "display_data"
    },
    {
     "name": "stdout",
     "output_type": "stream",
     "text": [
      "Cluster: 7\n",
      "Medium: photo, gelatin silver print\n",
      "Title: Untitled (Still Life)\n",
      "Artist: Jacques-AndrÌ© Boiffard\n"
     ]
    },
    {
     "data": {
      "text/html": [
       "<img src='img_small/399_small.jpg'>"
      ],
      "text/plain": [
       "<IPython.core.display.HTML object>"
      ]
     },
     "metadata": {},
     "output_type": "display_data"
    },
    {
     "name": "stdout",
     "output_type": "stream",
     "text": [
      "Cluster: 7\n",
      "Medium: photo, chromogenic print\n",
      "Title: Untitled\n",
      "Artist: Dadbeh Bassir\n"
     ]
    },
    {
     "data": {
      "text/html": [
       "<h2>Images in cluster: 8</h2>"
      ],
      "text/plain": [
       "<IPython.core.display.HTML object>"
      ]
     },
     "metadata": {},
     "output_type": "display_data"
    },
    {
     "data": {
      "text/html": [
       "<img src='img_small/11_small.jpg'>"
      ],
      "text/plain": [
       "<IPython.core.display.HTML object>"
      ]
     },
     "metadata": {},
     "output_type": "display_data"
    },
    {
     "name": "stdout",
     "output_type": "stream",
     "text": [
      "Cluster: 8\n",
      "Medium: installation,sculpture, coated glass\n",
      "Title: Untitled \n",
      "Artist: Larry Bell\n"
     ]
    },
    {
     "data": {
      "text/html": [
       "<img src='img_small/31_small.jpg'>"
      ],
      "text/plain": [
       "<IPython.core.display.HTML object>"
      ]
     },
     "metadata": {},
     "output_type": "display_data"
    },
    {
     "name": "stdout",
     "output_type": "stream",
     "text": [
      "Cluster: 8\n",
      "Medium: installation, wood and mixed media\n",
      "Title: Number 135\n",
      "Artist: Leonardo Drew\n"
     ]
    },
    {
     "data": {
      "text/html": [
       "<img src='img_small/40_small.jpg'>"
      ],
      "text/plain": [
       "<IPython.core.display.HTML object>"
      ]
     },
     "metadata": {},
     "output_type": "display_data"
    },
    {
     "name": "stdout",
     "output_type": "stream",
     "text": [
      "Cluster: 8\n",
      "Medium: print, lithograph on paper\n",
      "Title: Mirabelle \n",
      "Artist: Helen Frankenthaler\n"
     ]
    },
    {
     "data": {
      "text/html": [
       "<img src='img_small/41_small.jpg'>"
      ],
      "text/plain": [
       "<IPython.core.display.HTML object>"
      ]
     },
     "metadata": {},
     "output_type": "display_data"
    },
    {
     "name": "stdout",
     "output_type": "stream",
     "text": [
      "Cluster: 8\n",
      "Medium: sculpture, monoprinted oil, acrylic, ink on canvas\n",
      "Title: Industrial Painting \n",
      "Artist: Giuseppe Pinot-Gallizio\n"
     ]
    },
    {
     "data": {
      "text/html": [
       "<img src='img_small/43_small.jpg'>"
      ],
      "text/plain": [
       "<IPython.core.display.HTML object>"
      ]
     },
     "metadata": {},
     "output_type": "display_data"
    },
    {
     "name": "stdout",
     "output_type": "stream",
     "text": [
      "Cluster: 8\n",
      "Medium: sculpture, acrylic on canvas and leather string\n",
      "Title: Simmering \n",
      "Artist: Sam Gilliam\n"
     ]
    },
    {
     "data": {
      "text/html": [
       "<img src='img_small/73_small.jpg'>"
      ],
      "text/plain": [
       "<IPython.core.display.HTML object>"
      ]
     },
     "metadata": {},
     "output_type": "display_data"
    },
    {
     "name": "stdout",
     "output_type": "stream",
     "text": [
      "Cluster: 8\n",
      "Medium: installation, painted wood, aluminium & nylon thread - kinetic\n",
      "Title: Continual Mobile, Continual Light \n",
      "Artist: Julio Le Parc\n"
     ]
    },
    {
     "data": {
      "text/html": [
       "<img src='img_small/78_small.jpg'>"
      ],
      "text/plain": [
       "<IPython.core.display.HTML object>"
      ]
     },
     "metadata": {},
     "output_type": "display_data"
    },
    {
     "name": "stdout",
     "output_type": "stream",
     "text": [
      "Cluster: 8\n",
      "Medium: sculpture, aluminium, glass, wood & motor\n",
      "Title: Light Dynamo \n",
      "Artist: Heinz Mack\n"
     ]
    },
    {
     "data": {
      "text/html": [
       "<img src='img_small/88_small.jpg'>"
      ],
      "text/plain": [
       "<IPython.core.display.HTML object>"
      ]
     },
     "metadata": {},
     "output_type": "display_data"
    },
    {
     "name": "stdout",
     "output_type": "stream",
     "text": [
      "Cluster: 8\n",
      "Medium: painting, acrylic paint & graphite on canvas\n",
      "Title: Untitled #10\n",
      "Artist: Agnes Martin\n"
     ]
    },
    {
     "data": {
      "text/html": [
       "<img src='img_small/90_small.jpg'>"
      ],
      "text/plain": [
       "<IPython.core.display.HTML object>"
      ]
     },
     "metadata": {},
     "output_type": "display_data"
    },
    {
     "name": "stdout",
     "output_type": "stream",
     "text": [
      "Cluster: 8\n",
      "Medium: sculpture, aluminium, oil paint & wood\n",
      "Title: nversions\n",
      "Artist: Mary Martin\n"
     ]
    },
    {
     "data": {
      "text/html": [
       "<img src='img_small/97_small.jpg'>"
      ],
      "text/plain": [
       "<IPython.core.display.HTML object>"
      ]
     },
     "metadata": {},
     "output_type": "display_data"
    },
    {
     "name": "stdout",
     "output_type": "stream",
     "text": [
      "Cluster: 8\n",
      "Medium: sculpture, aluminium\n",
      "Title: Untitled (Living Sculpture) \n",
      "Artist: Marisa Merz\n"
     ]
    },
    {
     "data": {
      "text/html": [
       "<img src='img_small/98_small.jpg'>"
      ],
      "text/plain": [
       "<IPython.core.display.HTML object>"
      ]
     },
     "metadata": {},
     "output_type": "display_data"
    },
    {
     "name": "stdout",
     "output_type": "stream",
     "text": [
      "Cluster: 8\n",
      "Medium: projection, 5 control units, liquid crystals and slide, 35 mm, 5 projections\n",
      "Title: Liquid Crystal Environment \n",
      "Artist: Gustav Metzger\n"
     ]
    },
    {
     "data": {
      "text/html": [
       "<img src='img_small/104_small.jpg'>"
      ],
      "text/plain": [
       "<IPython.core.display.HTML object>"
      ]
     },
     "metadata": {},
     "output_type": "display_data"
    },
    {
     "name": "stdout",
     "output_type": "stream",
     "text": [
      "Cluster: 8\n",
      "Medium: sculpture, fibreglass & nylon threads\n",
      "Title: Untitled\n",
      "Artist: Robert Morris\n"
     ]
    },
    {
     "data": {
      "text/html": [
       "<img src='img_small/122_small.jpg'>"
      ],
      "text/plain": [
       "<IPython.core.display.HTML object>"
      ]
     },
     "metadata": {},
     "output_type": "display_data"
    },
    {
     "name": "stdout",
     "output_type": "stream",
     "text": [
      "Cluster: 8\n",
      "Medium: installation, rice & neon tubes\n",
      "Title: Neon Rice Field\n",
      "Artist: Vong Phaophanit\n"
     ]
    },
    {
     "data": {
      "text/html": [
       "<img src='img_small/130_small.jpg'>"
      ],
      "text/plain": [
       "<IPython.core.display.HTML object>"
      ]
     },
     "metadata": {},
     "output_type": "display_data"
    },
    {
     "name": "stdout",
     "output_type": "stream",
     "text": [
      "Cluster: 8\n",
      "Medium: sculpture, 15 unglazed ceramic forms\n",
      "Title: Liar Liar \n",
      "Artist: Nicholas Pope\n"
     ]
    },
    {
     "data": {
      "text/html": [
       "<img src='img_small/146_small.jpg'>"
      ],
      "text/plain": [
       "<IPython.core.display.HTML object>"
      ]
     },
     "metadata": {},
     "output_type": "display_data"
    },
    {
     "name": "stdout",
     "output_type": "stream",
     "text": [
      "Cluster: 8\n",
      "Medium: print, lithograph\n",
      "Title: Suite Montmorency\n",
      "Artist: Jean-Paul Riopelle\n"
     ]
    },
    {
     "data": {
      "text/html": [
       "<img src='img_small/163_small.jpg'>"
      ],
      "text/plain": [
       "<IPython.core.display.HTML object>"
      ]
     },
     "metadata": {},
     "output_type": "display_data"
    },
    {
     "name": "stdout",
     "output_type": "stream",
     "text": [
      "Cluster: 8\n",
      "Medium: sculpture, lead\n",
      "Title: 2-2-1: To Dickie and Tina \n",
      "Artist: Richard Serra\n"
     ]
    },
    {
     "data": {
      "text/html": [
       "<img src='img_small/184_small.jpg'>"
      ],
      "text/plain": [
       "<IPython.core.display.HTML object>"
      ]
     },
     "metadata": {},
     "output_type": "display_data"
    },
    {
     "name": "stdout",
     "output_type": "stream",
     "text": [
      "Cluster: 8\n",
      "Medium: painting, oil on canvas over aluminum, mounted to wood w/ oil painted polyurethane\n",
      "Title: Folds 2\n",
      "Artist: Adriana VarejÌ£o\n"
     ]
    },
    {
     "data": {
      "text/html": [
       "<img src='img_small/187_small.jpg'>"
      ],
      "text/plain": [
       "<IPython.core.display.HTML object>"
      ]
     },
     "metadata": {},
     "output_type": "display_data"
    },
    {
     "name": "stdout",
     "output_type": "stream",
     "text": [
      "Cluster: 8\n",
      "Medium: sculpture, porcelain, enamel & wood\n",
      "Title: Solide plastique #4\n",
      "Artist: Didier Vermeiren\n"
     ]
    },
    {
     "data": {
      "text/html": [
       "<img src='img_small/214_small.jpg'>"
      ],
      "text/plain": [
       "<IPython.core.display.HTML object>"
      ]
     },
     "metadata": {},
     "output_type": "display_data"
    },
    {
     "name": "stdout",
     "output_type": "stream",
     "text": [
      "Cluster: 8\n",
      "Medium: sculpture, wood\n",
      "Title: 'Domino'' Bois de Teck\n",
      "Artist: Jems Robert Koko Bi\n"
     ]
    },
    {
     "data": {
      "text/html": [
       "<img src='img_small/223_small.jpg'>"
      ],
      "text/plain": [
       "<IPython.core.display.HTML object>"
      ]
     },
     "metadata": {},
     "output_type": "display_data"
    },
    {
     "name": "stdout",
     "output_type": "stream",
     "text": [
      "Cluster: 8\n",
      "Medium: installation, string & nylon scrap\n",
      "Title: Untitled\n",
      "Artist: Ritesh Meshram\n"
     ]
    },
    {
     "data": {
      "text/html": [
       "<img src='img_small/252_small.jpg'>"
      ],
      "text/plain": [
       "<IPython.core.display.HTML object>"
      ]
     },
     "metadata": {},
     "output_type": "display_data"
    },
    {
     "name": "stdout",
     "output_type": "stream",
     "text": [
      "Cluster: 8\n",
      "Medium: painting, oil & wax on linen\n",
      "Title: Flying UFO Flying\n",
      "Artist: Richard Aldrich\n"
     ]
    },
    {
     "data": {
      "text/html": [
       "<img src='img_small/255_small.jpg'>"
      ],
      "text/plain": [
       "<IPython.core.display.HTML object>"
      ]
     },
     "metadata": {},
     "output_type": "display_data"
    },
    {
     "name": "stdout",
     "output_type": "stream",
     "text": [
      "Cluster: 8\n",
      "Medium: sculpture, oil & Chroma Key Video, paint on flat-screen televisions, VHS & HD video transferred to .mp4 (color, sound)\n",
      "Title: gesture/data\n",
      "Artist: Ken Okiishi\n"
     ]
    },
    {
     "data": {
      "text/html": [
       "<img src='img_small/262_small.jpg'>"
      ],
      "text/plain": [
       "<IPython.core.display.HTML object>"
      ]
     },
     "metadata": {},
     "output_type": "display_data"
    },
    {
     "name": "stdout",
     "output_type": "stream",
     "text": [
      "Cluster: 8\n",
      "Medium: installation, plastic & tape\n",
      "Title: If\n",
      "Artist: Gedi Sibony\n"
     ]
    },
    {
     "data": {
      "text/html": [
       "<img src='img_small/275_small.jpg'>"
      ],
      "text/plain": [
       "<IPython.core.display.HTML object>"
      ]
     },
     "metadata": {},
     "output_type": "display_data"
    },
    {
     "name": "stdout",
     "output_type": "stream",
     "text": [
      "Cluster: 8\n",
      "Medium: photo, chromogenic color prints\n",
      "Title: Sundial (2007.14)\n",
      "Artist: Uta Barth\n"
     ]
    },
    {
     "data": {
      "text/html": [
       "<img src='img_small/290_small.jpg'>"
      ],
      "text/plain": [
       "<IPython.core.display.HTML object>"
      ]
     },
     "metadata": {},
     "output_type": "display_data"
    },
    {
     "name": "stdout",
     "output_type": "stream",
     "text": [
      "Cluster: 8\n",
      "Medium: drawing, coffee & pressure-sensitive tape on cut paper\n",
      "Title: Untitled\n",
      "Artist: John Bock \n"
     ]
    },
    {
     "data": {
      "text/html": [
       "<img src='img_small/299_small.jpg'>"
      ],
      "text/plain": [
       "<IPython.core.display.HTML object>"
      ]
     },
     "metadata": {},
     "output_type": "display_data"
    },
    {
     "name": "stdout",
     "output_type": "stream",
     "text": [
      "Cluster: 8\n",
      "Medium: drawing, graphite on cut-and-pasted Japanese paper on paper\n",
      "Title: Blackbird\n",
      "Artist: Jill Baroff\n"
     ]
    },
    {
     "data": {
      "text/html": [
       "<img src='img_small/346_small.jpg'>"
      ],
      "text/plain": [
       "<IPython.core.display.HTML object>"
      ]
     },
     "metadata": {},
     "output_type": "display_data"
    },
    {
     "name": "stdout",
     "output_type": "stream",
     "text": [
      "Cluster: 8\n",
      "Medium: sculpture, painted metal, fabric, tape, wood, & rubber tires\n",
      "Title: Fragment from Homage to New York\n",
      "Artist: Jean Tinguely\n"
     ]
    },
    {
     "data": {
      "text/html": [
       "<img src='img_small/361_small.jpg'>"
      ],
      "text/plain": [
       "<IPython.core.display.HTML object>"
      ]
     },
     "metadata": {},
     "output_type": "display_data"
    },
    {
     "name": "stdout",
     "output_type": "stream",
     "text": [
      "Cluster: 8\n",
      "Medium: sculpture, oil & incised lines on molded Plexiglas, on original base\n",
      "Title: Vertical Black, Red, Blue\n",
      "Artist: LÌÁszlÌ_ Moholy-Nagy\n"
     ]
    },
    {
     "data": {
      "text/html": [
       "<img src='img_small/364_small.jpg'>"
      ],
      "text/plain": [
       "<IPython.core.display.HTML object>"
      ]
     },
     "metadata": {},
     "output_type": "display_data"
    },
    {
     "name": "stdout",
     "output_type": "stream",
     "text": [
      "Cluster: 8\n",
      "Medium: painting, oil on canvas\n",
      "Title: 1944-N No. 2\n",
      "Artist: Clyfford Still \n"
     ]
    },
    {
     "data": {
      "text/html": [
       "<img src='img_small/376_small.jpg'>"
      ],
      "text/plain": [
       "<IPython.core.display.HTML object>"
      ]
     },
     "metadata": {},
     "output_type": "display_data"
    },
    {
     "name": "stdout",
     "output_type": "stream",
     "text": [
      "Cluster: 8\n",
      "Medium: sculpture, plexiglass & nylon wire, with aluminum base\n",
      "Title: Linear Construction in Space no. 3, with Red\n",
      "Artist: Naum Gabo \n"
     ]
    },
    {
     "data": {
      "text/html": [
       "<img src='img_small/381_small.jpg'>"
      ],
      "text/plain": [
       "<IPython.core.display.HTML object>"
      ]
     },
     "metadata": {},
     "output_type": "display_data"
    },
    {
     "name": "stdout",
     "output_type": "stream",
     "text": [
      "Cluster: 8\n",
      "Medium: drawing, colored pencil, pencil, ink, & oil on paper\n",
      "Title: Untitled\n",
      "Artist: FrantiÁek Kupka\n"
     ]
    },
    {
     "data": {
      "text/html": [
       "<img src='img_small/394_small.jpg'>"
      ],
      "text/plain": [
       "<IPython.core.display.HTML object>"
      ]
     },
     "metadata": {},
     "output_type": "display_data"
    },
    {
     "name": "stdout",
     "output_type": "stream",
     "text": [
      "Cluster: 8\n",
      "Medium: sculpture, plastic-tipped nylon wires with wood panel & motor\n",
      "Title: 1,914 White Points\n",
      "Artist: Pol Bury\n"
     ]
    },
    {
     "data": {
      "text/html": [
       "<h2>Images in cluster: 9</h2>"
      ],
      "text/plain": [
       "<IPython.core.display.HTML object>"
      ]
     },
     "metadata": {},
     "output_type": "display_data"
    },
    {
     "data": {
      "text/html": [
       "<img src='img_small/2_small.jpg'>"
      ],
      "text/plain": [
       "<IPython.core.display.HTML object>"
      ]
     },
     "metadata": {},
     "output_type": "display_data"
    },
    {
     "name": "stdout",
     "output_type": "stream",
     "text": [
      "Cluster: 9\n",
      "Medium: painting, oil on canvas\n",
      "Title: The Uncertainty of the Poet \n",
      "Artist: Giorgio de Chirico\n"
     ]
    },
    {
     "data": {
      "text/html": [
       "<img src='img_small/14_small.jpg'>"
      ],
      "text/plain": [
       "<IPython.core.display.HTML object>"
      ]
     },
     "metadata": {},
     "output_type": "display_data"
    },
    {
     "name": "stdout",
     "output_type": "stream",
     "text": [
      "Cluster: 9\n",
      "Medium: photo, gelatin silver print on paper\n",
      "Title: Baroda \n",
      "Artist: Jyoti Bhatt\n"
     ]
    },
    {
     "data": {
      "text/html": [
       "<img src='img_small/19_small.jpg'>"
      ],
      "text/plain": [
       "<IPython.core.display.HTML object>"
      ]
     },
     "metadata": {},
     "output_type": "display_data"
    },
    {
     "name": "stdout",
     "output_type": "stream",
     "text": [
      "Cluster: 9\n",
      "Medium: drawing, ink on paper\n",
      "Title: Man with Briefcase at 2,756,805 \n",
      "Artist: Jonathan Borofsky\n"
     ]
    },
    {
     "data": {
      "text/html": [
       "<img src='img_small/32_small.jpg'>"
      ],
      "text/plain": [
       "<IPython.core.display.HTML object>"
      ]
     },
     "metadata": {},
     "output_type": "display_data"
    },
    {
     "name": "stdout",
     "output_type": "stream",
     "text": [
      "Cluster: 9\n",
      "Medium: sculpture, wood, glass & paint on canvas\n",
      "Title: 3 stoppages Ì©talon (3 Standard Stoppages)\n",
      "Artist: Marcel Duchamp\n"
     ]
    },
    {
     "data": {
      "text/html": [
       "<img src='img_small/42_small.jpg'>"
      ],
      "text/plain": [
       "<IPython.core.display.HTML object>"
      ]
     },
     "metadata": {},
     "output_type": "display_data"
    },
    {
     "name": "stdout",
     "output_type": "stream",
     "text": [
      "Cluster: 9\n",
      "Medium: photo, gelatin silver print on paper\n",
      "Title: Mediunic\n",
      "Artist: Gaspar Gasparian \n"
     ]
    },
    {
     "data": {
      "text/html": [
       "<img src='img_small/44_small.jpg'>"
      ],
      "text/plain": [
       "<IPython.core.display.HTML object>"
      ]
     },
     "metadata": {},
     "output_type": "display_data"
    },
    {
     "name": "stdout",
     "output_type": "stream",
     "text": [
      "Cluster: 9\n",
      "Medium: installation, wood, paint & lacquer\n",
      "Title: Untitled \n",
      "Artist: Fernanda Gomes\n"
     ]
    },
    {
     "data": {
      "text/html": [
       "<img src='img_small/51_small.jpg'>"
      ],
      "text/plain": [
       "<IPython.core.display.HTML object>"
      ]
     },
     "metadata": {},
     "output_type": "display_data"
    },
    {
     "name": "stdout",
     "output_type": "stream",
     "text": [
      "Cluster: 9\n",
      "Medium: painting, oil, casein tempera & gesso on canvas\n",
      "Title: Ophelia\n",
      "Artist: Stanley William Hayter\n"
     ]
    },
    {
     "data": {
      "text/html": [
       "<img src='img_small/58_small.jpg'>"
      ],
      "text/plain": [
       "<IPython.core.display.HTML object>"
      ]
     },
     "metadata": {},
     "output_type": "display_data"
    },
    {
     "name": "stdout",
     "output_type": "stream",
     "text": [
      "Cluster: 9\n",
      "Medium: painting, oil on canvas\n",
      "Title: Untitled (Rift)\n",
      "Artist: Robert Holyhead\n"
     ]
    },
    {
     "data": {
      "text/html": [
       "<img src='img_small/77_small.jpg'>"
      ],
      "text/plain": [
       "<IPython.core.display.HTML object>"
      ]
     },
     "metadata": {},
     "output_type": "display_data"
    },
    {
     "name": "stdout",
     "output_type": "stream",
     "text": [
      "Cluster: 9\n",
      "Medium: print, lithograph on paper\n",
      "Title: Troublemaker \n",
      "Artist: El Lissitzky\n"
     ]
    },
    {
     "data": {
      "text/html": [
       "<img src='img_small/80_small.jpg'>"
      ],
      "text/plain": [
       "<IPython.core.display.HTML object>"
      ]
     },
     "metadata": {},
     "output_type": "display_data"
    },
    {
     "name": "stdout",
     "output_type": "stream",
     "text": [
      "Cluster: 9\n",
      "Medium: painting, oil on canvas\n",
      "Title: Suprematism \n",
      "Artist: Kazimir Malevich\n"
     ]
    },
    {
     "data": {
      "text/html": [
       "<img src='img_small/85_small.jpg'>"
      ],
      "text/plain": [
       "<IPython.core.display.HTML object>"
      ]
     },
     "metadata": {},
     "output_type": "display_data"
    },
    {
     "name": "stdout",
     "output_type": "stream",
     "text": [
      "Cluster: 9\n",
      "Medium: photo, gelatin silver print on paper\n",
      "Title: Leap into the Void \n",
      "Artist: Yves Klein\n"
     ]
    },
    {
     "data": {
      "text/html": [
       "<img src='img_small/103_small.jpg'>"
      ],
      "text/plain": [
       "<IPython.core.display.HTML object>"
      ]
     },
     "metadata": {},
     "output_type": "display_data"
    },
    {
     "name": "stdout",
     "output_type": "stream",
     "text": [
      "Cluster: 9\n",
      "Medium: installation, 38 blue argon neon tubes that turn on and off & wooden pier \n",
      "Title: Pier and Ocean\n",
      "Artist: FranÌ¤ois Morellet\n"
     ]
    },
    {
     "data": {
      "text/html": [
       "<img src='img_small/106_small.jpg'>"
      ],
      "text/plain": [
       "<IPython.core.display.HTML object>"
      ]
     },
     "metadata": {},
     "output_type": "display_data"
    },
    {
     "name": "stdout",
     "output_type": "stream",
     "text": [
      "Cluster: 9\n",
      "Medium: video, 16 mm film transferred to video, b/w, sound\n",
      "Title: Dance or Exercise on the Perimeter of a Square (Square Dance)    \n",
      "Artist: Bruce Nauman\n"
     ]
    },
    {
     "data": {
      "text/html": [
       "<img src='img_small/109_small.jpg'>"
      ],
      "text/plain": [
       "<IPython.core.display.HTML object>"
      ]
     },
     "metadata": {},
     "output_type": "display_data"
    },
    {
     "name": "stdout",
     "output_type": "stream",
     "text": [
      "Cluster: 9\n",
      "Medium: painting, oil on board\n",
      "Title: Quarante Huit Quai dÛªAuteuil \n",
      "Artist: Winifred Nicholson\n"
     ]
    },
    {
     "data": {
      "text/html": [
       "<img src='img_small/112_small.jpg'>"
      ],
      "text/plain": [
       "<IPython.core.display.HTML object>"
      ]
     },
     "metadata": {},
     "output_type": "display_data"
    },
    {
     "name": "stdout",
     "output_type": "stream",
     "text": [
      "Cluster: 9\n",
      "Medium: installation, double-sided hanging painted wood panels, varying sizes\n",
      "Title: Grand Nucleus (Grande NÌ¼cleo) \n",
      "Artist: HÌ©lio Oiticica\n"
     ]
    },
    {
     "data": {
      "text/html": [
       "<img src='img_small/117_small.jpg'>"
      ],
      "text/plain": [
       "<IPython.core.display.HTML object>"
      ]
     },
     "metadata": {},
     "output_type": "display_data"
    },
    {
     "name": "stdout",
     "output_type": "stream",
     "text": [
      "Cluster: 9\n",
      "Medium: installation, wood, metal, plastic, ceramic, paper, textile & wire\n",
      "Title: Cold Dark Matter: An Exploded View \n",
      "Artist: Cornelia Parker\n"
     ]
    },
    {
     "data": {
      "text/html": [
       "<img src='img_small/118_small.jpg'>"
      ],
      "text/plain": [
       "<IPython.core.display.HTML object>"
      ]
     },
     "metadata": {},
     "output_type": "display_data"
    },
    {
     "name": "stdout",
     "output_type": "stream",
     "text": [
      "Cluster: 9\n",
      "Medium: print, digital print on paper\n",
      "Title: Master Friday \n",
      "Artist: Oliver Payne and Nick Relph\n"
     ]
    },
    {
     "data": {
      "text/html": [
       "<img src='img_small/139_small.jpg'>"
      ],
      "text/plain": [
       "<IPython.core.display.HTML object>"
      ]
     },
     "metadata": {},
     "output_type": "display_data"
    },
    {
     "name": "stdout",
     "output_type": "stream",
     "text": [
      "Cluster: 9\n",
      "Medium: photo, 2 photographs, black & white, on paper on board\n",
      "Title: Plank Piece I-II \n",
      "Artist: Charles Ray\n"
     ]
    },
    {
     "data": {
      "text/html": [
       "<img src='img_small/168_small.jpg'>"
      ],
      "text/plain": [
       "<IPython.core.display.HTML object>"
      ]
     },
     "metadata": {},
     "output_type": "display_data"
    },
    {
     "name": "stdout",
     "output_type": "stream",
     "text": [
      "Cluster: 9\n",
      "Medium: installation, mixed media\n",
      "Title: The Tired Room, Freud Museum, Vienna, Austria\n",
      "Artist: Monika Sosnowska\n"
     ]
    },
    {
     "data": {
      "text/html": [
       "<img src='img_small/171_small.jpg'>"
      ],
      "text/plain": [
       "<IPython.core.display.HTML object>"
      ]
     },
     "metadata": {},
     "output_type": "display_data"
    },
    {
     "name": "stdout",
     "output_type": "stream",
     "text": [
      "Cluster: 9\n",
      "Medium: sculpture, mixed media\n",
      "Title: La table du Clown Bar, Paris,\n",
      "Artist: Daniel Spoerri \n"
     ]
    },
    {
     "data": {
      "text/html": [
       "<img src='img_small/192_small.jpg'>"
      ],
      "text/plain": [
       "<IPython.core.display.HTML object>"
      ]
     },
     "metadata": {},
     "output_type": "display_data"
    },
    {
     "name": "stdout",
     "output_type": "stream",
     "text": [
      "Cluster: 9\n",
      "Medium: painting, fluorescent silkscreen inks on canvas\n",
      "Title: Double Torso\n",
      "Artist: Andy Warhol\n"
     ]
    },
    {
     "data": {
      "text/html": [
       "<img src='img_small/205_small.jpg'>"
      ],
      "text/plain": [
       "<IPython.core.display.HTML object>"
      ]
     },
     "metadata": {},
     "output_type": "display_data"
    },
    {
     "name": "stdout",
     "output_type": "stream",
     "text": [
      "Cluster: 9\n",
      "Medium: sculpture, perspex & acrylic\n",
      "Title: Inverse Reverse Perverse\n",
      "Artist: Cerith Wyn Evans\n"
     ]
    },
    {
     "data": {
      "text/html": [
       "<img src='img_small/213_small.jpg'>"
      ],
      "text/plain": [
       "<IPython.core.display.HTML object>"
      ]
     },
     "metadata": {},
     "output_type": "display_data"
    },
    {
     "name": "stdout",
     "output_type": "stream",
     "text": [
      "Cluster: 9\n",
      "Medium: photo, archival pigment ink on fine art paper\n",
      "Title: Imprimerie nationale, Porto Novo, Benin\n",
      "Artist: FranÌ¤ois-Xavier GbrÌ©\n"
     ]
    },
    {
     "data": {
      "text/html": [
       "<img src='img_small/222_small.jpg'>"
      ],
      "text/plain": [
       "<IPython.core.display.HTML object>"
      ]
     },
     "metadata": {},
     "output_type": "display_data"
    },
    {
     "name": "stdout",
     "output_type": "stream",
     "text": [
      "Cluster: 9\n",
      "Medium: sculpture,\n",
      "Title: no title on website\n",
      "Artist: S.Paramasivam\n"
     ]
    },
    {
     "data": {
      "text/html": [
       "<img src='img_small/232_small.jpg'>"
      ],
      "text/plain": [
       "<IPython.core.display.HTML object>"
      ]
     },
     "metadata": {},
     "output_type": "display_data"
    },
    {
     "name": "stdout",
     "output_type": "stream",
     "text": [
      "Cluster: 9\n",
      "Medium: painting, oil on canvas\n",
      "Title: The Mondo Nuovo, 2nd painting P7805\n",
      "Artist: Giandomenico Tiepolo\n"
     ]
    },
    {
     "data": {
      "text/html": [
       "<img src='img_small/233_small.jpg'>"
      ],
      "text/plain": [
       "<IPython.core.display.HTML object>"
      ]
     },
     "metadata": {},
     "output_type": "display_data"
    },
    {
     "name": "stdout",
     "output_type": "stream",
     "text": [
      "Cluster: 9\n",
      "Medium: painting, oil on canvas\n",
      "Title: Disordered Table with a trompe lÛªoeil of Paintings, a Hurdy-gurdy, Books and other Objects\n",
      "Artist: Charles-Joseph Flipart \n"
     ]
    },
    {
     "data": {
      "text/html": [
       "<img src='img_small/251_small.jpg'>"
      ],
      "text/plain": [
       "<IPython.core.display.HTML object>"
      ]
     },
     "metadata": {},
     "output_type": "display_data"
    },
    {
     "name": "stdout",
     "output_type": "stream",
     "text": [
      "Cluster: 9\n",
      "Medium: sculpture, mixed media\n",
      "Title: Hermoso paisaje 3\n",
      "Artist: Moris (Israel Meza Moreno)\n"
     ]
    },
    {
     "data": {
      "text/html": [
       "<img src='img_small/269_small.jpg'>"
      ],
      "text/plain": [
       "<IPython.core.display.HTML object>"
      ]
     },
     "metadata": {},
     "output_type": "display_data"
    },
    {
     "name": "stdout",
     "output_type": "stream",
     "text": [
      "Cluster: 9\n",
      "Medium: photo, chromogenic color print\n",
      "Title: Raisen Kaigan 36\n",
      "Artist: Lieko Shiga\n"
     ]
    },
    {
     "data": {
      "text/html": [
       "<img src='img_small/281_small.jpg'>"
      ],
      "text/plain": [
       "<IPython.core.display.HTML object>"
      ]
     },
     "metadata": {},
     "output_type": "display_data"
    },
    {
     "name": "stdout",
     "output_type": "stream",
     "text": [
      "Cluster: 9\n",
      "Medium: photo\n",
      "Title: Untitled\n",
      "Artist: Tom Friedman\n"
     ]
    },
    {
     "data": {
      "text/html": [
       "<img src='img_small/287_small.jpg'>"
      ],
      "text/plain": [
       "<IPython.core.display.HTML object>"
      ]
     },
     "metadata": {},
     "output_type": "display_data"
    },
    {
     "name": "stdout",
     "output_type": "stream",
     "text": [
      "Cluster: 9\n",
      "Medium: photo, still of super 8mm film transferred to video (color, silent)\n",
      "Title: Box\n",
      "Artist: Roman Signer \n"
     ]
    },
    {
     "data": {
      "text/html": [
       "<img src='img_small/295_small.jpg'>"
      ],
      "text/plain": [
       "<IPython.core.display.HTML object>"
      ]
     },
     "metadata": {},
     "output_type": "display_data"
    },
    {
     "name": "stdout",
     "output_type": "stream",
     "text": [
      "Cluster: 9\n",
      "Medium: installation, mixed media\n",
      "Title: House Attack\n",
      "Artist: Erwin Wurm\n"
     ]
    },
    {
     "data": {
      "text/html": [
       "<img src='img_small/297_small.jpg'>"
      ],
      "text/plain": [
       "<IPython.core.display.HTML object>"
      ]
     },
     "metadata": {},
     "output_type": "display_data"
    },
    {
     "name": "stdout",
     "output_type": "stream",
     "text": [
      "Cluster: 9\n",
      "Medium: installation, drawing on wall, ransparentized paper, pencil, colored pencil, & felt-tip pen on wall\n",
      "Title: Drawing Which Makes Itself: Neighbourhood\n",
      "Artist: Dorothea Rockburne \n"
     ]
    },
    {
     "data": {
      "text/html": [
       "<img src='img_small/319_small.jpg'>"
      ],
      "text/plain": [
       "<IPython.core.display.HTML object>"
      ]
     },
     "metadata": {},
     "output_type": "display_data"
    },
    {
     "name": "stdout",
     "output_type": "stream",
     "text": [
      "Cluster: 9\n",
      "Medium: photo, chromogenic color print\n",
      "Title: William Charles Everlove; 26 years old; Stockholm, Sweden via Arizona; $40\n",
      "Artist: Philip-Lorca diCorcia\n"
     ]
    },
    {
     "data": {
      "text/html": [
       "<img src='img_small/326_small.jpg'>"
      ],
      "text/plain": [
       "<IPython.core.display.HTML object>"
      ]
     },
     "metadata": {},
     "output_type": "display_data"
    },
    {
     "name": "stdout",
     "output_type": "stream",
     "text": [
      "Cluster: 9\n",
      "Medium: photo, photolithograph\n",
      "Title: Earthquake Piece\n",
      "Artist: Georg Herold \n"
     ]
    },
    {
     "data": {
      "text/html": [
       "<img src='img_small/328_small.jpg'>"
      ],
      "text/plain": [
       "<IPython.core.display.HTML object>"
      ]
     },
     "metadata": {},
     "output_type": "display_data"
    },
    {
     "name": "stdout",
     "output_type": "stream",
     "text": [
      "Cluster: 9\n",
      "Medium: photo, still image of 3 day performance\n",
      "Title: I Like America and America Likes Me\n",
      "Artist: Joseph Beuys\n"
     ]
    },
    {
     "data": {
      "text/html": [
       "<img src='img_small/329_small.jpg'>"
      ],
      "text/plain": [
       "<IPython.core.display.HTML object>"
      ]
     },
     "metadata": {},
     "output_type": "display_data"
    },
    {
     "name": "stdout",
     "output_type": "stream",
     "text": [
      "Cluster: 9\n",
      "Medium: sculpture, plastic box with offset label, containing 52 identical cards\n",
      "Title: Same Card Flux Deck\n",
      "Artist: George Maciunas\n"
     ]
    },
    {
     "data": {
      "text/html": [
       "<img src='img_small/330_small.jpg'>"
      ],
      "text/plain": [
       "<IPython.core.display.HTML object>"
      ]
     },
     "metadata": {},
     "output_type": "display_data"
    },
    {
     "name": "stdout",
     "output_type": "stream",
     "text": [
      "Cluster: 9\n",
      "Medium: print, screenprint\n",
      "Title: Beach\n",
      "Artist: Jan Tarasin\n"
     ]
    },
    {
     "data": {
      "text/html": [
       "<img src='img_small/350_small.jpg'>"
      ],
      "text/plain": [
       "<IPython.core.display.HTML object>"
      ]
     },
     "metadata": {},
     "output_type": "display_data"
    },
    {
     "name": "stdout",
     "output_type": "stream",
     "text": [
      "Cluster: 9\n",
      "Medium: photo, chromogenic color print\n",
      "Title: Concave Orange with Hole on Plate\n",
      "Artist: Francis Thompson\n"
     ]
    },
    {
     "data": {
      "text/html": [
       "<img src='img_small/365_small.jpg'>"
      ],
      "text/plain": [
       "<IPython.core.display.HTML object>"
      ]
     },
     "metadata": {},
     "output_type": "display_data"
    },
    {
     "name": "stdout",
     "output_type": "stream",
     "text": [
      "Cluster: 9\n",
      "Medium: photo, gelatin silver print\n",
      "Title: Milk Drop\n",
      "Artist: Harold E. Edgerton\n"
     ]
    },
    {
     "data": {
      "text/html": [
       "<img src='img_small/367_small.jpg'>"
      ],
      "text/plain": [
       "<IPython.core.display.HTML object>"
      ]
     },
     "metadata": {},
     "output_type": "display_data"
    },
    {
     "name": "stdout",
     "output_type": "stream",
     "text": [
      "Cluster: 9\n",
      "Medium: photo, platinum print\n",
      "Title: H-O Box\n",
      "Artist: Paul Outerbridge\n"
     ]
    },
    {
     "data": {
      "text/html": [
       "<img src='img_small/369_small.jpg'>"
      ],
      "text/plain": [
       "<IPython.core.display.HTML object>"
      ]
     },
     "metadata": {},
     "output_type": "display_data"
    },
    {
     "name": "stdout",
     "output_type": "stream",
     "text": [
      "Cluster: 9\n",
      "Medium: painting, oil on canvas\n",
      "Title: House by the Railroad\n",
      "Artist: Edward Hopper \n"
     ]
    },
    {
     "data": {
      "text/html": [
       "<img src='img_small/374_small.jpg'>"
      ],
      "text/plain": [
       "<IPython.core.display.HTML object>"
      ]
     },
     "metadata": {},
     "output_type": "display_data"
    },
    {
     "name": "stdout",
     "output_type": "stream",
     "text": [
      "Cluster: 9\n",
      "Medium: print, one from a portfolio of 7 lithographs\n",
      "Title: A Navel (Ein Nabel) from Merz 5. 7 Arpaden by Hans Arp. Arp Portfolio. Second Portfolio of the Merz Publisher (Merz 5. 7 Arpaden von Hans Arp. Arp Mappe. Zweite Mappe des Merzverlages\n",
      "Artist: Jean (Hans) Arp\n"
     ]
    },
    {
     "data": {
      "text/html": [
       "<img src='img_small/378_small.jpg'>"
      ],
      "text/plain": [
       "<IPython.core.display.HTML object>"
      ]
     },
     "metadata": {},
     "output_type": "display_data"
    },
    {
     "name": "stdout",
     "output_type": "stream",
     "text": [
      "Cluster: 9\n",
      "Medium: painting, gouache, oil, & crayon on cut-&-pasted printed paper on canvas w/ oil & crayon\n",
      "Title: Breakfast\n",
      "Artist: Juan Gris\n"
     ]
    },
    {
     "data": {
      "text/html": [
       "<img src='img_small/392_small.jpg'>"
      ],
      "text/plain": [
       "<IPython.core.display.HTML object>"
      ]
     },
     "metadata": {},
     "output_type": "display_data"
    },
    {
     "name": "stdout",
     "output_type": "stream",
     "text": [
      "Cluster: 9\n",
      "Medium: photo,\n",
      "Title: Main Street Tree\n",
      "Artist: Rodney Graham\n"
     ]
    },
    {
     "data": {
      "text/html": [
       "<img src='img_small/398_small.jpg'>"
      ],
      "text/plain": [
       "<IPython.core.display.HTML object>"
      ]
     },
     "metadata": {},
     "output_type": "display_data"
    },
    {
     "name": "stdout",
     "output_type": "stream",
     "text": [
      "Cluster: 9\n",
      "Medium: photo, gelatin silver print\n",
      "Title: Untitled\n",
      "Artist: Dariush Nehdaran\n"
     ]
    },
    {
     "data": {
      "text/html": [
       "<img src='img_small/403_small.jpg'>"
      ],
      "text/plain": [
       "<IPython.core.display.HTML object>"
      ]
     },
     "metadata": {},
     "output_type": "display_data"
    },
    {
     "name": "stdout",
     "output_type": "stream",
     "text": [
      "Cluster: 9\n",
      "Medium: photo, color photograph\n",
      "Title: ZEIT DIE ZUR VERFÌÏGUNG STEHT\n",
      "Artist: Peter Fischli David Weiss \n"
     ]
    },
    {
     "data": {
      "text/html": [
       "<h2>Images in cluster: 10</h2>"
      ],
      "text/plain": [
       "<IPython.core.display.HTML object>"
      ]
     },
     "metadata": {},
     "output_type": "display_data"
    },
    {
     "data": {
      "text/html": [
       "<img src='img_small/13_small.jpg'>"
      ],
      "text/plain": [
       "<IPython.core.display.HTML object>"
      ]
     },
     "metadata": {},
     "output_type": "display_data"
    },
    {
     "name": "stdout",
     "output_type": "stream",
     "text": [
      "Cluster: 10\n",
      "Medium: print, lithograph on paper\n",
      "Title: Untitled\n",
      "Artist: FrÌ©dÌ©ric Benrath\n"
     ]
    },
    {
     "data": {
      "text/html": [
       "<img src='img_small/29_small.jpg'>"
      ],
      "text/plain": [
       "<IPython.core.display.HTML object>"
      ]
     },
     "metadata": {},
     "output_type": "display_data"
    },
    {
     "name": "stdout",
     "output_type": "stream",
     "text": [
      "Cluster: 10\n",
      "Medium: drawing, chalk on blackboard\n",
      "Title: The Roaring Forties: Seven Boards in Seven Days\n",
      "Artist: Tacita Dean\n"
     ]
    },
    {
     "data": {
      "text/html": [
       "<img src='img_small/39_small.jpg'>"
      ],
      "text/plain": [
       "<IPython.core.display.HTML object>"
      ]
     },
     "metadata": {},
     "output_type": "display_data"
    },
    {
     "name": "stdout",
     "output_type": "stream",
     "text": [
      "Cluster: 10\n",
      "Medium: painting, watercolour on paper\n",
      "Title: Painting \n",
      "Artist: Sam Francis\n"
     ]
    },
    {
     "data": {
      "text/html": [
       "<img src='img_small/46_small.jpg'>"
      ],
      "text/plain": [
       "<IPython.core.display.HTML object>"
      ]
     },
     "metadata": {},
     "output_type": "display_data"
    },
    {
     "name": "stdout",
     "output_type": "stream",
     "text": [
      "Cluster: 10\n",
      "Medium: painting, acrylic on canvas\n",
      "Title: Segni orizzontali \n",
      "Artist: Giorgio Griffa\n"
     ]
    },
    {
     "data": {
      "text/html": [
       "<img src='img_small/49_small.jpg'>"
      ],
      "text/plain": [
       "<IPython.core.display.HTML object>"
      ]
     },
     "metadata": {},
     "output_type": "display_data"
    },
    {
     "name": "stdout",
     "output_type": "stream",
     "text": [
      "Cluster: 10\n",
      "Medium: painting, acrylic on canvas\n",
      "Title: T1963-R6\n",
      "Artist: Hans Hartung\n"
     ]
    },
    {
     "data": {
      "text/html": [
       "<img src='img_small/53_small.jpg'>"
      ],
      "text/plain": [
       "<IPython.core.display.HTML object>"
      ]
     },
     "metadata": {},
     "output_type": "display_data"
    },
    {
     "name": "stdout",
     "output_type": "stream",
     "text": [
      "Cluster: 10\n",
      "Medium: photo, collage, gelatin silver print & ink on paper\n",
      "Title: Untitled No. 8 (Shattered Glass) \n",
      "Artist: Nigel Henderson\n"
     ]
    },
    {
     "data": {
      "text/html": [
       "<img src='img_small/57_small.jpg'>"
      ],
      "text/plain": [
       "<IPython.core.display.HTML object>"
      ]
     },
     "metadata": {},
     "output_type": "display_data"
    },
    {
     "name": "stdout",
     "output_type": "stream",
     "text": [
      "Cluster: 10\n",
      "Medium: sculpture, rubber inner tubes, steel, hosepipes, ribbon\n",
      "Title: Balindile 1\n",
      "Artist: Nicholas Hlobo\n"
     ]
    },
    {
     "data": {
      "text/html": [
       "<img src='img_small/65_small.jpg'>"
      ],
      "text/plain": [
       "<IPython.core.display.HTML object>"
      ]
     },
     "metadata": {},
     "output_type": "display_data"
    },
    {
     "name": "stdout",
     "output_type": "stream",
     "text": [
      "Cluster: 10\n",
      "Medium: painting, oil on canvas\n",
      "Title: Letter to my Son \n",
      "Artist: Asger Jorn\n"
     ]
    },
    {
     "data": {
      "text/html": [
       "<img src='img_small/124_small.jpg'>"
      ],
      "text/plain": [
       "<IPython.core.display.HTML object>"
      ]
     },
     "metadata": {},
     "output_type": "display_data"
    },
    {
     "name": "stdout",
     "output_type": "stream",
     "text": [
      "Cluster: 10\n",
      "Medium: painting, oil & charcoal with sand on canvas\n",
      "Title: Still Life with Banderillas\n",
      "Artist: Georges Braque\n"
     ]
    },
    {
     "data": {
      "text/html": [
       "<img src='img_small/200_small.jpg'>"
      ],
      "text/plain": [
       "<IPython.core.display.HTML object>"
      ]
     },
     "metadata": {},
     "output_type": "display_data"
    },
    {
     "name": "stdout",
     "output_type": "stream",
     "text": [
      "Cluster: 10\n",
      "Medium: drawing, charcoal & crayon on paper\n",
      "Title: Untitled \n",
      "Artist: Alison Wilding\n"
     ]
    },
    {
     "data": {
      "text/html": [
       "<img src='img_small/244_small.jpg'>"
      ],
      "text/plain": [
       "<IPython.core.display.HTML object>"
      ]
     },
     "metadata": {},
     "output_type": "display_data"
    },
    {
     "name": "stdout",
     "output_type": "stream",
     "text": [
      "Cluster: 10\n",
      "Medium: drawing,\n",
      "Title: drawing title unknown\n",
      "Artist: Sonya Kelliher-Combs\n"
     ]
    },
    {
     "data": {
      "text/html": [
       "<img src='img_small/272_small.jpg'>"
      ],
      "text/plain": [
       "<IPython.core.display.HTML object>"
      ]
     },
     "metadata": {},
     "output_type": "display_data"
    },
    {
     "name": "stdout",
     "output_type": "stream",
     "text": [
      "Cluster: 10\n",
      "Medium: painting, flashe on linen\n",
      "Title: vines\n",
      "Artist: Mary Weatherford\n"
     ]
    },
    {
     "data": {
      "text/html": [
       "<img src='img_small/282_small.jpg'>"
      ],
      "text/plain": [
       "<IPython.core.display.HTML object>"
      ]
     },
     "metadata": {},
     "output_type": "display_data"
    },
    {
     "name": "stdout",
     "output_type": "stream",
     "text": [
      "Cluster: 10\n",
      "Medium: drawing, ink, oil, watercolor, pencil, & cut-&-pasted paper on paper\n",
      "Title: Watery Ecstatic\n",
      "Artist: Ellen Gallagher\n"
     ]
    },
    {
     "data": {
      "text/html": [
       "<img src='img_small/293_small.jpg'>"
      ],
      "text/plain": [
       "<IPython.core.display.HTML object>"
      ]
     },
     "metadata": {},
     "output_type": "display_data"
    },
    {
     "name": "stdout",
     "output_type": "stream",
     "text": [
      "Cluster: 10\n",
      "Medium: print, one of 4 altered ink-jet prints\n",
      "Title: The Ring\n",
      "Artist: Guillermo Kuitca\n"
     ]
    },
    {
     "data": {
      "text/html": [
       "<img src='img_small/311_small.jpg'>"
      ],
      "text/plain": [
       "<IPython.core.display.HTML object>"
      ]
     },
     "metadata": {},
     "output_type": "display_data"
    },
    {
     "name": "stdout",
     "output_type": "stream",
     "text": [
      "Cluster: 10\n",
      "Medium: painting, lacquer on canvas\n",
      "Title: Untitled (1)\n",
      "Artist: Michael Krebber \n"
     ]
    },
    {
     "data": {
      "text/html": [
       "<img src='img_small/348_small.jpg'>"
      ],
      "text/plain": [
       "<IPython.core.display.HTML object>"
      ]
     },
     "metadata": {},
     "output_type": "display_data"
    },
    {
     "name": "stdout",
     "output_type": "stream",
     "text": [
      "Cluster: 10\n",
      "Medium: drawing, soot on paper\n",
      "Title: Untitled (Smoke Drawing)\n",
      "Artist: Otto Piene \n"
     ]
    },
    {
     "data": {
      "text/html": [
       "<img src='img_small/355_small.jpg'>"
      ],
      "text/plain": [
       "<IPython.core.display.HTML object>"
      ]
     },
     "metadata": {},
     "output_type": "display_data"
    },
    {
     "name": "stdout",
     "output_type": "stream",
     "text": [
      "Cluster: 10\n",
      "Medium: painting, synthetic polymer paint on paper\n",
      "Title: Untitled\n",
      "Artist: Philip Guston\n"
     ]
    },
    {
     "data": {
      "text/html": [
       "<img src='img_small/357_small.jpg'>"
      ],
      "text/plain": [
       "<IPython.core.display.HTML object>"
      ]
     },
     "metadata": {},
     "output_type": "display_data"
    },
    {
     "name": "stdout",
     "output_type": "stream",
     "text": [
      "Cluster: 10\n",
      "Medium: drawing, ink, charcoal, & gouache on paper\n",
      "Title: Untitled\n",
      "Artist: Louise Bourgeois\n"
     ]
    },
    {
     "data": {
      "text/html": [
       "<img src='img_small/370_small.jpg'>"
      ],
      "text/plain": [
       "<IPython.core.display.HTML object>"
      ]
     },
     "metadata": {},
     "output_type": "display_data"
    },
    {
     "name": "stdout",
     "output_type": "stream",
     "text": [
      "Cluster: 10\n",
      "Medium: print, lithograph\n",
      "Title: Queen of Hearts (Herzdame) from the periodical Der Ararat. Glossen, Skizzen und Notizen zur Neuen Kunst vol. 2, no. 4\n",
      "Artist: Paul Klee\n"
     ]
    },
    {
     "data": {
      "text/html": [
       "<h2>Images in cluster: 11</h2>"
      ],
      "text/plain": [
       "<IPython.core.display.HTML object>"
      ]
     },
     "metadata": {},
     "output_type": "display_data"
    },
    {
     "data": {
      "text/html": [
       "<img src='img_small/4_small.jpg'>"
      ],
      "text/plain": [
       "<IPython.core.display.HTML object>"
      ]
     },
     "metadata": {},
     "output_type": "display_data"
    },
    {
     "name": "stdout",
     "output_type": "stream",
     "text": [
      "Cluster: 11\n",
      "Medium: painting, oil on canvas\n",
      "Title: Yellow Sky \n",
      "Artist: Milton Avery\n"
     ]
    },
    {
     "data": {
      "text/html": [
       "<img src='img_small/6_small.jpg'>"
      ],
      "text/plain": [
       "<IPython.core.display.HTML object>"
      ]
     },
     "metadata": {},
     "output_type": "display_data"
    },
    {
     "name": "stdout",
     "output_type": "stream",
     "text": [
      "Cluster: 11\n",
      "Medium: painting, mixed media on canvas\n",
      "Title: Pair-Bearing Matrix \n",
      "Artist: Joseph (Jef) Banc\n"
     ]
    },
    {
     "data": {
      "text/html": [
       "<img src='img_small/9_small.jpg'>"
      ],
      "text/plain": [
       "<IPython.core.display.HTML object>"
      ]
     },
     "metadata": {},
     "output_type": "display_data"
    },
    {
     "name": "stdout",
     "output_type": "stream",
     "text": [
      "Cluster: 11\n",
      "Medium: photo, digital print w/ acrylic on canvas\n",
      "Title: Field #20 \n",
      "Artist: Uta Barth\n"
     ]
    },
    {
     "data": {
      "text/html": [
       "<img src='img_small/15_small.jpg'>"
      ],
      "text/plain": [
       "<IPython.core.display.HTML object>"
      ]
     },
     "metadata": {},
     "output_type": "display_data"
    },
    {
     "name": "stdout",
     "output_type": "stream",
     "text": [
      "Cluster: 11\n",
      "Medium: photo, chromogenic print on paper\n",
      "Title: Arrow \n",
      "Artist: Richard Billingham\n"
     ]
    },
    {
     "data": {
      "text/html": [
       "<img src='img_small/17_small.jpg'>"
      ],
      "text/plain": [
       "<IPython.core.display.HTML object>"
      ]
     },
     "metadata": {},
     "output_type": "display_data"
    },
    {
     "name": "stdout",
     "output_type": "stream",
     "text": [
      "Cluster: 11\n",
      "Medium: painting, oil on hardboard\n",
      "Title: Space and Matter \n",
      "Artist: Sandra Blow\n"
     ]
    },
    {
     "data": {
      "text/html": [
       "<img src='img_small/24_small.jpg'>"
      ],
      "text/plain": [
       "<IPython.core.display.HTML object>"
      ]
     },
     "metadata": {},
     "output_type": "display_data"
    },
    {
     "name": "stdout",
     "output_type": "stream",
     "text": [
      "Cluster: 11\n",
      "Medium: painting, oil on canvas\n",
      "Title: Trouble in Paradise \n",
      "Artist: Cecily Brown\n"
     ]
    },
    {
     "data": {
      "text/html": [
       "<img src='img_small/27_small.jpg'>"
      ],
      "text/plain": [
       "<IPython.core.display.HTML object>"
      ]
     },
     "metadata": {},
     "output_type": "display_data"
    },
    {
     "name": "stdout",
     "output_type": "stream",
     "text": [
      "Cluster: 11\n",
      "Medium: print, lithograph on paper\n",
      "Title: Ocean \n",
      "Artist: Vija Celmins\n"
     ]
    },
    {
     "data": {
      "text/html": [
       "<img src='img_small/28_small.jpg'>"
      ],
      "text/plain": [
       "<IPython.core.display.HTML object>"
      ]
     },
     "metadata": {},
     "output_type": "display_data"
    },
    {
     "name": "stdout",
     "output_type": "stream",
     "text": [
      "Cluster: 11\n",
      "Medium: drawing, charcoal on paper\n",
      "Title: Norwich from the East End: High Summer \n",
      "Artist: Dennis Creffield\n"
     ]
    },
    {
     "data": {
      "text/html": [
       "<img src='img_small/45_small.jpg'>"
      ],
      "text/plain": [
       "<IPython.core.display.HTML object>"
      ]
     },
     "metadata": {},
     "output_type": "display_data"
    },
    {
     "name": "stdout",
     "output_type": "stream",
     "text": [
      "Cluster: 11\n",
      "Medium: painting, oil & graphite on canvas\n",
      "Title: Untitled\n",
      "Artist: Arshile Gorky\n"
     ]
    },
    {
     "data": {
      "text/html": [
       "<img src='img_small/60_small.jpg'>"
      ],
      "text/plain": [
       "<IPython.core.display.HTML object>"
      ]
     },
     "metadata": {},
     "output_type": "display_data"
    },
    {
     "name": "stdout",
     "output_type": "stream",
     "text": [
      "Cluster: 11\n",
      "Medium: painting, acrylic on paper\n",
      "Title: Landscape of the Golem II \n",
      "Artist: Rebecca Horn \n"
     ]
    },
    {
     "data": {
      "text/html": [
       "<img src='img_small/72_small.jpg'>"
      ],
      "text/plain": [
       "<IPython.core.display.HTML object>"
      ]
     },
     "metadata": {},
     "output_type": "display_data"
    },
    {
     "name": "stdout",
     "output_type": "stream",
     "text": [
      "Cluster: 11\n",
      "Medium: painting, oil on canvas\n",
      "Title: Thermal \n",
      "Artist: Peter Lanyon\n"
     ]
    },
    {
     "data": {
      "text/html": [
       "<img src='img_small/94_small.jpg'>"
      ],
      "text/plain": [
       "<IPython.core.display.HTML object>"
      ]
     },
     "metadata": {},
     "output_type": "display_data"
    },
    {
     "name": "stdout",
     "output_type": "stream",
     "text": [
      "Cluster: 11\n",
      "Medium: photo, 6 photos, gelatin silver prints on paper, & typed captions\n",
      "Title: Six Sculptures\n",
      "Artist: Bruce McLean\n"
     ]
    },
    {
     "data": {
      "text/html": [
       "<img src='img_small/108_small.jpg'>"
      ],
      "text/plain": [
       "<IPython.core.display.HTML object>"
      ]
     },
     "metadata": {},
     "output_type": "display_data"
    },
    {
     "name": "stdout",
     "output_type": "stream",
     "text": [
      "Cluster: 11\n",
      "Medium: painting, acrylic paint & chalk on canvas\n",
      "Title: Meridians VIII \n",
      "Artist: Avis Newman\n"
     ]
    },
    {
     "data": {
      "text/html": [
       "<img src='img_small/110_small.jpg'>"
      ],
      "text/plain": [
       "<IPython.core.display.HTML object>"
      ]
     },
     "metadata": {},
     "output_type": "display_data"
    },
    {
     "name": "stdout",
     "output_type": "stream",
     "text": [
      "Cluster: 11\n",
      "Medium: painting, mixed media on canvas\n",
      "Title: More Fire and Ice\n",
      "Artist: Albert Oehlen\n"
     ]
    },
    {
     "data": {
      "text/html": [
       "<img src='img_small/114_small.jpg'>"
      ],
      "text/plain": [
       "<IPython.core.display.HTML object>"
      ]
     },
     "metadata": {},
     "output_type": "display_data"
    },
    {
     "name": "stdout",
     "output_type": "stream",
     "text": [
      "Cluster: 11\n",
      "Medium: painting, acrylic on canvas\n",
      "Title: Sahny-7\n",
      "Artist: Jules Olitski\n"
     ]
    },
    {
     "data": {
      "text/html": [
       "<img src='img_small/119_small.jpg'>"
      ],
      "text/plain": [
       "<IPython.core.display.HTML object>"
      ]
     },
     "metadata": {},
     "output_type": "display_data"
    },
    {
     "name": "stdout",
     "output_type": "stream",
     "text": [
      "Cluster: 11\n",
      "Medium: drawing, coffee, graphite & ink on paper\n",
      "Title: Study for Û÷Breath of ClayÛª \n",
      "Artist: Giuseppe Penone\n"
     ]
    },
    {
     "data": {
      "text/html": [
       "<img src='img_small/131_small.jpg'>"
      ],
      "text/plain": [
       "<IPython.core.display.HTML object>"
      ]
     },
     "metadata": {},
     "output_type": "display_data"
    },
    {
     "name": "stdout",
     "output_type": "stream",
     "text": [
      "Cluster: 11\n",
      "Medium: print, one of 10 photo-etchings on paper\n",
      "Title: Wrinkle \n",
      "Artist: Liliana Porter \n"
     ]
    },
    {
     "data": {
      "text/html": [
       "<img src='img_small/135_small.jpg'>"
      ],
      "text/plain": [
       "<IPython.core.display.HTML object>"
      ]
     },
     "metadata": {},
     "output_type": "display_data"
    },
    {
     "name": "stdout",
     "output_type": "stream",
     "text": [
      "Cluster: 11\n",
      "Medium: painting, oil & acrylic on canvas\n",
      "Title: Untitled (emergency room)\n",
      "Artist: Fiona Rae\n"
     ]
    },
    {
     "data": {
      "text/html": [
       "<img src='img_small/138_small.jpg'>"
      ],
      "text/plain": [
       "<IPython.core.display.HTML object>"
      ]
     },
     "metadata": {},
     "output_type": "display_data"
    },
    {
     "name": "stdout",
     "output_type": "stream",
     "text": [
      "Cluster: 11\n",
      "Medium: painting, oil on canvas\n",
      "Title: View through a Window II \n",
      "Artist: Isabel Rawsthorne\n"
     ]
    },
    {
     "data": {
      "text/html": [
       "<img src='img_small/140_small.jpg'>"
      ],
      "text/plain": [
       "<IPython.core.display.HTML object>"
      ]
     },
     "metadata": {},
     "output_type": "display_data"
    },
    {
     "name": "stdout",
     "output_type": "stream",
     "text": [
      "Cluster: 11\n",
      "Medium: painting, oil on canvas\n",
      "Title: Center of Dominance\n",
      "Artist: Judit Reigl\n"
     ]
    },
    {
     "data": {
      "text/html": [
       "<img src='img_small/144_small.jpg'>"
      ],
      "text/plain": [
       "<IPython.core.display.HTML object>"
      ]
     },
     "metadata": {},
     "output_type": "display_data"
    },
    {
     "name": "stdout",
     "output_type": "stream",
     "text": [
      "Cluster: 11\n",
      "Medium: painting, oil on canvas\n",
      "Title: Abstract Painting (726)\n",
      "Artist: Gerhard Richter\n"
     ]
    },
    {
     "data": {
      "text/html": [
       "<img src='img_small/147_small.jpg'>"
      ],
      "text/plain": [
       "<IPython.core.display.HTML object>"
      ]
     },
     "metadata": {},
     "output_type": "display_data"
    },
    {
     "name": "stdout",
     "output_type": "stream",
     "text": [
      "Cluster: 11\n",
      "Medium: painting, oil on canvas\n",
      "Title: Long Meadow\n",
      "Artist: Rita Donagh\n"
     ]
    },
    {
     "data": {
      "text/html": [
       "<img src='img_small/149_small.jpg'>"
      ],
      "text/plain": [
       "<IPython.core.display.HTML object>"
      ]
     },
     "metadata": {},
     "output_type": "display_data"
    },
    {
     "name": "stdout",
     "output_type": "stream",
     "text": [
      "Cluster: 11\n",
      "Medium: print, etching, drypoint & aquatint on paper\n",
      "Title: Sunglasses - Landing Net - Triangle\n",
      "Artist: James Rosenquist\n"
     ]
    },
    {
     "data": {
      "text/html": [
       "<img src='img_small/194_small.jpg'>"
      ],
      "text/plain": [
       "<IPython.core.display.HTML object>"
      ]
     },
     "metadata": {},
     "output_type": "display_data"
    },
    {
     "name": "stdout",
     "output_type": "stream",
     "text": [
      "Cluster: 11\n",
      "Medium: print, lithograph on paper\n",
      "Title: Abstract\n",
      "Artist: John Wells\n"
     ]
    },
    {
     "data": {
      "text/html": [
       "<img src='img_small/211_small.jpg'>"
      ],
      "text/plain": [
       "<IPython.core.display.HTML object>"
      ]
     },
     "metadata": {},
     "output_type": "display_data"
    },
    {
     "name": "stdout",
     "output_type": "stream",
     "text": [
      "Cluster: 11\n",
      "Medium: photo, archival pigment ink on fine art paper, mounted on dibond\n",
      "Title: Untitled #38, Ondes de perturbation series\n",
      "Artist: Nestor Da\n"
     ]
    },
    {
     "data": {
      "text/html": [
       "<img src='img_small/224_small.jpg'>"
      ],
      "text/plain": [
       "<IPython.core.display.HTML object>"
      ]
     },
     "metadata": {},
     "output_type": "display_data"
    },
    {
     "name": "stdout",
     "output_type": "stream",
     "text": [
      "Cluster: 11\n",
      "Medium: photo, digital print on archival paper\n",
      "Title: Dust\n",
      "Artist: Gigi Scaria\n"
     ]
    },
    {
     "data": {
      "text/html": [
       "<img src='img_small/225_small.jpg'>"
      ],
      "text/plain": [
       "<IPython.core.display.HTML object>"
      ]
     },
     "metadata": {},
     "output_type": "display_data"
    },
    {
     "name": "stdout",
     "output_type": "stream",
     "text": [
      "Cluster: 11\n",
      "Medium: drawing, charcoal & goauche on Hahnemuhle paper\n",
      "Title: Untitled (diptych)\n",
      "Artist: Aditi Singh\n"
     ]
    },
    {
     "data": {
      "text/html": [
       "<img src='img_small/258_small.jpg'>"
      ],
      "text/plain": [
       "<IPython.core.display.HTML object>"
      ]
     },
     "metadata": {},
     "output_type": "display_data"
    },
    {
     "name": "stdout",
     "output_type": "stream",
     "text": [
      "Cluster: 11\n",
      "Medium: painting, acrylic slip on paper\n",
      "Title: Liquid Space I\n",
      "Artist: Jack Whitten\n"
     ]
    },
    {
     "data": {
      "text/html": [
       "<img src='img_small/260_small.jpg'>"
      ],
      "text/plain": [
       "<IPython.core.display.HTML object>"
      ]
     },
     "metadata": {},
     "output_type": "display_data"
    },
    {
     "name": "stdout",
     "output_type": "stream",
     "text": [
      "Cluster: 11\n",
      "Medium: photo, digital print\n",
      "Title: Green Echo\n",
      "Artist: Jeff Elrod\n"
     ]
    },
    {
     "data": {
      "text/html": [
       "<img src='img_small/265_small.jpg'>"
      ],
      "text/plain": [
       "<IPython.core.display.HTML object>"
      ]
     },
     "metadata": {},
     "output_type": "display_data"
    },
    {
     "name": "stdout",
     "output_type": "stream",
     "text": [
      "Cluster: 11\n",
      "Medium: photo, digital C Print, UV solvent print\n",
      "Title: B&W #06\n",
      "Artist: Michele Abeles\n"
     ]
    },
    {
     "data": {
      "text/html": [
       "<img src='img_small/270_small.jpg'>"
      ],
      "text/plain": [
       "<IPython.core.display.HTML object>"
      ]
     },
     "metadata": {},
     "output_type": "display_data"
    },
    {
     "name": "stdout",
     "output_type": "stream",
     "text": [
      "Cluster: 11\n",
      "Medium: painting, oil on canvas\n",
      "Title: Opacity Velocity\n",
      "Artist: Pat Steir \n"
     ]
    },
    {
     "data": {
      "text/html": [
       "<img src='img_small/277_small.jpg'>"
      ],
      "text/plain": [
       "<IPython.core.display.HTML object>"
      ]
     },
     "metadata": {},
     "output_type": "display_data"
    },
    {
     "name": "stdout",
     "output_type": "stream",
     "text": [
      "Cluster: 11\n",
      "Medium: print, lithograph\n",
      "Title: Untitled from Supernova\n",
      "Artist: John Armleder\n"
     ]
    },
    {
     "data": {
      "text/html": [
       "<img src='img_small/283_small.jpg'>"
      ],
      "text/plain": [
       "<IPython.core.display.HTML object>"
      ]
     },
     "metadata": {},
     "output_type": "display_data"
    },
    {
     "name": "stdout",
     "output_type": "stream",
     "text": [
      "Cluster: 11\n",
      "Medium: drawing, human hair and fingernail on handmade paper\n",
      "Title: Hair Drawing\n",
      "Artist: Mona Hatoum\n"
     ]
    },
    {
     "data": {
      "text/html": [
       "<img src='img_small/301_small.jpg'>"
      ],
      "text/plain": [
       "<IPython.core.display.HTML object>"
      ]
     },
     "metadata": {},
     "output_type": "display_data"
    },
    {
     "name": "stdout",
     "output_type": "stream",
     "text": [
      "Cluster: 11\n",
      "Medium: photo, film still, 16mm film (color, silent)\n",
      "Title: 23rd Psalm Branch (Part 1 & 2)\n",
      "Artist: Stan Brakhage\n"
     ]
    },
    {
     "data": {
      "text/html": [
       "<img src='img_small/302_small.jpg'>"
      ],
      "text/plain": [
       "<IPython.core.display.HTML object>"
      ]
     },
     "metadata": {},
     "output_type": "display_data"
    },
    {
     "name": "stdout",
     "output_type": "stream",
     "text": [
      "Cluster: 11\n",
      "Medium: drawing, gouache & oil stick on paper\n",
      "Title: Untitled (Landschaft, abstrakt)\n",
      "Artist: Markus LÌ_pertz\n"
     ]
    },
    {
     "data": {
      "text/html": [
       "<img src='img_small/303_small.jpg'>"
      ],
      "text/plain": [
       "<IPython.core.display.HTML object>"
      ]
     },
     "metadata": {},
     "output_type": "display_data"
    },
    {
     "name": "stdout",
     "output_type": "stream",
     "text": [
      "Cluster: 11\n",
      "Medium: drawing, ballpoint pen on paper\n",
      "Title: Untitled\n",
      "Artist: Harvey Tulcensky \n"
     ]
    },
    {
     "data": {
      "text/html": [
       "<img src='img_small/309_small.jpg'>"
      ],
      "text/plain": [
       "<IPython.core.display.HTML object>"
      ]
     },
     "metadata": {},
     "output_type": "display_data"
    },
    {
     "name": "stdout",
     "output_type": "stream",
     "text": [
      "Cluster: 11\n",
      "Medium: painting, watercolor on paper\n",
      "Title: Forcalquier A1\n",
      "Artist: Raoul De Keyser\n"
     ]
    },
    {
     "data": {
      "text/html": [
       "<img src='img_small/312_small.jpg'>"
      ],
      "text/plain": [
       "<IPython.core.display.HTML object>"
      ]
     },
     "metadata": {},
     "output_type": "display_data"
    },
    {
     "name": "stdout",
     "output_type": "stream",
     "text": [
      "Cluster: 11\n",
      "Medium: painting, oilstick on paper\n",
      "Title: Study for Black Like Me. #2\n",
      "Artist: Glenn Ligon\n"
     ]
    },
    {
     "data": {
      "text/html": [
       "<img src='img_small/315_small.jpg'>"
      ],
      "text/plain": [
       "<IPython.core.display.HTML object>"
      ]
     },
     "metadata": {},
     "output_type": "display_data"
    },
    {
     "name": "stdout",
     "output_type": "stream",
     "text": [
      "Cluster: 11\n",
      "Medium: painting, soot & watercolor on paper\n",
      "Title: River Rock and Smoke 4/13/90 #5\n",
      "Artist: John Cage\n"
     ]
    },
    {
     "data": {
      "text/html": [
       "<img src='img_small/318_small.jpg'>"
      ],
      "text/plain": [
       "<IPython.core.display.HTML object>"
      ]
     },
     "metadata": {},
     "output_type": "display_data"
    },
    {
     "name": "stdout",
     "output_type": "stream",
     "text": [
      "Cluster: 11\n",
      "Medium: drawing, pencil on paper\n",
      "Title: 24.4.90\n",
      "Artist: Gerhard Richter \n"
     ]
    },
    {
     "data": {
      "text/html": [
       "<img src='img_small/320_small.jpg'>"
      ],
      "text/plain": [
       "<IPython.core.display.HTML object>"
      ]
     },
     "metadata": {},
     "output_type": "display_data"
    },
    {
     "name": "stdout",
     "output_type": "stream",
     "text": [
      "Cluster: 11\n",
      "Medium: print, one from a portfolio of 14 aquatints on xerograph with chine collÌÎå©\n",
      "Title: VIII from The Temptation of Saint Antony I-XIV\n",
      "Artist: Tim Rollins, K.O.S. (Kids of Survival) \n"
     ]
    },
    {
     "data": {
      "text/html": [
       "<img src='img_small/327_small.jpg'>"
      ],
      "text/plain": [
       "<IPython.core.display.HTML object>"
      ]
     },
     "metadata": {},
     "output_type": "display_data"
    },
    {
     "name": "stdout",
     "output_type": "stream",
     "text": [
      "Cluster: 11\n",
      "Medium: painting, synthetic polymer paint and oil stick on paper\n",
      "Title: Untitled\n",
      "Artist: Not Vital\n"
     ]
    },
    {
     "data": {
      "text/html": [
       "<img src='img_small/336_small.jpg'>"
      ],
      "text/plain": [
       "<IPython.core.display.HTML object>"
      ]
     },
     "metadata": {},
     "output_type": "display_data"
    },
    {
     "name": "stdout",
     "output_type": "stream",
     "text": [
      "Cluster: 11\n",
      "Medium: drawing, ink & cut-and-pasted gelatin silver prints on paper\n",
      "Title: Plateau Beaubourg\n",
      "Artist: Brion Gysin \n"
     ]
    },
    {
     "data": {
      "text/html": [
       "<img src='img_small/339_small.jpg'>"
      ],
      "text/plain": [
       "<IPython.core.display.HTML object>"
      ]
     },
     "metadata": {},
     "output_type": "display_data"
    },
    {
     "name": "stdout",
     "output_type": "stream",
     "text": [
      "Cluster: 11\n",
      "Medium: drawing, spray paint on 3 sheets of offset printed musical composition paper\n",
      "Title: Symphony #269 from The Thousand Symphonies\n",
      "Artist: Dick Higgins\n"
     ]
    },
    {
     "data": {
      "text/html": [
       "<img src='img_small/340_small.jpg'>"
      ],
      "text/plain": [
       "<IPython.core.display.HTML object>"
      ]
     },
     "metadata": {},
     "output_type": "display_data"
    },
    {
     "name": "stdout",
     "output_type": "stream",
     "text": [
      "Cluster: 11\n",
      "Medium: print, lithograph\n",
      "Title: Untitled\n",
      "Artist: James Boynton \n"
     ]
    },
    {
     "data": {
      "text/html": [
       "<img src='img_small/344_small.jpg'>"
      ],
      "text/plain": [
       "<IPython.core.display.HTML object>"
      ]
     },
     "metadata": {},
     "output_type": "display_data"
    },
    {
     "name": "stdout",
     "output_type": "stream",
     "text": [
      "Cluster: 11\n",
      "Medium: print, one from a portfolio of 6 etchings with embossing\n",
      "Title: Concetto Spaziale from Six Original Etchings (Sei Acqueforti Originali)\n",
      "Artist: Lucio Fontana \n"
     ]
    },
    {
     "data": {
      "text/html": [
       "<img src='img_small/360_small.jpg'>"
      ],
      "text/plain": [
       "<IPython.core.display.HTML object>"
      ]
     },
     "metadata": {},
     "output_type": "display_data"
    },
    {
     "name": "stdout",
     "output_type": "stream",
     "text": [
      "Cluster: 11\n",
      "Medium: painting, oil on canvas\n",
      "Title: No. 5/No. 24\n",
      "Artist: Mark Rothko \n"
     ]
    },
    {
     "data": {
      "text/html": [
       "<img src='img_small/388_small.jpg'>"
      ],
      "text/plain": [
       "<IPython.core.display.HTML object>"
      ]
     },
     "metadata": {},
     "output_type": "display_data"
    },
    {
     "name": "stdout",
     "output_type": "stream",
     "text": [
      "Cluster: 11\n",
      "Medium: painting, oil on canvas\n",
      "Title: Norham Castle, Sunrise\n",
      "Artist: Joseph Mallord William Turner\n"
     ]
    },
    {
     "data": {
      "text/html": [
       "<img src='img_small/391_small.jpg'>"
      ],
      "text/plain": [
       "<IPython.core.display.HTML object>"
      ]
     },
     "metadata": {},
     "output_type": "display_data"
    },
    {
     "name": "stdout",
     "output_type": "stream",
     "text": [
      "Cluster: 11\n",
      "Medium: painting, polyvinyl acetate adhesive, acrylic & oil on canvas, mounted on plywood board\n",
      "Title: Work 65-B-1\n",
      "Artist: Takesada Matsutani \n"
     ]
    },
    {
     "data": {
      "text/html": [
       "<img src='img_small/400_small.jpg'>"
      ],
      "text/plain": [
       "<IPython.core.display.HTML object>"
      ]
     },
     "metadata": {},
     "output_type": "display_data"
    },
    {
     "name": "stdout",
     "output_type": "stream",
     "text": [
      "Cluster: 11\n",
      "Medium: photo, archival inkjet print\n",
      "Title: Market\n",
      "Artist: Wafaa Bilal\n"
     ]
    },
    {
     "data": {
      "text/html": [
       "<img src='img_small/404_small.jpg'>"
      ],
      "text/plain": [
       "<IPython.core.display.HTML object>"
      ]
     },
     "metadata": {},
     "output_type": "display_data"
    },
    {
     "name": "stdout",
     "output_type": "stream",
     "text": [
      "Cluster: 11\n",
      "Medium: drawing, burnt adhesive & graphite on Indian handmade paper\n",
      "Title: Wind Study\n",
      "Artist: Jitish Kallat\n"
     ]
    },
    {
     "data": {
      "text/html": [
       "<img src='img_small/405_small.jpg'>"
      ],
      "text/plain": [
       "<IPython.core.display.HTML object>"
      ]
     },
     "metadata": {},
     "output_type": "display_data"
    },
    {
     "name": "stdout",
     "output_type": "stream",
     "text": [
      "Cluster: 11\n",
      "Medium: painting, oil on canvas\n",
      "Title: Break-off \n",
      "Artist: Gillian Avery\n"
     ]
    }
   ],
   "source": [
    "from IPython.display import display, HTML\n",
    "\n",
    "for i in range(0, max(km.labels_)+1):\n",
    "    display(HTML(\"<h2>Images in cluster: \" + str(i) + \"</h2>\"))\n",
    "    for j in range(0, len(km.labels_)):\n",
    "        if km.labels_[j] == i:\n",
    "            img_path = \"img_small/\" + str(j+2) + '_small.jpg'\n",
    "            display(HTML(\"<img src='\" + img_path + \"'>\"))\n",
    "            print(\"Cluster:\", i)\n",
    "            print(\"Medium:\", data.loc[j, 'medium'])\n",
    "            print(\"Title:\", data.loc[j,'title'])\n",
    "            print(\"Artist:\", data.loc[j, 'artist'])\n"
   ]
  }
 ],
 "metadata": {
  "kernelspec": {
   "display_name": "Python 3 (ipykernel)",
   "language": "python",
   "name": "python3"
  },
  "language_info": {
   "codemirror_mode": {
    "name": "ipython",
    "version": 3
   },
   "file_extension": ".py",
   "mimetype": "text/x-python",
   "name": "python",
   "nbconvert_exporter": "python",
   "pygments_lexer": "ipython3",
   "version": "3.11.5"
  }
 },
 "nbformat": 4,
 "nbformat_minor": 2
}
